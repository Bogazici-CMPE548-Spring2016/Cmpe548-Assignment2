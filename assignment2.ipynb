{
 "cells": [
  {
   "cell_type": "markdown",
   "metadata": {},
   "source": [
    "# Assignment 2\n",
    "\n",
    "**Name:** Doruk Kilitçioğlu  \n",
    "**Student ID:** 2012400183"
   ]
  },
  {
   "cell_type": "code",
   "execution_count": 295,
   "metadata": {
    "collapsed": true
   },
   "outputs": [],
   "source": [
    "%matplotlib inline\n",
    "import numpy as np\n",
    "from numpy import linalg as LA\n",
    "import matplotlib.pyplot as plt\n",
    "import seaborn"
   ]
  },
  {
   "cell_type": "markdown",
   "metadata": {},
   "source": [
    "## 1) Importance Sampling\n",
    "\n",
    "Let $V$ define the area of the p-norm ball in 2D. Since the 2D p-norm balls have symmetry over $x$ and $y$ axes, we can define $V=4V_I$ where $V_I$ denotes the volume of p-norm ball that lies in quadrant $I$. The naive method of area estimation would be using Monte Carlo Integration by sampling $x \\sim \\mathcal{U}(0,1)$ and $y \\sim \\mathcal{U}(0,1)$ and doing a rejection sampling for the first quadrant p-norm ball. Instead we can use importance sampling with the proposal of exponential sampling for both x and y independently with $\\lambda = 5$.\n",
    "\n",
    "We need to estimate $V_I = \\int_\\Omega H(x,y)dxdy$ where $\\Omega = [0,1]x[0,1]$ and $H(x,y)$ is the function defining the area we want, which is in this case an indicator function that returns 1 if $x^p+y^p\\le 1$, and 0 otherwise. Due to this fact, what we are doing is not too different from rejection sampling, with a bit of extra.\n",
    "The Monte Carlo estimation for this integral is\n",
    "$$Q_N\\equiv \\frac{1}{N}\\sum_{i=1}^{N}\\frac{H(x_i,y_i)}{p(x_i,y_i)} $$\n",
    "where $p(x_i,y_i) = p(x_i)p(y_i)$ since the samples are independent."
   ]
  },
  {
   "cell_type": "code",
   "execution_count": 296,
   "metadata": {
    "collapsed": false
   },
   "outputs": [
    {
     "name": "stdout",
     "output_type": "stream",
     "text": [
      "Qn= 0.164251664102\n"
     ]
    }
   ],
   "source": [
    "N = 1000\n",
    "\n",
    "def indicator(x,y,p):\n",
    "    return np.absolute(x)**p + np.absolute(y)**p <= 1\n",
    "\n",
    "def sample_exp(N, lam = 5):\n",
    "    return -np.log(np.random.rand(N))/lam\n",
    "p = 0.5\n",
    "lam = 5\n",
    "x = sample_exp(N)\n",
    "y = sample_exp(N)\n",
    "Hx = indicator(x,y,p)\n",
    "px = (lam**2*np.exp(-lam*x)*np.exp(-lam*y))\n",
    "qn = np.sum(Hx/px) / N_1\n",
    "print('Qn=',qn)"
   ]
  },
  {
   "cell_type": "markdown",
   "metadata": {},
   "source": [
    "The area $V$ we want is simply $4Q_N$."
   ]
  },
  {
   "cell_type": "code",
   "execution_count": 297,
   "metadata": {
    "collapsed": false
   },
   "outputs": [
    {
     "name": "stdout",
     "output_type": "stream",
     "text": [
      "V= 0.657006656409\n"
     ]
    }
   ],
   "source": [
    "print('V=',4*qn)"
   ]
  },
  {
   "cell_type": "markdown",
   "metadata": {},
   "source": [
    "We can see that this value is close to the the actual area of $V_{actual}=\\frac{2}{3}$.\n",
    "\n",
    "The variance of the sampled population is estimated by the sample variance, which is\n",
    "$$\\sigma^2_N=\\frac{1}{N-1}\\sum_{i=1}^N(\\frac{H(x_i,y_i)}{p(x_i,y_i)}-\\mu)^2$$\n",
    "where $$\\mu=\\frac{1}{N}\\sum_{i=1}^N(\\frac{H(x_i,y_i)}{p(x_i,y_i)})$$ is the sample mean.\n",
    "\n",
    "The variance of the estimate is given by\n",
    "$$Var(Q_N)=Vol^2\\frac{\\sigma^2_N}{N}$$\n",
    "where $Vol$ is the volume covered by $\\Omega$, which is simply $1$ for this case."
   ]
  },
  {
   "cell_type": "code",
   "execution_count": 298,
   "metadata": {
    "collapsed": false,
    "scrolled": true
   },
   "outputs": [
    {
     "name": "stdout",
     "output_type": "stream",
     "text": [
      "Variance of sample population: 0.044686142465\n",
      "Variance of the estimate: 4.4686142465e-05\n"
     ]
    }
   ],
   "source": [
    "mean = np.mean(Hx/px)\n",
    "var_sample = (1/(N-1)) * np.sum((Hx/px - mean)**2)\n",
    "print('Variance of sample population:',var_sample)\n",
    "var_qn = var_sample / N\n",
    "print('Variance of the estimate:',var_qn)"
   ]
  },
  {
   "cell_type": "markdown",
   "metadata": {},
   "source": [
    "The formulas used above are available at [Wikipedia](https://en.wikipedia.org/wiki/Monte_Carlo_integration) in their general forms.\n",
    "## 2) Markov Chains\n",
    "### 2.a) Transition matrix\n",
    "The transition matrix is hand-calculated from the given dice."
   ]
  },
  {
   "cell_type": "code",
   "execution_count": 299,
   "metadata": {
    "collapsed": false
   },
   "outputs": [
    {
     "name": "stdout",
     "output_type": "stream",
     "text": [
      "[[ 0.25  0.    0.    0.    0.    0.25]\n",
      " [ 0.25  0.25  0.25  0.25  0.25  0.25]\n",
      " [ 0.25  0.25  0.    0.5   0.25  0.25]\n",
      " [ 0.    0.    0.5   0.    0.    0.  ]\n",
      " [ 0.    0.25  0.    0.    0.25  0.  ]\n",
      " [ 0.25  0.25  0.25  0.25  0.25  0.25]]\n"
     ]
    }
   ],
   "source": [
    "A = np.matrix([[0.25, 0.25, 0.25,    0,    0, 0.25], # side 1\n",
    "               [   0, 0.25, 0.25,    0, 0.25, 0.25],\n",
    "               [   0, 0.25,    0,  0.5,    0, 0.25],\n",
    "               [   0, 0.25,  0.5,    0,    0, 0.25],\n",
    "               [   0, 0.25, 0.25,    0, 0.25, 0.25],\n",
    "               [0.25, 0.25, 0.25,    0,    0, 0.25]]).T\n",
    "\n",
    "print(A)"
   ]
  },
  {
   "cell_type": "markdown",
   "metadata": {},
   "source": [
    "### 2.b) Stationary Distribution\n",
    "We calculate the stationary distribution by calculating the right eigenvector corresponding to the eigenvalue of 1."
   ]
  },
  {
   "cell_type": "code",
   "execution_count": 300,
   "metadata": {
    "collapsed": false,
    "scrolled": true
   },
   "outputs": [
    {
     "name": "stdout",
     "output_type": "stream",
     "text": [
      "Stationary distribution for x in [1,6]: [ 0.08333333  0.25        0.22222222  0.11111111  0.08333333  0.25      ]\n"
     ]
    }
   ],
   "source": [
    "eva, evec = LA.eig(A)\n",
    "i = np.argmax(np.isclose(eva, 1.0))\n",
    "v = np.squeeze(np.asarray(evec[:,i]))\n",
    "v = v / sum(v)\n",
    "print('Stationary distribution for x in [1,6]:',v)"
   ]
  },
  {
   "cell_type": "markdown",
   "metadata": {},
   "source": [
    "Stationary distribution is not uniform.\n",
    "\n",
    "### 2.c) Detailed balance condition\n",
    "In order for detailed balance condition to hold, the $A\\pi$ matrix must be symmetrical over the diagonal at t (same as saying $A_{ji}\\pi_i = A_{ij}\\pi_j$ must hold)."
   ]
  },
  {
   "cell_type": "code",
   "execution_count": 301,
   "metadata": {
    "collapsed": false
   },
   "outputs": [
    {
     "data": {
      "text/plain": [
       "False"
      ]
     },
     "execution_count": 301,
     "metadata": {},
     "output_type": "execute_result"
    }
   ],
   "source": [
    "x = np.multiply(A, v)\n",
    "np.isclose(x, x.T).all()"
   ]
  },
  {
   "cell_type": "markdown",
   "metadata": {},
   "source": [
    "### 2.d) Calculating the mix time\n",
    "We calculate $T_{mix}$ by looking at the total variation distance between $\\pi$ and $A^t\\pi_0$, continuing until the difference is smaller than $\\epsilon = 10^{-8}$. Note that we use their logarithms so that the code is scalable for even smaller $\\epsilon$."
   ]
  },
  {
   "cell_type": "code",
   "execution_count": 302,
   "metadata": {
    "collapsed": false,
    "scrolled": true
   },
   "outputs": [
    {
     "name": "stdout",
     "output_type": "stream",
     "text": [
      "Mix time: 24\n"
     ]
    }
   ],
   "source": [
    "def total_variation_distance(v1, v2):\n",
    "    return np.sum(np.absolute(v1 - v2)) / 2\n",
    "\n",
    "def mix_time(A, init_pi, v_stationary, eps = float(1e-8)):\n",
    "    t_mix = 0\n",
    "    log_tvd = 0\n",
    "    log_eps = np.log(float(1e-8))\n",
    "    At = np.identity(len(A))\n",
    "    while log_tvd > log_eps:\n",
    "        t_mix += 1\n",
    "        At = At * A\n",
    "        log_tvd = np.log(total_variation_distance(At*init_pi, v_stationary))\n",
    "    return t_mix\n",
    "\n",
    "init_pi = np.matrix([1,0,0,0,0,0]).T\n",
    "v_t = np.matrix(v).T\n",
    "t_mix = mix_time(A, init_pi,v_t)\n",
    "print('Mix time:',t_mix)"
   ]
  },
  {
   "cell_type": "markdown",
   "metadata": {},
   "source": [
    "### 2.e) Verification of convergence\n",
    "We visualize $A^t$ for $t = \\{1,3,7, T_{mix}-1, T_{mix}\\}$ to see its convergence."
   ]
  },
  {
   "cell_type": "code",
   "execution_count": 303,
   "metadata": {
    "collapsed": false,
    "scrolled": true
   },
   "outputs": [
    {
     "data": {
      "image/png": "[encoded data removed]",
      "text/plain": [
       "<matplotlib.figure.Figure at 0x7f4042960390>"
      ]
     },
     "metadata": {},
     "output_type": "display_data"
    }
   ],
   "source": [
    "ts = [1,3,7,t_mix-1, t_mix]\n",
    "f, subplot = plt.subplots(1,len(ts), figsize=(16,5))\n",
    "for i in range(len(ts)):\n",
    "    subplot[i].imshow(A ** ts[i], aspect = 'equal', interpolation='none', cmap = 'PuBu')\n",
    "    subplot[i].set_title('t = '+str(ts[i]))\n",
    "    subplot[i].grid(False)"
   ]
  },
  {
   "cell_type": "markdown",
   "metadata": {},
   "source": [
    "We verify the mixing time by plotting $A^t\\pi_0$ for $0\\lt t\\le T_{mix}$."
   ]
  },
  {
   "cell_type": "code",
   "execution_count": 304,
   "metadata": {
    "collapsed": false
   },
   "outputs": [
    {
     "data": {
      "text/plain": [
       "<matplotlib.axes._subplots.AxesSubplot at 0x7f4042af34e0>"
      ]
     },
     "execution_count": 304,
     "metadata": {},
     "output_type": "execute_result"
    },
    {
     "data": {
      "image/png": "[encoded data removed]",
      "text/plain": [
       "<matplotlib.figure.Figure at 0x7f4042ba5208>"
      ]
     },
     "metadata": {},
     "output_type": "display_data"
    }
   ],
   "source": [
    "At = np.identity(len(A))\n",
    "\n",
    "A_plt = np.zeros((len(A),t_mix))\n",
    "for i in range(0,t_mix):\n",
    "    At = At * A\n",
    "    A_plt[:,i] = np.array((At * init_pi).T)[0]\n",
    "\n",
    "seaborn.heatmap(A_plt, yticklabels=range(1,7))"
   ]
  },
  {
   "cell_type": "markdown",
   "metadata": {},
   "source": [
    "### 2.f) Independent samples\n",
    "In order to generate completely independent samples from the desired distribution, we start the chain *N* times and get the $X^n_t$ where $t = T_{mix}$ for $0\\lt n\\le N$. We then plot the distribution of these samples at different *t*. Note that the generated values are actually in [0,5] with each number $i$ pointing to the dice side with $i+1$ value."
   ]
  },
  {
   "cell_type": "code",
   "execution_count": 305,
   "metadata": {
    "collapsed": false,
    "scrolled": true
   },
   "outputs": [
    {
     "name": "stdout",
     "output_type": "stream",
     "text": [
      "Distribution at t=T_mix: [ 0.086  0.242  0.219  0.104  0.082  0.267]\n"
     ]
    },
    {
     "data": {
      "image/png": "[encoded data removed]",
      "text/plain": [
       "<matplotlib.figure.Figure at 0x7f4042a02470>"
      ]
     },
     "metadata": {},
     "output_type": "display_data"
    }
   ],
   "source": [
    "N = 1000\n",
    "np.random.seed(N)\n",
    "def sim_chain(A, i_end):\n",
    "    chain = np.zeros(i_end, dtype = np.int)\n",
    "    chain[0] = 0\n",
    "    for i in range(1,i_end):\n",
    "        pr = np.squeeze(np.asarray(A[:, chain[i-1]]))\n",
    "        chain[i] = np.random.choice(range(6), p = pr)\n",
    "    return chain\n",
    "    \n",
    "samples = np.zeros((N,t_mix), dtype = np.int)\n",
    "for i in range(0, N):\n",
    "    samples[i,:] = sim_chain(A, t_mix)\n",
    "\n",
    "xx = np.apply_along_axis(lambda x: np.histogram(x, bins = [0,1,2,3,4,5,6], density = True)[0], 0, samples)\n",
    "seaborn.heatmap(xx, yticklabels=range(1,7))\n",
    "print('Distribution at t=T_mix:',xx[:,-1])"
   ]
  },
  {
   "cell_type": "markdown",
   "metadata": {},
   "source": [
    "The colors are easier to see when plotted starting from $t=2$ since the probability of $X_t=1$ is always 1, which is never again reached after $t=1$."
   ]
  },
  {
   "cell_type": "code",
   "execution_count": 306,
   "metadata": {
    "collapsed": false
   },
   "outputs": [
    {
     "data": {
      "text/plain": [
       "<matplotlib.axes._subplots.AxesSubplot at 0x7f4042c8e668>"
      ]
     },
     "execution_count": 306,
     "metadata": {},
     "output_type": "execute_result"
    },
    {
     "data": {
      "image/png": "[encoded data removed]",
      "text/plain": [
       "<matplotlib.figure.Figure at 0x7f4042cb29e8>"
      ]
     },
     "metadata": {},
     "output_type": "display_data"
    }
   ],
   "source": [
    "seaborn.heatmap(xx[:,1:], yticklabels=range(1,7))"
   ]
  },
  {
   "cell_type": "markdown",
   "metadata": {},
   "source": [
    "### 2.g) Single chain dependent samples\n",
    "We simulate the chain for $T_{mix} + N$ steps, and discard the first $T_{mix}$ steps."
   ]
  },
  {
   "cell_type": "code",
   "execution_count": 307,
   "metadata": {
    "collapsed": false,
    "scrolled": false
   },
   "outputs": [
    {
     "data": {
      "text/plain": [
       "<matplotlib.axes._subplots.AxesSubplot at 0x7f4042afe588>"
      ]
     },
     "execution_count": 307,
     "metadata": {},
     "output_type": "execute_result"
    },
    {
     "data": {
      "image/png": "[encoded data removed]",
      "text/plain": [
       "<matplotlib.figure.Figure at 0x7f404295dc88>"
      ]
     },
     "metadata": {},
     "output_type": "display_data"
    }
   ],
   "source": [
    "chain = sim_chain(A, t_mix+N)\n",
    "nburnin = t_mix\n",
    "seaborn.distplot(chain[nburnin:], kde = False, bins = [0,1,2,3,4,5,6])"
   ]
  },
  {
   "cell_type": "markdown",
   "metadata": {},
   "source": [
    "To easily see whether this histogram agrees with the intended probability distribution, we calculate their total variation distance."
   ]
  },
  {
   "cell_type": "code",
   "execution_count": 308,
   "metadata": {
    "collapsed": false
   },
   "outputs": [
    {
     "name": "stdout",
     "output_type": "stream",
     "text": [
      "Expected probabilities: [ 0.08333333  0.25        0.22222222  0.11111111  0.08333333  0.25      ]\n",
      "Single chain probabilities: [ 0.085  0.237  0.222  0.105  0.093  0.258]\n",
      "Total variation distance: 0.0193333333333\n"
     ]
    }
   ],
   "source": [
    "px = np.bincount(chain[nburnin:].astype(int))\n",
    "px = px / np.sum(px)\n",
    "print('Expected probabilities:',v)\n",
    "print('Single chain probabilities:',px)\n",
    "print('Total variation distance:',total_variation_distance(v,px))"
   ]
  },
  {
   "cell_type": "markdown",
   "metadata": {},
   "source": [
    "We see that the variation between the expected probabilities and the dependent samples from a single chain is very low, and as such, it is a strong indication that these samples are coming from the same distribution."
   ]
  }
 ],
 "metadata": {
  "kernelspec": {
   "display_name": "Python 3",
   "language": "python",
   "name": "python3"
  },
  "language_info": {
   "codemirror_mode": {
    "name": "ipython",
    "version": 3
   },
   "file_extension": ".py",
   "mimetype": "text/x-python",
   "name": "python",
   "nbconvert_exporter": "python",
   "pygments_lexer": "ipython3",
   "version": "3.5.1"
  }
 },
 "nbformat": 4,
 "nbformat_minor": 0
}
