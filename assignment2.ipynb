{
 "cells": [
  {
   "cell_type": "markdown",
   "metadata": {},
   "source": [
    "### 1) TO-DO"
   ]
  },
  {
   "cell_type": "code",
   "execution_count": null,
   "metadata": {
    "collapsed": true
   },
   "outputs": [],
   "source": []
  },
  {
   "cell_type": "markdown",
   "metadata": {},
   "source": [
    "### 2.a) Transition matrix\n",
    "The transition matrix is hand-calculated from the given dice."
   ]
  },
  {
   "cell_type": "code",
   "execution_count": 89,
   "metadata": {
    "collapsed": false
   },
   "outputs": [
    {
     "name": "stdout",
     "output_type": "stream",
     "text": [
      "[[ 0.25  0.25  0.25  0.25  0.25  0.25]\n",
      " [ 0.    0.25  0.    0.    0.25  0.  ]\n",
      " [ 0.    0.    0.    0.5   0.    0.  ]\n",
      " [ 0.25  0.25  0.5   0.    0.25  0.25]\n",
      " [ 0.25  0.25  0.25  0.25  0.25  0.25]\n",
      " [ 0.25  0.    0.    0.    0.    0.25]]\n"
     ]
    }
   ],
   "source": [
    "%matplotlib inline\n",
    "import numpy as np\n",
    "from numpy import linalg as LA\n",
    "import matplotlib.pyplot as plt\n",
    "import seaborn\n",
    "\n",
    "A = np.matrix([[0.25,    0,   0, 0.25, 0.25, 0.25], # side 1\n",
    "               [0.25, 0.25,   0, 0.25, 0.25,    0],\n",
    "               [0.25,    0,   0,  0.5, 0.25,    0],\n",
    "               [0.25,    0, 0.5,    0, 0.25,    0],\n",
    "               [0.25, 0.25,   0, 0.25, 0.25,    0],\n",
    "               [0.25,    0,   0, 0.25, 0.25, 0.25]]).T\n",
    "\n",
    "print(A)"
   ]
  },
  {
   "cell_type": "markdown",
   "metadata": {},
   "source": [
    "### 2.b) Stationary Distribution\n",
    "We calculate the stationary distribution by calculating the right eigenvector corresponding to the eigenvalue of 1."
   ]
  },
  {
   "cell_type": "code",
   "execution_count": 161,
   "metadata": {
    "collapsed": false,
    "scrolled": true
   },
   "outputs": [
    {
     "name": "stdout",
     "output_type": "stream",
     "text": [
      "Stationary distribution for x in [1,6]: [ 0.25000000-0.j  0.08333333-0.j  0.11111111-0.j  0.22222222-0.j\n",
      "  0.25000000-0.j  0.08333333-0.j]\n"
     ]
    }
   ],
   "source": [
    "eva, evec = LA.eig(A)\n",
    "i = np.argmax(np.isclose(eva, 1.0))\n",
    "v = np.squeeze(np.asarray(evec[:,i]))\n",
    "v = v / sum(v)\n",
    "print('Stationary distribution for x in [1,6]:',v)"
   ]
  },
  {
   "cell_type": "markdown",
   "metadata": {},
   "source": [
    "Stationary distribution is not uniform.\n",
    "\n",
    "### 2.c) Detailed balance condition\n",
    "In order for detailed balance condition to hold, the $A\\pi$ matrix must be symmetrical over the diagonal at t (same as saying $A_{ji}\\pi_i = A_{ij}\\pi_j$ must hold)."
   ]
  },
  {
   "cell_type": "code",
   "execution_count": 162,
   "metadata": {
    "collapsed": false
   },
   "outputs": [
    {
     "data": {
      "text/plain": [
       "False"
      ]
     },
     "execution_count": 162,
     "metadata": {},
     "output_type": "execute_result"
    }
   ],
   "source": [
    "x = np.multiply(A, v)\n",
    "np.isclose(x, x.T).all()"
   ]
  },
  {
   "cell_type": "markdown",
   "metadata": {},
   "source": [
    "### 2.d) Calculating the mix time\n",
    "We calculate $T_{mix}$ by looking at the total variation distance between $\\pi$ and $A^t\\pi_0$, continuing until the difference is smaller than $\\epsilon = 10^{-8}$. Note that we use their logarithms so that the code is scalable for even smaller $\\epsilon$."
   ]
  },
  {
   "cell_type": "code",
   "execution_count": 92,
   "metadata": {
    "collapsed": false,
    "scrolled": true
   },
   "outputs": [
    {
     "name": "stdout",
     "output_type": "stream",
     "text": [
      "Mix time: 23\n"
     ]
    }
   ],
   "source": [
    "def total_variation_distance(v1, v2):\n",
    "    return np.sum(np.absolute(v1 - v2)) / 2\n",
    "\n",
    "def mix_time(A, v_stationary, eps = float(1e-8)):\n",
    "    t_mix = 0\n",
    "    log_tvd = 0\n",
    "    log_eps = np.log(float(1e-8))\n",
    "    At = np.identity(len(A))\n",
    "    while log_tvd > log_eps:\n",
    "        t_mix += 1\n",
    "        At = At * A\n",
    "        log_tvd = np.log(total_variation_distance(At*A[:,0], v_stationary))\n",
    "    return t_mix\n",
    "\n",
    "v_t = np.matrix(v).T\n",
    "t_mix = mix_time(A, v_t)\n",
    "print('Mix time:',t_mix)"
   ]
  },
  {
   "cell_type": "markdown",
   "metadata": {},
   "source": [
    "### 2.e) Verification of convergence\n",
    "We visualize $A^t$ for $t = \\{1,3,7, T_{mix}-1, T_{mix}\\}$ to see its convergence."
   ]
  },
  {
   "cell_type": "code",
   "execution_count": 93,
   "metadata": {
    "collapsed": false,
    "scrolled": true
   },
   "outputs": [
    {
     "data": {
      "image/png": "[encoded data removed]",
      "text/plain": [
       "<matplotlib.figure.Figure at 0x7f4043a61668>"
      ]
     },
     "metadata": {},
     "output_type": "display_data"
    }
   ],
   "source": [
    "ts = [1,3,7,t_mix-1, t_mix]\n",
    "f, subplot = plt.subplots(1,len(ts), figsize=(16,5))\n",
    "for i in range(len(ts)):\n",
    "    subplot[i].imshow(A ** ts[i], aspect = 'equal', interpolation='none', cmap = 'PuBu')\n",
    "    subplot[i].set_title('t = '+str(ts[i]))\n",
    "    subplot[i].grid(False)"
   ]
  },
  {
   "cell_type": "markdown",
   "metadata": {},
   "source": [
    "We verify the mixing time by plotting $A^t\\pi_0$ for $0\\lt t\\le T_{mix}$."
   ]
  },
  {
   "cell_type": "code",
   "execution_count": 155,
   "metadata": {
    "collapsed": false
   },
   "outputs": [
    {
     "data": {
      "image/png": "[encoded data removed]",
      "text/plain": [
       "<matplotlib.figure.Figure at 0x7f40433c9c88>"
      ]
     },
     "metadata": {},
     "output_type": "display_data"
    }
   ],
   "source": [
    "At = np.identity(len(A))\n",
    "\n",
    "A_plt = np.zeros((len(A),t_mix))\n",
    "for i in range(0,t_mix):\n",
    "    At = At * A\n",
    "    A_plt[:,i] = np.array((At * A[:,0]).T)[0]\n",
    "\n",
    "f, subplot = plt.subplots(figsize=(10,10))\n",
    "subplot.imshow(A_plt, aspect = 'equal', interpolation = 'none', cmap = 'PuBu')\n",
    "subplot.set_title('Probability distribution with respect to t')\n",
    "subplot.grid(False)"
   ]
  },
  {
   "cell_type": "markdown",
   "metadata": {},
   "source": [
    "### 2.f) Independent samples\n",
    "In order to generate completely independent samples from the desired distribution, we start the chain *N* times and get the $X^n_t$ where $t = T_{mix}$ for $0\\lt n\\le N$. We then plot the distribution of these samples at different *t*."
   ]
  },
  {
   "cell_type": "code",
   "execution_count": 147,
   "metadata": {
    "collapsed": false,
    "scrolled": true
   },
   "outputs": [
    {
     "name": "stdout",
     "output_type": "stream",
     "text": [
      "Distribution at t=T_mix: [ 0.23090909  0.089       0.109       0.21        0.273       0.065     ]\n"
     ]
    },
    {
     "data": {
      "image/png": "[encoded data removed]",
      "text/plain": [
       "<matplotlib.figure.Figure at 0x7f40431d2668>"
      ]
     },
     "metadata": {},
     "output_type": "display_data"
    }
   ],
   "source": [
    "N = 1000\n",
    "np.random.seed(N)\n",
    "def sim_chain(A, i_end):\n",
    "    chain = np.zeros(i_end, dtype = np.int)\n",
    "    chain[0] = 1\n",
    "    for i in range(1,i_end):\n",
    "        pr = np.squeeze(np.asarray(A[:, chain[i-1]-1]))\n",
    "        chain[i] = np.random.choice([1,2,3,4,5,6], p = pr)\n",
    "    return chain\n",
    "    \n",
    "samples = np.zeros((N,t_mix), dtype = np.int)\n",
    "for i in range(0, N):\n",
    "    samples[i,:] = sim_chain(A, t_mix)\n",
    "\n",
    "xx = np.apply_along_axis(lambda x: np.histogram(x, bins = [0,1.1,2.1,3.1,4.1,5.1,6.1], density = True)[0], 0, samples)\n",
    "f, subplot = plt.subplots(figsize=(10,10))\n",
    "subplot.imshow(xx, aspect = 'equal', interpolation = 'none', cmap = 'PuBu')\n",
    "subplot.set_title('Probabilities')\n",
    "subplot.grid(False)\n",
    "print('Distribution at t=T_mix:',xx[:,-1])"
   ]
  },
  {
   "cell_type": "markdown",
   "metadata": {},
   "source": [
    "The colors are easier to see when plotted starting from $t=2$ since the probability of $X_t=1$ is always 1, which is never again reached after $t=1$."
   ]
  },
  {
   "cell_type": "code",
   "execution_count": 152,
   "metadata": {
    "collapsed": false
   },
   "outputs": [
    {
     "data": {
      "image/png": "[encoded data removed]",
      "text/plain": [
       "<matplotlib.figure.Figure at 0x7f40433def28>"
      ]
     },
     "metadata": {},
     "output_type": "display_data"
    }
   ],
   "source": [
    "f, subplot = plt.subplots(figsize=(10,10))\n",
    "subplot.imshow(xx[:,1:], aspect = 'equal', interpolation = 'none', cmap = 'PuBu')\n",
    "subplot.set_title('Probabilities')\n",
    "subplot.grid(False)"
   ]
  },
  {
   "cell_type": "markdown",
   "metadata": {},
   "source": [
    "### 2.g) Single chain dependent samples\n",
    "We simulate the chain for $T_{mix} + N$ steps, and discard the first $T_{mix}$ steps."
   ]
  },
  {
   "cell_type": "code",
   "execution_count": 41,
   "metadata": {
    "collapsed": false,
    "scrolled": false
   },
   "outputs": [
    {
     "data": {
      "text/plain": [
       "<matplotlib.axes._subplots.AxesSubplot at 0x7f40436f2f60>"
      ]
     },
     "execution_count": 41,
     "metadata": {},
     "output_type": "execute_result"
    },
    {
     "data": {
      "image/png": "[encoded data removed]",
      "text/plain": [
       "<matplotlib.figure.Figure at 0x7f4043672c18>"
      ]
     },
     "metadata": {},
     "output_type": "display_data"
    }
   ],
   "source": [
    "chain = sim_chain(A, t_mix+N)\n",
    "nburnin = t_mix\n",
    "seaborn.distplot(chain[nburnin:], kde = False, bins = [0,1,2,3,4,5,6])"
   ]
  },
  {
   "cell_type": "markdown",
   "metadata": {},
   "source": [
    "To easily see whether this histogram agrees with the intended probability distribution, we calculate their total variation distance."
   ]
  },
  {
   "cell_type": "code",
   "execution_count": 43,
   "metadata": {
    "collapsed": false
   },
   "outputs": [
    {
     "name": "stdout",
     "output_type": "stream",
     "text": [
      "Expected probabilities: [ 0.25000000-0.j  0.08333333-0.j  0.11111111-0.j  0.22222222-0.j\n",
      "  0.25000000-0.j  0.08333333-0.j]\n",
      "Single chain probabilities: [ 0.262  0.076  0.115  0.234  0.237  0.076]\n",
      "Total variation distance: 0.0276666666667\n"
     ]
    }
   ],
   "source": [
    "px = np.bincount(chain[nburnin:].astype(int))\n",
    "px = px / np.sum(px)\n",
    "print('Expected probabilities:',v)\n",
    "print('Single chain probabilities:',px)\n",
    "print('Total variation distance:',total_variation_distance(v,px))"
   ]
  },
  {
   "cell_type": "markdown",
   "metadata": {},
   "source": [
    "We see that the variation between the expected probabilities and the dependent samples from a single chain is very low, and as such, it is a strong indication that these samples are coming from the same distribution."
   ]
  }
 ],
 "metadata": {
  "kernelspec": {
   "display_name": "Python 3",
   "language": "python",
   "name": "python3"
  },
  "language_info": {
   "codemirror_mode": {
    "name": "ipython",
    "version": 3
   },
   "file_extension": ".py",
   "mimetype": "text/x-python",
   "name": "python",
   "nbconvert_exporter": "python",
   "pygments_lexer": "ipython3",
   "version": "3.5.1"
  }
 },
 "nbformat": 4,
 "nbformat_minor": 0
}
