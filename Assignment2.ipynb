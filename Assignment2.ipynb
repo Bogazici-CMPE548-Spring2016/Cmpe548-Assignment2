{
 "cells": [
  {
   "cell_type": "markdown",
   "metadata": {},
   "source": [
    "## Assignment 2\n",
    "Abdulkadir Çelikkanat\n",
    "  \n",
    "_Since the equations not rendered properly on some browsers, similar [report](https://github.com/abdcelikkanat/Cmpe548-Assignment2/blob/master/report.pdf) in pdf format also added._"
   ]
  },
  {
   "cell_type": "code",
   "execution_count": 3,
   "metadata": {
    "collapsed": false
   },
   "outputs": [],
   "source": [
    "%matplotlib inline\n",
    "import numpy as np\n",
    "import matplotlib.pyplot as plt\n",
    "from numpy import linalg as LA"
   ]
  },
  {
   "cell_type": "markdown",
   "metadata": {},
   "source": [
    "__Problem 1 (Importance Sampling)__"
   ]
  },
  {
   "cell_type": "markdown",
   "metadata": {},
   "source": [
    "Let R be $\\{(x,y):|x|+|y| \\leq 1\\}$ which is rotated square as in the previous assignment, and $\\Omega = \\{(x,y):|x|^p + |y|^p \\leq 1\\}$ for p=0.5 , and say that area of the region $\\Omega$ is $c$. Then, define the function $f(x) = c\\mathbb{1}_{\\Omega}$. Therefore, the expectation of f(x) \n",
    "$$\n",
    "\\mathbb{E}_{p}[f(x)] = \\int_{R}f(x)dp = \\int_{\\Omega}c\\mathbb{1}_{\\Omega}dp = cp(\\Omega) = c\n",
    "$$\n",
    "gives the area of $\\Omega$, where p is the uniform probability measure function on $\\Omega$.\n",
    "After changing the probabiliy measure in the equation, it can be rewritten as\n",
    "$$\n",
    "\\mathbb{E}_{p}[f(x)] = \\int_{\\Omega}f(x)dp = \\int_{R}f(x)\\frac{p(x)}{q(x)}dq = \\int_{R}f(x)w(x)dq = \\mathbb{E}_{q}[f(x)w(x)]\n",
    "$$\n",
    "q(x) is uniform probability measure on R. Then, by Monte Carlo estimation, it can be obtained that\n",
    "\n",
    "$$\n",
    "c =\\mathbb{E}_{p}[f(x)] = \\frac{1}{N}\\sum_{i=1}^{N}f(x^{(i)})w(x^{(i)}) = \\frac{1}{N}\\sum_{i=1}^{N}c\\mathbb{1}_{\\Omega}(x^{(i)})\\frac{\\frac{1}{c}}{\\frac{1}{2}} =  \\frac{2}{N}\\sum_{i=1}^{N}\\mathbb{1}_{\\Omega}(x^{(i)})\n",
    "$$\n",
    "where $x^{(i)}$ $\\sim$ q(x). The last equation indeed equals to rejection sampling."
   ]
  },
  {
   "cell_type": "markdown",
   "metadata": {},
   "source": [
    "Firstly, the function to uniformly sample points from the region __R__ is implemented below."
   ]
  },
  {
   "cell_type": "code",
   "execution_count": 4,
   "metadata": {
    "collapsed": false
   },
   "outputs": [],
   "source": [
    "def sampleFromRotatedSquare(N):\n",
    "    # Definiton of rotation matrix in counter clockwise direction\n",
    "    R = np.array([[np.sqrt(2.0)/2, -np.sqrt(2.0)/2], [np.sqrt(2.0)/2, np.sqrt(2.0)/2]])\n",
    "    \n",
    "    # Draw random points from the square [-2^(0.5)/2, 2^(0.5)/2]^2\n",
    "    x = np.random.uniform(-np.sqrt(2.0)/2, np.sqrt(2.0)/2, N)\n",
    "    y = np.random.uniform(-np.sqrt(2.0)/2, np.sqrt(2.0)/2, N)\n",
    "    \n",
    "    # Rotate points\n",
    "    [rx, ry] = R.dot([x, y])\n",
    "    \n",
    "    return np.vstack((rx, ry))"
   ]
  },
  {
   "cell_type": "markdown",
   "metadata": {},
   "source": [
    "Now the area of the region $\\Omega$ can be found as described above."
   ]
  },
  {
   "cell_type": "code",
   "execution_count": 5,
   "metadata": {
    "collapsed": false
   },
   "outputs": [
    {
     "name": "stdout",
     "output_type": "stream",
     "text": [
      "The estimated area : 0.65\n"
     ]
    }
   ],
   "source": [
    "N = 1000 #number of samples\n",
    "samples = sampleFromRotatedSquare(N)\n",
    "\n",
    "p = 0.5\n",
    "# Get the samples inside\n",
    "inx = LA.norm(samples, ord=p, axis=0) < 1\n",
    "\n",
    "c = (2.0/N) * (np.sum(inx))\n",
    "print \"The estimated area : \" + str(c)"
   ]
  },
  {
   "cell_type": "markdown",
   "metadata": {},
   "source": [
    "...which is close to the real value $\\frac{2}{3} = 0.\\tilde{6}$"
   ]
  },
  {
   "cell_type": "markdown",
   "metadata": {},
   "source": [
    "Since the variance of f(x)w(x) equals to\n",
    "$$ Var_{q}(f(x)w(x)) = Var_{q}(f(x)\\frac{p(x)}{q(x)}) =  Var_{q}(c\\mathbb{1}_{\\Omega}\\frac{1/c}{1/2}) = 4 Var_{q}(\\mathbb{1}_{\\Omega}) $$"
   ]
  },
  {
   "cell_type": "code",
   "execution_count": 6,
   "metadata": {
    "collapsed": false
   },
   "outputs": [
    {
     "name": "stdout",
     "output_type": "stream",
     "text": [
      "Variance : 0.8775\n"
     ]
    }
   ],
   "source": [
    "var = 4.0*np.var(inx)\n",
    "print \"Variance : \" + str(var)"
   ]
  },
  {
   "cell_type": "markdown",
   "metadata": {},
   "source": [
    "#### Problem 2 "
   ]
  },
  {
   "cell_type": "markdown",
   "metadata": {},
   "source": [
    "__a) Construction of the transition kernel__"
   ]
  },
  {
   "cell_type": "code",
   "execution_count": 7,
   "metadata": {
    "collapsed": false
   },
   "outputs": [
    {
     "name": "stdout",
     "output_type": "stream",
     "text": [
      "[[ 0.25  0.    0.    0.    0.    0.25]\n",
      " [ 0.25  0.25  0.25  0.25  0.25  0.25]\n",
      " [ 0.25  0.25  0.    0.5   0.25  0.25]\n",
      " [ 0.    0.    0.5   0.    0.    0.  ]\n",
      " [ 0.    0.25  0.    0.    0.25  0.  ]\n",
      " [ 0.25  0.25  0.25  0.25  0.25  0.25]]\n"
     ]
    }
   ],
   "source": [
    "A = np.array([[0.25, 0, 0, 0, 0, 0.25],\n",
    "             [0.25, 0.25, 0.25, 0.25, 0.25, 0.25],\n",
    "             [0.25, 0.25, 0, 0.5, 0.25, 0.25],\n",
    "             [0, 0, 0.5, 0, 0, 0],\n",
    "             [0, 0.25, 0, 0, 0.25, 0],\n",
    "             [0.25, 0.25, 0.25, 0.25, 0.25, 0.25]])\n",
    "print A"
   ]
  },
  {
   "cell_type": "markdown",
   "metadata": {},
   "source": [
    "__b) Stationary distribution__  "
   ]
  },
  {
   "cell_type": "markdown",
   "metadata": {},
   "source": [
    "Since $A^3 > 0$, the transition matrix A is regular, so ergodic. "
   ]
  },
  {
   "cell_type": "code",
   "execution_count": 8,
   "metadata": {
    "collapsed": false,
    "scrolled": true
   },
   "outputs": [
    {
     "name": "stdout",
     "output_type": "stream",
     "text": [
      "Eigenvalues : [ 1.    0.25  0.   -0.5   0.25  0.  ]\n",
      "Stationary distribution\n",
      "[ 0.08333333  0.25        0.22222222  0.11111111  0.08333333  0.25      ]\n"
     ]
    }
   ],
   "source": [
    "(D, Q) = np.linalg.eig(A)\n",
    "# Get the first eigenvector which corresponds to eigenvalue 1\n",
    "u = Q[:,0]\n",
    "# Normalize eigenvector\n",
    "u = u / np.sum(u)\n",
    "print \"Eigenvalues : \" + str(np.around(D,decimals=4))\n",
    "print \"Stationary distribution\"\n",
    "print u"
   ]
  },
  {
   "cell_type": "markdown",
   "metadata": {},
   "source": [
    "..., so the stationary distribution is not uniform.\n",
    "\n",
    "__c) Detailed balance equation__"
   ]
  },
  {
   "cell_type": "markdown",
   "metadata": {},
   "source": [
    "To satisfy the detailed balance equation, the matrix obtained by elementwise multiplication of A with eigenvector 'u' should be symmetric "
   ]
  },
  {
   "cell_type": "code",
   "execution_count": 9,
   "metadata": {
    "collapsed": false
   },
   "outputs": [
    {
     "name": "stdout",
     "output_type": "stream",
     "text": [
      "False\n"
     ]
    }
   ],
   "source": [
    "# Multiply elementwise the kernel 'A' and eigenvector 'u'\n",
    "S = np.multiply(A,u)\n",
    "# Check whether 'S' is symmetric or not\n",
    "print np.allclose(S.T, S)"
   ]
  },
  {
   "cell_type": "markdown",
   "metadata": {},
   "source": [
    "Hence, it does not satify the detailed balance equation."
   ]
  },
  {
   "cell_type": "markdown",
   "metadata": {},
   "source": [
    "__d) The mixing time__"
   ]
  },
  {
   "cell_type": "code",
   "execution_count": 10,
   "metadata": {
    "collapsed": false,
    "scrolled": true
   },
   "outputs": [
    {
     "name": "stdout",
     "output_type": "stream",
     "text": [
      "The mixing time : 24\n"
     ]
    }
   ],
   "source": [
    "epsilon = (1e-8)\n",
    "\n",
    "Tmix = 1\n",
    "p = [1, 0, 0, 0, 0, 0] #Initial position\n",
    "s = np.dot(A,p)\n",
    "while (0.5*LA.norm(s-u, ord=1) > epsilon):\n",
    "    s = np.dot(A,s)\n",
    "    Tmix += 1\n",
    "\n",
    "print \"The mixing time : \" + str(Tmix)"
   ]
  },
  {
   "cell_type": "markdown",
   "metadata": {},
   "source": [
    "__e) Visualization of some intermediary powers of A__"
   ]
  },
  {
   "cell_type": "code",
   "execution_count": 11,
   "metadata": {
    "collapsed": false,
    "scrolled": false
   },
   "outputs": [
    {
     "data": {
      "image/png": "[encoded data removed]",
      "text/plain": [
       "<matplotlib.figure.Figure at 0xad6e080>"
      ]
     },
     "metadata": {},
     "output_type": "display_data"
    }
   ],
   "source": [
    "(f, axs) = plt.subplots(2,4,figsize=(12,5))\n",
    "\n",
    "for inx, power in enumerate([1,3,4,5,7,10,24,100]):\n",
    "    E = LA.matrix_power(A,power)\n",
    "    im = axs[inx/4][inx%4].imshow(E, interpolation='none', cmap='Blues')\n",
    "    axs[inx/4][inx%4].set_title('$A^{'+str(power)+'}$')  \n",
    "plt.show()"
   ]
  },
  {
   "cell_type": "markdown",
   "metadata": {},
   "source": [
    "__f) Independent Chains __"
   ]
  },
  {
   "cell_type": "markdown",
   "metadata": {},
   "source": [
    "The function below is used to generate chains for a given transiton kernel _K_, initial state, number of chains _N_, and length of chain _M_ "
   ]
  },
  {
   "cell_type": "code",
   "execution_count": 12,
   "metadata": {
    "collapsed": false,
    "scrolled": false
   },
   "outputs": [],
   "source": [
    "def generateChains(K, initState, N, M):\n",
    "    # K is the transition kernel\n",
    "    # N is the number of chains\n",
    "    # M is the length of chain\n",
    "    chains = np.zeros((N,M), dtype=np.int)\n",
    "    chains[:,0] = initState-1 # -1, since index starts from 0\n",
    "    for n in range(N):\n",
    "        for m in range(1,M):\n",
    "            chains[n][m] = np.random.choice(range(6), p=K[:,chains[n][m-1]])\n",
    "    \n",
    "    return (chains+1) # +1, since index starts from 0"
   ]
  },
  {
   "cell_type": "code",
   "execution_count": 13,
   "metadata": {
    "collapsed": false
   },
   "outputs": [
    {
     "data": {
      "image/png": "[encoded data removed]",
      "text/plain": [
       "<matplotlib.figure.Figure at 0xbf82fd0>"
      ]
     },
     "metadata": {},
     "output_type": "display_data"
    }
   ],
   "source": [
    "# Generate 1000 independent sequence of length Tmix with inital state '1'\n",
    "chains = generateChains(A,1,1000,Tmix)\n",
    "\n",
    "# Generate histograms\n",
    "col = np.zeros(1000)\n",
    "t = np.array([[j for j in np.histogram(chains[:,i], bins=range(1,8))[0][:]] for i in range(Tmix)])\n",
    "\n",
    "# Plot the figure\n",
    "fig, ax = plt.subplots(figsize=(15, 5))\n",
    "im = ax.imshow(t.T,interpolation='none', cmap='Blues')\n",
    "fig.colorbar(im, fraction=0.012, pad=0.01)\n",
    "plt.show()"
   ]
  },
  {
   "cell_type": "markdown",
   "metadata": {},
   "source": [
    "__g) Dependent Samples__"
   ]
  },
  {
   "cell_type": "code",
   "execution_count": 14,
   "metadata": {
    "collapsed": false,
    "scrolled": true
   },
   "outputs": [
    {
     "data": {
      "image/png": "[encoded data removed]",
      "text/plain": [
       "<matplotlib.figure.Figure at 0xad607f0>"
      ]
     },
     "metadata": {},
     "output_type": "display_data"
    }
   ],
   "source": [
    "# Generate a chain of length 1000\n",
    "chain = generateChains(A,1,1,1000)[0]\n",
    "\n",
    "# Extract the histogram after discarding first Tmix terms\n",
    "(counts, edges) = np.histogram(chain[Tmix::], bins=range(1,8),density=True)\n",
    "\n",
    "# Plot the histogram and stationary distribution\n",
    "xaxis = np.arange(1,7) + 0.5\n",
    "p1 = plt.bar(range(1,7), counts, color='LightSteelBlue',width=1.0)\n",
    "p2 = plt.plot(xaxis,u,'ro')\n",
    "plt.xticks(xaxis, range(1,7))\n",
    "plt.ylim([0, 0.35])\n",
    "plt.legend((p1[0], p2[0]), ('Samples', 'Stationary'))\n",
    "plt.show()"
   ]
  },
  {
   "cell_type": "code",
   "execution_count": 15,
   "metadata": {
    "collapsed": false
   },
   "outputs": [
    {
     "name": "stdout",
     "output_type": "stream",
     "text": [
      "Stationary distribution\n",
      "[ 0.0833  0.25    0.2222  0.1111  0.0833  0.25  ]\n",
      "Sample distribution\n",
      "[ 0.0789  0.2531  0.2234  0.1178  0.0932  0.2336]\n"
     ]
    }
   ],
   "source": [
    "print \"Stationary distribution\"\n",
    "print np.around(u,decimals=4)\n",
    "print \"Sample distribution\"\n",
    "print np.around(counts,decimals=4)"
   ]
  },
  {
   "cell_type": "code",
   "execution_count": null,
   "metadata": {
    "collapsed": true
   },
   "outputs": [],
   "source": []
  },
  {
   "cell_type": "code",
   "execution_count": null,
   "metadata": {
    "collapsed": true
   },
   "outputs": [],
   "source": []
  }
 ],
 "metadata": {
  "kernelspec": {
   "display_name": "Python 2",
   "language": "python",
   "name": "python2"
  },
  "language_info": {
   "codemirror_mode": {
    "name": "ipython",
    "version": 2
   },
   "file_extension": ".py",
   "mimetype": "text/x-python",
   "name": "python",
   "nbconvert_exporter": "python",
   "pygments_lexer": "ipython2",
   "version": "2.7.11"
  }
 },
 "nbformat": 4,
 "nbformat_minor": 0
}
