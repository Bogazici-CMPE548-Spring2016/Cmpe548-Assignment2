{
 "cells": [
  {
   "cell_type": "markdown",
   "metadata": {},
   "source": [
    "## Importance Sampling\n",
    "\n",
    "Target density function can be defined as $ Pr( \\left \\| x \\right \\|_\\frac{1}{2} \\leq  1 ) $. Inspiring from the paper[1] and the post[2], I used the probability density function of multivariate gaussian distribution as proposal. Then, my proposal becomes $ \\frac{1}{\\sqrt{(2\\pi)\\left |  \\Sigma  \\right |}}exp(-\\frac{1}{2}(x-\\mu )^{\\tau }\\Sigma^{-1}(x-\\mu )) $ where $\\Sigma$ is covariance matrix and $\\mu$  is the mean value. \n",
    "\n",
    "Then weight function, $w(x) = \\frac{\\pi (x)}{q(x)}$ is equal to 0 if $ Pr( \\left \\| x \\right \\|_\\frac{1}{2} \\leq  1 ) = 0 $ ;  $\\frac{1}{q(x)}$ otherwise. \n",
    "\n",
    "Hencefort, The only thing to do is computing expectations by reweighting generated points with respect to the proposal function. Then the area calculation comes into play, reweighted points are averaged to estimate the area of 0.5-norm closed unit ball.\n",
    "\n",
    "Note: covariance matrix is determined as [[0.1,0], [0,0.1]] because it yields minimum variance.\n",
    "\n",
    "[1] : http://iacs-courses.seas.harvard.edu/courses/iacs_projects/BenCookCorn/am207/assets/pdf/cook-am207.pdf\n",
    "\n",
    "[2] : http://math.stackexchange.com/questions/145980/probability-that-a-multivariate-normal-rv-lies-within-a-spherical-region-of-radi"
   ]
  },
  {
   "cell_type": "code",
   "execution_count": 1,
   "metadata": {
    "collapsed": false
   },
   "outputs": [],
   "source": [
    "%matplotlib inline\n",
    "import matplotlib.pyplot as plt\n",
    "import numpy as np\n",
    "from scipy.stats import multivariate_normal\n",
    "import math\n",
    "import seaborn as sns\n",
    "\n",
    "N = 1000\n",
    "p = 0.5\n",
    "mean = np.array(np.zeros(shape=2))\n",
    "cov = [[0.1,0],[0,0.1]]"
   ]
  },
  {
   "cell_type": "code",
   "execution_count": 2,
   "metadata": {
    "collapsed": false
   },
   "outputs": [],
   "source": [
    "def pNormUnitBallCondition(v,p):\n",
    "    return np.power((np.power(np.abs(v[0]),p) + np.power(np.abs(v[1]),p)),1.0/p) <= float(1.0)"
   ]
  },
  {
   "cell_type": "code",
   "execution_count": 40,
   "metadata": {
    "collapsed": false
   },
   "outputs": [
    {
     "name": "stdout",
     "output_type": "stream",
     "text": [
      "Estimated area for N=1000: 0.65139189791\n"
     ]
    }
   ],
   "source": [
    "## importance sampling from p-norm unit ball \n",
    "## my proposal will be the normalized multivariate gaussian distribution with mean = [0,0] \n",
    "## and covariance matrix = [[0.1,0], [0,1.0]]\n",
    "\n",
    "def proposal(v):\n",
    "    return multivariate_normal.pdf(v,mean,cov)\n",
    "\n",
    "def weightFunction(v,p):\n",
    "    if pNormUnitBallCondition(v,p):\n",
    "        return (1.0 / proposal(v))\n",
    "    else:\n",
    "        return 0\n",
    "def area():\n",
    "    randomVectors = np.random.multivariate_normal(mean,cov,N)\n",
    "    weights = [weightFunction(v,p) for v in randomVectors]\n",
    "    return np.mean(weights)\n",
    "\n",
    "#area estimation\n",
    "areaEstimations = [area() for i in range(5)]\n",
    "print(\"Estimated area for N=\" + str(N) + \": \" + str(np.mean(areaEstimations)))"
   ]
  },
  {
   "cell_type": "code",
   "execution_count": 41,
   "metadata": {
    "collapsed": false
   },
   "outputs": [
    {
     "name": "stdout",
     "output_type": "stream",
     "text": [
      "Variance N=1000: 0.000533327091328\n"
     ]
    }
   ],
   "source": [
    "variance = np.var(areaEstimations)\n",
    "print(\"Variance N=\" + str(N) + \": \" + str(variance))"
   ]
  },
  {
   "cell_type": "markdown",
   "metadata": {},
   "source": [
    "## Markov Chains"
   ]
  },
  {
   "cell_type": "markdown",
   "metadata": {},
   "source": [
    "a) Transition matrix corresponding to the game can be defined as\n",
    "$$ \\begin{pmatrix}\n",
    " &.25  &.25  &.25  &.25  &.25  &.25\\\\ \n",
    " &0       &.25  &0  &0  &.25 &0 \\\\ \n",
    " &0       &0  &0  &0.5  &0  &0\\\\ \n",
    " &.25  &.25  &.5  &0  &.25  &.25\\\\ \n",
    " &.25  &.25  &.25  &.25  &.25  &.25\\\\ \n",
    " &.25  &0  &0  &0  &0  &.25\\\\\n",
    "\\end{pmatrix} $$\n",
    "\n",
    "Where colums are the transition vectors from state $\\chi _{t-1} $ to $\\chi _{t}$"
   ]
  },
  {
   "cell_type": "code",
   "execution_count": 21,
   "metadata": {
    "collapsed": false
   },
   "outputs": [],
   "source": [
    "transitionMatrix = np.array([\n",
    "    [0.25, 0.25, 0.25, 0.25, 0.25, 0.25],\n",
    "    [0,    0.25, 0,    0,    0.25, 0   ],\n",
    "    [0,    0,    0,    0.5,  0,    0   ],\n",
    "    [0.25, 0.25, 0.5,  0,    0.25, 0.25],\n",
    "    [0.25, 0.25, 0.25, 0.25, 0.25, 0.25],\n",
    "    [0.25, 0,    0,    0,    0,    0.25]\n",
    "])"
   ]
  },
  {
   "cell_type": "markdown",
   "metadata": {},
   "source": [
    "b) In this case, the stationary distribution is not uniform distribution.(Also it does not satisfy detailed balance condition)"
   ]
  },
  {
   "cell_type": "code",
   "execution_count": 200,
   "metadata": {
    "collapsed": false
   },
   "outputs": [
    {
     "name": "stdout",
     "output_type": "stream",
     "text": [
      "Stationary distribution:\n",
      "\n",
      "[[ 0.25        0.25        0.25        0.25        0.25        0.25      ]\n",
      " [ 0.08333333  0.08333333  0.08333333  0.08333333  0.08333333  0.08333333]\n",
      " [ 0.11111111  0.11111111  0.11111111  0.11111111  0.11111111  0.11111111]\n",
      " [ 0.22222222  0.22222222  0.22222222  0.22222222  0.22222222  0.22222222]\n",
      " [ 0.25        0.25        0.25        0.25        0.25        0.25      ]\n",
      " [ 0.08333333  0.08333333  0.08333333  0.08333333  0.08333333  0.08333333]]\n",
      "Stationary distribution (as vector):\n",
      "\n",
      "[[ 0.25      ]\n",
      " [ 0.08333333]\n",
      " [ 0.11111111]\n",
      " [ 0.22222222]\n",
      " [ 0.25      ]\n",
      " [ 0.08333333]]\n"
     ]
    }
   ],
   "source": [
    "eigenValues, eigenVectors = np.linalg.eig(np.transpose(transitionMatrix))\n",
    "#print(\"Eigen values: \" + str(eigenValues))\n",
    "#print(\"Eigen vectors:\")\n",
    "#print(\"\" + str(eigenVectors))\n",
    "\n",
    "projectionMatrix = np.matrix(eigenVectors)\n",
    "projectionMatrix = np.transpose(projectionMatrix)\n",
    "projectionMatrixInv = np.linalg.inv(projectionMatrix)\n",
    "diagonaleMatrix = np.diag(eigenValues)\n",
    "\n",
    "#print(\"Diagonale matrix:\")\n",
    "#print(\"\" + str(diagonaleMatrix))\n",
    "\n",
    "def powerOfMatrix(p):\n",
    "    return np.matrix(projectionMatrixInv * np.linalg.matrix_power(diagonaleMatrix,p) * projectionMatrix)\n",
    "\n",
    "stationaryMatrix = powerOfMatrix(100)\n",
    "stationaryDistVector = stationaryMatrix[:,0]\n",
    "print(\"Stationary distribution:\")\n",
    "print(\"\")\n",
    "print(\"\" + str(stationaryMatrix))\n",
    "print(\"Stationary distribution (as vector):\")\n",
    "print(\"\")\n",
    "print(\"\" + str(stationaryDistVector))\n",
    "\n",
    "#print(\"Projection matrix:\")\n",
    "#print(\"\" + str(projectionMatrix))"
   ]
  },
  {
   "cell_type": "markdown",
   "metadata": {},
   "source": [
    "c) This distribution does not satisfy the detailed balance condition. As an example, I computed transitions from state 3 to 4 and state 4 to 3."
   ]
  },
  {
   "cell_type": "code",
   "execution_count": 5,
   "metadata": {
    "collapsed": false
   },
   "outputs": [
    {
     "name": "stdout",
     "output_type": "stream",
     "text": [
      "Satisfy detailed balance?: False\n"
     ]
    }
   ],
   "source": [
    "#state transition from state 3 to 4\n",
    "def satisfyDetailedBalance():\n",
    "    p3to4 = 0.25\n",
    "    p4to3 = 0.5\n",
    "    piOf3 = [0.25, 0, 0, 0.5, 0.25, 0]\n",
    "    piOf4 = [0.25, 0, 0.5, 0, 0.25, 0]\n",
    "    result1 = [i*p3to4 for i in piOf3]\n",
    "    result2 = [i*p4to3 for i in piOf4]\n",
    "    #print(\"Result 1: \" + str(result1) )\n",
    "    #print(\"Result 2: \" + str(result2) )\n",
    "    return result1 == result2\n",
    "\n",
    "print(\"Satisfy detailed balance?: \" + str(satisfyDetailedBalance()))  "
   ]
  },
  {
   "cell_type": "markdown",
   "metadata": {},
   "source": [
    "d) Tmix value is 25 in this distribution."
   ]
  },
  {
   "cell_type": "code",
   "execution_count": 202,
   "metadata": {
    "collapsed": false
   },
   "outputs": [
    {
     "name": "stdout",
     "output_type": "stream",
     "text": [
      "Tmix: 25\n"
     ]
    }
   ],
   "source": [
    "epsilon = 1e-8\n",
    "x_0 = np.array([[1],[0],[0],[0],[0],[0]])\n",
    "Tmix = 0\n",
    "def valTmix(e):\n",
    "    x = np.dot(np.matrix(transitionMatrix), np.matrix(x_0))\n",
    "    variationDistance = np.linalg.norm(np.matrix(x)-np.matrix(x_0),1)*0.5\n",
    "    t_mix = 1;\n",
    "    while(variationDistance > e):\n",
    "        x_ = np.dot(np.matrix(transitionMatrix), np.matrix(x))\n",
    "        variationDistance = np.linalg.norm(np.matrix(x)-np.matrix(x_),1)*0.5 #total variation norm.\n",
    "        x = x_\n",
    "        t_mix += 1\n",
    "    print(\"Tmix: \" + str(t_mix))\n",
    "    return tMix;\n",
    "        \n",
    "Tmix = valTmix(epsilon)    \n",
    "    "
   ]
  },
  {
   "cell_type": "markdown",
   "metadata": {
    "collapsed": true
   },
   "source": [
    "e)"
   ]
  },
  {
   "cell_type": "code",
   "execution_count": 64,
   "metadata": {
    "collapsed": false,
    "scrolled": true
   },
   "outputs": [
    {
     "data": {
      "image/png": "[encoded data removed]",
      "text/plain": [
       "<matplotlib.figure.Figure at 0x1118ac6d8>"
      ]
     },
     "metadata": {},
     "output_type": "display_data"
    }
   ],
   "source": [
    "f, ax = plt.subplots(1,8, figsize=(20,20))\n",
    "for i,n in enumerate([1,3,5,8,10,25,500,1000]):\n",
    "    ax[i].set_title(\"N = \"+ str(n))\n",
    "    ax[i].imshow(np.linalg.matrix_power(np.matrix(transitionMatrix),n), 'gray', origin='lower',interpolation='none')\n",
    "    "
   ]
  },
  {
   "cell_type": "markdown",
   "metadata": {},
   "source": [
    "f) Sampling independent chains"
   ]
  },
  {
   "cell_type": "code",
   "execution_count": 239,
   "metadata": {
    "collapsed": false,
    "scrolled": true
   },
   "outputs": [
    {
     "data": {
      "image/png": "[encoded data removed]",
      "text/plain": [
       "<matplotlib.figure.Figure at 0x111a6c400>"
      ]
     },
     "metadata": {},
     "output_type": "display_data"
    }
   ],
   "source": [
    "def independentChain(state, tmix):\n",
    "    samples= []\n",
    "    for i in range(tmix):\n",
    "        samples.append(state)\n",
    "        state = np.random.choice(range(6), p=transitionMatrix[:,state])\n",
    "    #print(str(samples))\n",
    "    return samples\n",
    "\n",
    "def generateChains(n,state,tmix):\n",
    "    chains = np.zeros([n, tmix])\n",
    "    for i in range(n):\n",
    "        chain = independentChain(state,tmix)\n",
    "        chains[i][:] = chain\n",
    "    #print(str(chains))\n",
    "    return chains\n",
    "\n",
    "def generateHistogramsOfChains(chainList,tmix,N):\n",
    "    return np.array([[j for j in np.histogram(chainList[:,i], bins=range(1,8))[0][:]] for i in range(tmix)])\n",
    "    \n",
    "\n",
    "chains = generateChains(1000,0,25)\n",
    "histogram = generateHistogramsOfChains(chains,25,1000)\n",
    "#print(str(histogram))\n",
    "# Plot the figure\n",
    "fig, ax = plt.subplots(figsize=(15, 10))\n",
    "ax.imshow(histogram.T,'gray',interpolation='none')\n",
    "plt.show()"
   ]
  },
  {
   "cell_type": "markdown",
   "metadata": {},
   "source": [
    "g)"
   ]
  },
  {
   "cell_type": "code",
   "execution_count": 201,
   "metadata": {
    "collapsed": false
   },
   "outputs": [
    {
     "data": {
      "text/plain": [
       "[<matplotlib.lines.Line2D at 0x112dedfd0>]"
      ]
     },
     "execution_count": 201,
     "metadata": {},
     "output_type": "execute_result"
    },
    {
     "data": {
      "image/png": "[encoded data removed]",
      "text/plain": [
       "<matplotlib.figure.Figure at 0x112dedf98>"
      ]
     },
     "metadata": {},
     "output_type": "display_data"
    }
   ],
   "source": [
    "def singleChain(N,tmix):\n",
    "    chain = []\n",
    "    state = np.random.randint(6)\n",
    "    for i in range(N + tmix):\n",
    "        state = np.random.choice(range(6), p=transitionMatrix[:,state])\n",
    "        if(i > tmix):\n",
    "            chain.append(state)\n",
    "    \n",
    "    return chain;\n",
    "        \n",
    "plt.hist(singleChain(1000,25))        \n",
    "plt.plot(range(6),stationaryDistVector*1000)    "
   ]
  },
  {
   "cell_type": "code",
   "execution_count": null,
   "metadata": {
    "collapsed": true
   },
   "outputs": [],
   "source": []
  }
 ],
 "metadata": {
  "kernelspec": {
   "display_name": "Python 3",
   "language": "python",
   "name": "python3"
  },
  "language_info": {
   "codemirror_mode": {
    "name": "ipython",
    "version": 3
   },
   "file_extension": ".py",
   "mimetype": "text/x-python",
   "name": "python",
   "nbconvert_exporter": "python",
   "pygments_lexer": "ipython3",
   "version": "3.5.1"
  }
 },
 "nbformat": 4,
 "nbformat_minor": 0
}
