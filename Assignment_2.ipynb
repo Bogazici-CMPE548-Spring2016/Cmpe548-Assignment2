{
 "cells": [
  {
   "cell_type": "code",
   "execution_count": 1,
   "metadata": {
    "collapsed": true
   },
   "outputs": [],
   "source": [
    "%matplotlib inline\n",
    "import numpy as np\n",
    "import matplotlib.pyplot as plt"
   ]
  },
  {
   "cell_type": "code",
   "execution_count": 2,
   "metadata": {
    "collapsed": false
   },
   "outputs": [
    {
     "name": "stdout",
     "output_type": "stream",
     "text": [
      "[[0.25, 0, 0, 0, 0, 0.25], [0.25, 0.25, 0.25, 0.25, 0.25, 0.25], [0.25, 0.25, 0, 0.5, 0.25, 0.25], [0, 0, 0.5, 0, 0, 0], [0, 0.25, 0, 0, 0.25, 0], [0.25, 0.25, 0.25, 0.25, 0.25, 0.25]]\n"
     ]
    }
   ],
   "source": [
    "#transition matrix\n",
    "\n",
    "A=[[0.25, 0,    0,    0,    0,    0.25], \n",
    "   [0.25, 0.25, 0.25, 0.25, 0.25, 0.25],\n",
    "   [0.25, 0.25, 0,    0.5,  0.25, 0.25],\n",
    "   [0,    0,    0.5,  0,    0,    0   ],\n",
    "   [0,    0.25, 0,    0,    0.25, 0   ],\n",
    "   [0.25, 0.25, 0.25, 0.25, 0.25, 0.25]]\n",
    "\n",
    "print(A)"
   ]
  },
  {
   "cell_type": "code",
   "execution_count": 3,
   "metadata": {
    "collapsed": false
   },
   "outputs": [],
   "source": [
    "aygen = np.linalg.eig(A)"
   ]
  },
  {
   "cell_type": "code",
   "execution_count": 4,
   "metadata": {
    "collapsed": false
   },
   "outputs": [
    {
     "data": {
      "text/plain": [
       "array([ 0.08333333,  0.25      ,  0.22222222,  0.11111111,  0.08333333,\n",
       "        0.25      ])"
      ]
     },
     "execution_count": 4,
     "metadata": {},
     "output_type": "execute_result"
    }
   ],
   "source": [
    "pi=np.transpose(aygen[1])[0]\n",
    "pi=np.real(pi)\n",
    "pi/=sum(pi)\n",
    "pi"
   ]
  },
  {
   "cell_type": "code",
   "execution_count": 5,
   "metadata": {
    "collapsed": false,
    "scrolled": true
   },
   "outputs": [
    {
     "name": "stdout",
     "output_type": "stream",
     "text": [
      "[[ 0.02083333  0.          0.          0.          0.          0.02083333]\n",
      " [ 0.0625      0.0625      0.0625      0.0625      0.0625      0.0625    ]\n",
      " [ 0.05555556  0.05555556  0.          0.11111111  0.05555556  0.05555556]\n",
      " [ 0.          0.          0.05555556  0.          0.          0.        ]\n",
      " [ 0.          0.02083333  0.          0.          0.02083333  0.        ]\n",
      " [ 0.0625      0.0625      0.0625      0.0625      0.0625      0.0625    ]]\n"
     ]
    }
   ],
   "source": [
    "piscalar = np.diag(pi)\n",
    "print(np.matmul(piscalar, A))"
   ]
  },
  {
   "cell_type": "markdown",
   "metadata": {},
   "source": [
    "We observe that the transition matrix, after its columns scaled with corresponding values in the stationary distribution, is not symmetrical. We conclude that the detailed balance condition is not met."
   ]
  },
  {
   "cell_type": "code",
   "execution_count": 6,
   "metadata": {
    "collapsed": false
   },
   "outputs": [
    {
     "name": "stdout",
     "output_type": "stream",
     "text": [
      "25\n"
     ]
    }
   ],
   "source": [
    "e= 10**-8\n",
    "t_mix=0\n",
    "naught=[1,0,0,0,0,0]\n",
    "while sum(np.absolute(naught-pi))>e:\n",
    "    naught=np.matmul(A, naught)\n",
    "    t_mix+=1\n",
    "    \n",
    "print(t_mix)"
   ]
  },
  {
   "cell_type": "code",
   "execution_count": 7,
   "metadata": {
    "collapsed": false
   },
   "outputs": [
    {
     "data": {
      "text/plain": [
       "<matplotlib.colorbar.Colorbar at 0x105d00438>"
      ]
     },
     "execution_count": 7,
     "metadata": {},
     "output_type": "execute_result"
    },
    {
     "data": {
      "image/png": "[encoded data removed]",
      "text/plain": [
       "<matplotlib.figure.Figure at 0x105c80f98>"
      ]
     },
     "metadata": {},
     "output_type": "display_data"
    }
   ],
   "source": [
    "plt.imshow(np.linalg.matrix_power(A,1))\n",
    "plt.colorbar()"
   ]
  },
  {
   "cell_type": "code",
   "execution_count": 8,
   "metadata": {
    "collapsed": false
   },
   "outputs": [
    {
     "data": {
      "text/plain": [
       "<matplotlib.colorbar.Colorbar at 0x1060669e8>"
      ]
     },
     "execution_count": 8,
     "metadata": {},
     "output_type": "execute_result"
    },
    {
     "data": {
      "image/png": "[encoded data removed]",
      "text/plain": [
       "<matplotlib.figure.Figure at 0x105ce3668>"
      ]
     },
     "metadata": {},
     "output_type": "display_data"
    }
   ],
   "source": [
    "plt.imshow(np.linalg.matrix_power(A,2))\n",
    "plt.colorbar()"
   ]
  },
  {
   "cell_type": "code",
   "execution_count": 9,
   "metadata": {
    "collapsed": false
   },
   "outputs": [
    {
     "data": {
      "text/plain": [
       "<matplotlib.colorbar.Colorbar at 0x106150b00>"
      ]
     },
     "execution_count": 9,
     "metadata": {},
     "output_type": "execute_result"
    },
    {
     "data": {
      "image/png": "[encoded data removed]",
      "text/plain": [
       "<matplotlib.figure.Figure at 0x1060a3588>"
      ]
     },
     "metadata": {},
     "output_type": "display_data"
    }
   ],
   "source": [
    "plt.imshow(np.linalg.matrix_power(A,3))\n",
    "plt.colorbar()"
   ]
  },
  {
   "cell_type": "code",
   "execution_count": 10,
   "metadata": {
    "collapsed": false
   },
   "outputs": [
    {
     "data": {
      "text/plain": [
       "<matplotlib.colorbar.Colorbar at 0x1061da748>"
      ]
     },
     "execution_count": 10,
     "metadata": {},
     "output_type": "execute_result"
    },
    {
     "data": {
      "image/png": "[encoded data removed]",
      "text/plain": [
       "<matplotlib.figure.Figure at 0x10615d0f0>"
      ]
     },
     "metadata": {},
     "output_type": "display_data"
    }
   ],
   "source": [
    "plt.imshow(np.linalg.matrix_power(A,4))\n",
    "plt.colorbar()"
   ]
  },
  {
   "cell_type": "code",
   "execution_count": 11,
   "metadata": {
    "collapsed": false
   },
   "outputs": [
    {
     "data": {
      "text/plain": [
       "<matplotlib.colorbar.Colorbar at 0x10644e3c8>"
      ]
     },
     "execution_count": 11,
     "metadata": {},
     "output_type": "execute_result"
    },
    {
     "data": {
      "image/png": "[encoded data removed]",
      "text/plain": [
       "<matplotlib.figure.Figure at 0x10636b400>"
      ]
     },
     "metadata": {},
     "output_type": "display_data"
    }
   ],
   "source": [
    "plt.imshow(np.linalg.matrix_power(A,5))\n",
    "plt.colorbar()"
   ]
  },
  {
   "cell_type": "code",
   "execution_count": 12,
   "metadata": {
    "collapsed": false
   },
   "outputs": [
    {
     "data": {
      "text/plain": [
       "<matplotlib.colorbar.Colorbar at 0x106535ac8>"
      ]
     },
     "execution_count": 12,
     "metadata": {},
     "output_type": "execute_result"
    },
    {
     "data": {
      "image/png": "[encoded data removed]",
      "text/plain": [
       "<matplotlib.figure.Figure at 0x10648c898>"
      ]
     },
     "metadata": {},
     "output_type": "display_data"
    }
   ],
   "source": [
    "plt.imshow(np.linalg.matrix_power(A,7))\n",
    "plt.colorbar()"
   ]
  },
  {
   "cell_type": "code",
   "execution_count": 13,
   "metadata": {
    "collapsed": false
   },
   "outputs": [
    {
     "data": {
      "text/plain": [
       "<matplotlib.colorbar.Colorbar at 0x10691f390>"
      ]
     },
     "execution_count": 13,
     "metadata": {},
     "output_type": "execute_result"
    },
    {
     "data": {
      "image/png": "[encoded data removed]",
      "text/plain": [
       "<matplotlib.figure.Figure at 0x10645a048>"
      ]
     },
     "metadata": {},
     "output_type": "display_data"
    }
   ],
   "source": [
    "naught=[1,0,0,0,0,0]\n",
    "\n",
    "plot=np.transpose([naught, np.matmul(A,naught),\n",
    "      np.matmul(np.linalg.matrix_power(A,2),naught),\n",
    "      np.matmul(np.linalg.matrix_power(A,3),naught),\n",
    "      np.matmul(np.linalg.matrix_power(A,4),naught),\n",
    "      np.matmul(np.linalg.matrix_power(A,5),naught),\n",
    "      np.matmul(np.linalg.matrix_power(A,6),naught)])\n",
    "\n",
    "plt.imshow(plot)\n",
    "plt.colorbar()"
   ]
  },
  {
   "cell_type": "code",
   "execution_count": 14,
   "metadata": {
    "collapsed": false
   },
   "outputs": [
    {
     "data": {
      "text/plain": [
       "[<matplotlib.lines.Line2D at 0x10699b9e8>]"
      ]
     },
     "execution_count": 14,
     "metadata": {},
     "output_type": "execute_result"
    },
    {
     "data": {
      "image/png": "[encoded data removed]",
      "text/plain": [
       "<matplotlib.figure.Figure at 0x106979048>"
      ]
     },
     "metadata": {},
     "output_type": "display_data"
    }
   ],
   "source": [
    "states=np.zeros(6)\n",
    "state=0\n",
    "chain=[]\n",
    "\n",
    "\n",
    "for i in range(1000):\n",
    "    for j in range(t_mix+1):\n",
    "        seed=np.random.rand(1)\n",
    "        temp=0\n",
    "        for k in range(6):\n",
    "            temp+=np.transpose(A)[state][k]\n",
    "            if seed<temp:\n",
    "                state=k\n",
    "                break\n",
    "        chain.append(state)\n",
    "    states[k]+=1\n",
    "    \n",
    "plt.plot(chain, '.c', alpha= 0.005)"
   ]
  },
  {
   "cell_type": "code",
   "execution_count": 15,
   "metadata": {
    "collapsed": false
   },
   "outputs": [
    {
     "data": {
      "text/plain": [
       "[<matplotlib.lines.Line2D at 0x106d08a20>]"
      ]
     },
     "execution_count": 15,
     "metadata": {},
     "output_type": "execute_result"
    },
    {
     "data": {
      "image/png": "[encoded data removed]",
      "text/plain": [
       "<matplotlib.figure.Figure at 0x1069795f8>"
      ]
     },
     "metadata": {},
     "output_type": "display_data"
    }
   ],
   "source": [
    "states=np.zeros(6)\n",
    "state=0\n",
    "chain=[]\n",
    "\n",
    "for i in range(t_mix):\n",
    "    seed=np.random.rand(1)\n",
    "    temp=0\n",
    "    for k in range(6):\n",
    "        temp+=np.transpose(A)[state][k]\n",
    "        if seed<temp:\n",
    "            state=k\n",
    "            break\n",
    "\n",
    "for i in range(1000):\n",
    "    seed=np.random.rand(1)\n",
    "    temp=0\n",
    "    for k in range(6):\n",
    "        temp+=np.transpose(A)[state][k]\n",
    "        if seed<temp:\n",
    "            state=k\n",
    "            chain.append(state)\n",
    "            break\n",
    "    states[state]+=1\n",
    "    \n",
    "plt.plot(chain, '.c', alpha= 0.5)"
   ]
  }
 ],
 "metadata": {
  "kernelspec": {
   "display_name": "Python 3",
   "language": "python",
   "name": "python3"
  },
  "language_info": {
   "codemirror_mode": {
    "name": "ipython",
    "version": 3
   },
   "file_extension": ".py",
   "mimetype": "text/x-python",
   "name": "python",
   "nbconvert_exporter": "python",
   "pygments_lexer": "ipython3",
   "version": "3.5.1"
  }
 },
 "nbformat": 4,
 "nbformat_minor": 0
}
