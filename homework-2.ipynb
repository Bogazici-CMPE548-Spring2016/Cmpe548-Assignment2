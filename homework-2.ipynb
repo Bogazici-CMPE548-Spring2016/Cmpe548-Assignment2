{
 "cells": [
  {
   "cell_type": "markdown",
   "metadata": {},
   "source": [
    "# Assignment 2 - Oğulcan ÖZDEMİR 2015700093"
   ]
  },
  {
   "cell_type": "markdown",
   "metadata": {},
   "source": [
    "## Question 1 - Importance Sampling"
   ]
  },
  {
   "cell_type": "code",
   "execution_count": 5,
   "metadata": {
    "collapsed": false
   },
   "outputs": [],
   "source": [
    "%matplotlib inline\n",
    "import numpy as np\n",
    "import matplotlib.pyplot as plt\n",
    "import seaborn as sns\n",
    "import scipy as sp\n",
    "\n",
    "np.set_printoptions(precision=4)"
   ]
  },
  {
   "cell_type": "code",
   "execution_count": 6,
   "metadata": {
    "collapsed": false,
    "scrolled": false
   },
   "outputs": [
    {
     "name": "stdout",
     "output_type": "stream",
     "text": [
      "(p : 0.5) => Variance : 0.002878, Area 0.703835\n",
      "(p : 1.0) => Variance : 0.013847, Area 2.036339\n",
      "(p : 1.5) => Variance : 0.004266, Area 2.704825\n",
      "(p : 2.0) => Variance : 0.015281, Area 3.136386\n"
     ]
    }
   ],
   "source": [
    "sigma = np.array([[1, 0], \n",
    "                  [0, 1]])\n",
    "mu = np.zeros(2);\n",
    "\n",
    "# proposal\n",
    "q = lambda x: (1/(2*np.pi*np.sqrt(np.linalg.det(sigma))))*np.exp(-0.5*np.matrix(x-mu)*np.linalg.inv(sigma)*np.matrix(x-mu).T)\n",
    "\n",
    "def p_norm(x, y, p):\n",
    "    return np.power(np.absolute(x), p) + np.power(np.absolute(y), p)\n",
    "\n",
    "def calculate_area_of_pnorm_ball(p, nSamples):\n",
    "    x, y = np.random.multivariate_normal(mu, sigma, nSamples).T    \n",
    "    \n",
    "    # discard samples where pnorm of x and y less than or equal to 1 \n",
    "    idx = p_norm(x, y, p) <= 1\n",
    "    v = np.column_stack((x[idx], y[idx]))\n",
    "\n",
    "    # compute weights\n",
    "    qv = [q(v[i]) for i in range(0,len(v))]\n",
    "    weights = [1.0 / qv[i] for i in range(0, len(qv))]\n",
    "\n",
    "    return np.sum(weights)/N\n",
    "\n",
    "# calculate area for c=20 times\n",
    "def runEstimation(c, p):\n",
    "    area = np.zeros(c);\n",
    "    for i in range(0, c):\n",
    "        area[i] = calculate_area_of_pnorm_ball(p, N)\n",
    "\n",
    "    variance = np.var(area)\n",
    "    avg_area = np.mean(area)\n",
    "    if p % 0.5 == 0:\n",
    "        print('(p : %.1f) => Variance : %f, Area %f' % (p, variance, avg_area))        \n",
    "    return variance, avg_area\n",
    "\n",
    "N = 1000\n",
    "c = 20\n",
    "p = np.linspace(0.5, 2, 4)\n",
    "for i in range(0, len(p)):\n",
    "    runEstimation(c, p[i])"
   ]
  },
  {
   "cell_type": "markdown",
   "metadata": {
    "collapsed": true
   },
   "source": [
    "## Question 2"
   ]
  },
  {
   "cell_type": "markdown",
   "metadata": {},
   "source": [
    "#### a) Transition Matrix"
   ]
  },
  {
   "cell_type": "code",
   "execution_count": 7,
   "metadata": {
    "collapsed": false
   },
   "outputs": [
    {
     "name": "stdout",
     "output_type": "stream",
     "text": [
      "[[ 0.25  0.25  0.25  0.25  0.25  0.25]\n",
      " [ 0.    0.25  0.    0.    0.25  0.  ]\n",
      " [ 0.    0.    0.    0.5   0.    0.  ]\n",
      " [ 0.25  0.25  0.5   0.    0.25  0.25]\n",
      " [ 0.25  0.25  0.25  0.25  0.25  0.25]\n",
      " [ 0.25  0.    0.    0.    0.    0.25]]\n"
     ]
    }
   ],
   "source": [
    "A = np.array([[1/4, 1/4, 1/4, 1/4, 1/4, 1/4],\n",
    "              [  0, 1/4,   0,   0, 1/4,   0],\n",
    "              [  0,   0,   0, 1/2,   0,   0],\n",
    "              [1/4, 1/4, 1/2,   0, 1/4, 1/4],\n",
    "              [1/4, 1/4, 1/4, 1/4, 1/4, 1/4],\n",
    "              [1/4,   0,   0,   0,   0, 1/4]])\n",
    "print(A)"
   ]
  },
  {
   "cell_type": "markdown",
   "metadata": {},
   "source": [
    "#### b) Stationary Matrix by computing eigenvalues and eigen vectors\n",
    "\n",
    "The stationary distribution is not a uniform distribution."
   ]
  },
  {
   "cell_type": "code",
   "execution_count": 8,
   "metadata": {
    "collapsed": false
   },
   "outputs": [
    {
     "name": "stdout",
     "output_type": "stream",
     "text": [
      "[ 0.25    0.0833  0.1111  0.2222  0.25    0.0833]\n"
     ]
    }
   ],
   "source": [
    "eVal, eVec = sp.linalg.eig(A)\n",
    "sta_dist = np.real_if_close(eVec[:, np.argmax(np.isclose(eVal, 1.0))], tol=0)\n",
    "sta_dist = sta_dist / sum(sta_dist)\n",
    "print(sta_dist)"
   ]
  },
  {
   "cell_type": "markdown",
   "metadata": {},
   "source": [
    "#### c) Detailed Balance Condition"
   ]
  },
  {
   "cell_type": "code",
   "execution_count": 9,
   "metadata": {
    "collapsed": false
   },
   "outputs": [
    {
     "name": "stdout",
     "output_type": "stream",
     "text": [
      "[[ 0.0625  0.0208  0.0278  0.0556  0.0625  0.0208]\n",
      " [ 0.      0.0208  0.      0.      0.0625  0.    ]\n",
      " [ 0.      0.      0.      0.1111  0.      0.    ]\n",
      " [ 0.0625  0.0208  0.0556  0.      0.0625  0.0208]\n",
      " [ 0.0625  0.0208  0.0278  0.0556  0.0625  0.0208]\n",
      " [ 0.0625  0.      0.      0.      0.      0.0208]]\n"
     ]
    },
    {
     "data": {
      "text/plain": [
       "False"
      ]
     },
     "execution_count": 9,
     "metadata": {},
     "output_type": "execute_result"
    }
   ],
   "source": [
    "x = np.dot(A, np.diag(sta_dist))\n",
    "print(x)\n",
    "np.allclose(x, x.transpose())"
   ]
  },
  {
   "cell_type": "markdown",
   "metadata": {
    "collapsed": false
   },
   "source": [
    "#### d) $T_{mix}$\n"
   ]
  },
  {
   "cell_type": "code",
   "execution_count": 10,
   "metadata": {
    "collapsed": false
   },
   "outputs": [
    {
     "name": "stdout",
     "output_type": "stream",
     "text": [
      "T_mix = 24 \n"
     ]
    }
   ],
   "source": [
    "def get_mixing_time(sta_dist, eps=1e-8):\n",
    "    pi_t = np.array([1, 0, 0, 0, 0, 0]) # starts from 1\n",
    "    mixTime = 0\n",
    "    mixData = pi_t\n",
    "    \n",
    "    # loop until total variation distance between pi_t and stationary distribution\n",
    "    # is lower than epsilon threshold\n",
    "    while (0.5*np.linalg.norm(pi_t - sta_dist, 1)) > eps:\n",
    "        pi_t = A.dot(pi_t)\n",
    "        mixData = np.column_stack((mixData, pi_t))\n",
    "        mixTime += 1\n",
    "    \n",
    "    return mixTime, mixData\n",
    "    \n",
    "mixTime,_ = get_mixing_time(sta_dist)\n",
    "print(\"T_mix = %d \" % mixTime)"
   ]
  },
  {
   "cell_type": "markdown",
   "metadata": {},
   "source": [
    "#### e) \n",
    "Powers of A"
   ]
  },
  {
   "cell_type": "code",
   "execution_count": 11,
   "metadata": {
    "collapsed": false
   },
   "outputs": [
    {
     "data": {
      "image/png": "[encoded data removed]",
      "text/plain": [
       "<matplotlib.figure.Figure at 0x114173cc0>"
      ]
     },
     "metadata": {},
     "output_type": "display_data"
    }
   ],
   "source": [
    "fig, ax = plt.subplots(nrows=1, ncols=4, figsize=(16, 3))\n",
    "for i, n in enumerate([1, 4, 8, 10]):\n",
    "    ax[i].imshow(np.linalg.matrix_power(A, n), vmin = 0, vmax = 1, interpolation='nearest', cmap=plt.cm.gray_r)\n",
    "    ax[i].set_title(\"$n = %d$\" % n)\n",
    "    ax[i].grid(False)"
   ]
  },
  {
   "cell_type": "markdown",
   "metadata": {},
   "source": [
    "Changes of $\\pi$ "
   ]
  },
  {
   "cell_type": "code",
   "execution_count": 12,
   "metadata": {
    "collapsed": false,
    "scrolled": true
   },
   "outputs": [
    {
     "name": "stdout",
     "output_type": "stream",
     "text": [
      "Mixing time = 24 \n"
     ]
    },
    {
     "data": {
      "text/plain": [
       "<matplotlib.colorbar.Colorbar at 0x10cbd2a58>"
      ]
     },
     "execution_count": 12,
     "metadata": {},
     "output_type": "execute_result"
    },
    {
     "data": {
      "image/png": "[encoded data removed]",
      "text/plain": [
       "<matplotlib.figure.Figure at 0x116b9eb70>"
      ]
     },
     "metadata": {},
     "output_type": "display_data"
    }
   ],
   "source": [
    "mixTime, mixData = get_mixing_time(sta_dist)\n",
    "print(\"Mixing time = %d \" % mixTime)\n",
    "plt.figure(figsize=(16, 5))\n",
    "#sns.heatmap(mixData, cmap='Greys')\n",
    "\n",
    "plt.imshow(mixData, cmap=plt.cm.gray_r,  interpolation='nearest')\n",
    "plt.grid(False)\n",
    "plt.colorbar()"
   ]
  },
  {
   "cell_type": "markdown",
   "metadata": {},
   "source": [
    "#### f) Draw Independent Samples"
   ]
  },
  {
   "cell_type": "code",
   "execution_count": 13,
   "metadata": {
    "collapsed": false
   },
   "outputs": [
    {
     "name": "stdout",
     "output_type": "stream",
     "text": [
      "[0 4 0 0 3 0 4 3 4 3 0 3 2 4 1 3 4 1 0 3 0 3 0 3]\n"
     ]
    }
   ],
   "source": [
    "def run_chain(A, N):\n",
    "    chain = np.zeros(N).astype(int)\n",
    "    for i in range(1, N):\n",
    "        chain[i] = np.random.choice(range(6), p = A[:, chain[i-1]])\n",
    "\n",
    "    return chain\n",
    "\n",
    "print(run_chain(A, mixTime))"
   ]
  },
  {
   "cell_type": "code",
   "execution_count": 14,
   "metadata": {
    "collapsed": false
   },
   "outputs": [
    {
     "data": {
      "text/plain": [
       "<matplotlib.colorbar.Colorbar at 0x116fc4748>"
      ]
     },
     "execution_count": 14,
     "metadata": {},
     "output_type": "execute_result"
    },
    {
     "data": {
      "image/png": "[encoded data removed]",
      "text/plain": [
       "<matplotlib.figure.Figure at 0x1140ceef0>"
      ]
     },
     "metadata": {},
     "output_type": "display_data"
    }
   ],
   "source": [
    "N = 1000\n",
    "trajectory = np.zeros(shape=(N, mixTime))\n",
    "\n",
    "for i in range(N):\n",
    "    chain = run_chain(A, mixTime)\n",
    "    trajectory[i, :] = chain\n",
    "    \n",
    "histogram = np.apply_along_axis(lambda x: np.histogram(x, bins=[0,1,2,3,4,5,6], density = True)[0], 0, trajectory)\n",
    "plt.figure(figsize=(16, 5))\n",
    "plt.imshow(histogram, cmap=plt.cm.gray_r,  interpolation='nearest')\n",
    "plt.grid(False)\n",
    "plt.colorbar()"
   ]
  },
  {
   "cell_type": "markdown",
   "metadata": {},
   "source": [
    "#### g) "
   ]
  },
  {
   "cell_type": "code",
   "execution_count": 15,
   "metadata": {
    "collapsed": false
   },
   "outputs": [
    {
     "name": "stdout",
     "output_type": "stream",
     "text": [
      "Sample:      [ 0.26   0.068  0.126  0.228  0.235  0.083]\n",
      "Stationary:  [ 0.25    0.0833  0.1111  0.2222  0.25    0.0833]\n"
     ]
    },
    {
     "data": {
      "image/png": "[encoded data removed]",
      "text/plain": [
       "<matplotlib.figure.Figure at 0x116fbe198>"
      ]
     },
     "metadata": {},
     "output_type": "display_data"
    }
   ],
   "source": [
    "chain = run_chain(A, N + mixTime)[mixTime::]\n",
    "sns.distplot(chain, kde = False, bins = [0,1,2,3,4,5,6])\n",
    "c,_ = np.histogram(chain, bins=[0,1,2,3,4,5,6], density=True);\n",
    "print('Sample:     ', c)\n",
    "print('Stationary: ', sta_dist)"
   ]
  }
 ],
 "metadata": {
  "kernelspec": {
   "display_name": "Python 3",
   "language": "python",
   "name": "python3"
  },
  "language_info": {
   "codemirror_mode": {
    "name": "ipython",
    "version": 3
   },
   "file_extension": ".py",
   "mimetype": "text/x-python",
   "name": "python",
   "nbconvert_exporter": "python",
   "pygments_lexer": "ipython3",
   "version": "3.5.1"
  }
 },
 "nbformat": 4,
 "nbformat_minor": 0
}
