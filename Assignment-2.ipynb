{
 "cells": [
  {
   "cell_type": "markdown",
   "metadata": {},
   "source": [
    "# Importance Sampling\n",
    "\n",
    "I will compute the area of a p-norm ball in 2D, where p = 0.5 by using importance sampling. I will also report the variance of my estimate for N = 1000 samples.\n",
    "\n",
    "In previous assignment, we used rejection sampling to generate uniform p-norm ball samples. We compensated for the fact that we sampled from the distribution $g(x)$ instead of $f(x)$ by rejecting some of the values proposed by $f(x)$. In importance sampling, we will use weights to correct for the fact that we sample from another distribution. It is based on the identity:\n",
    "\n",
    "$$P(X \\in A) = \\int_{A} f(x) dx = \\int_{A} g(x) \\frac{f(x)}{g(x)} dx = \\int_{A} g(x) w(x) dx$$\n",
    "\n",
    "I also used rotated unit square as g(x) for sampling and rejection, to increase the efficiency of rejection sampling when trying to generate uniform samples from a p-norm ball.\n",
    "\n",
    "In this example, it is multivariate so I can use multivariate gaussian distribution as proposal. I am going to choose a mean and covariance matrix and generate $(x,y)$ samples, then if they satisfy the condition $|x|^p + |y|^p \\leq 1$, I will normalize them (or use weights). Then I can find the area of the 0.5 norm ball.\n",
    "\n",
    "Let's first generate multivariate normal numbers randomly, and see them graphically."
   ]
  },
  {
   "cell_type": "code",
   "execution_count": 79,
   "metadata": {
    "collapsed": false
   },
   "outputs": [
    {
     "data": {
      "image/png": "[encoded data removed]",
      "text/plain": [
       "<matplotlib.figure.Figure at 0x4d2ce48>"
      ]
     },
     "metadata": {},
     "output_type": "display_data"
    }
   ],
   "source": [
    "%matplotlib inline\n",
    "import numpy as np\n",
    "import matplotlib.pyplot as plt\n",
    "\n",
    "N = 2000\n",
    "mean = np.array([0, 0])\n",
    "cov = np.array([[0.1, 0], [0, 0.1]])\n",
    "x, y = np.random.multivariate_normal(mean, cov, N).T\n",
    "plt.plot(x, y, 'x')\n",
    "plt.axis('equal')\n",
    "plt.show()"
   ]
  },
  {
   "cell_type": "markdown",
   "metadata": {},
   "source": [
    "According to Wikipedia, density function of multivariate normal distribution for non-degenerate case (covariance matrix is positive definite), is as follows and I will use it as proposal.\n",
    "\n",
    "$$f_{x}(x_{1},. . . , x_{k}) = \\frac{1}{\\sqrt{(2\\pi)^{k}|\\Sigma|}}\\exp\\left(-\\frac{1}{2}(x - \\mu)^{T}\\Sigma^{-1}(x-\\mu)\\right)$$\n",
    "\n",
    "where x is a real k-dimensional column vector (in our case, 2-dimensional and |$\\Sigma$| is the determinant of $\\Sigma$."
   ]
  },
  {
   "cell_type": "code",
   "execution_count": 80,
   "metadata": {
    "collapsed": false
   },
   "outputs": [],
   "source": [
    "def density_function(x, mean, cov):\n",
    "    k = len(x)\n",
    "    det = np.linalg.det(cov)\n",
    "    left_part = 1/(np.sqrt(np.power(2*np.pi, k) * det))\n",
    "    exp_part = -1/2*(np.dot(np.dot(np.transpose(x-mean), np.linalg.inv(cov)), (x-mean)))\n",
    "    return left_part * np.exp(exp_part)"
   ]
  },
  {
   "cell_type": "markdown",
   "metadata": {},
   "source": [
    "We also need to calculate p-norm and if a vector satisfies the condition:"
   ]
  },
  {
   "cell_type": "code",
   "execution_count": 81,
   "metadata": {
    "collapsed": true
   },
   "outputs": [],
   "source": [
    "def filter_pnorm(x, y, p):\n",
    "    return np.power(np.abs(x), p) + np.power(np.abs(y), p) <= 1"
   ]
  },
  {
   "cell_type": "markdown",
   "metadata": {},
   "source": [
    "Now we can use these to calculate weighted samples."
   ]
  },
  {
   "cell_type": "code",
   "execution_count": 82,
   "metadata": {
    "collapsed": false
   },
   "outputs": [],
   "source": [
    "def apply_weights(x, y, p):\n",
    "    if filter_pnorm(x,y,p):\n",
    "        return 1.0 / density_function(np.array([x, y]), mean, cov)\n",
    "    else:\n",
    "        return 0"
   ]
  },
  {
   "cell_type": "markdown",
   "metadata": {},
   "source": [
    "Lastly, it is time to combine all these. We can do it for 25 times to have a estimate variance for N = 1000 samples."
   ]
  },
  {
   "cell_type": "code",
   "execution_count": 83,
   "metadata": {
    "collapsed": true
   },
   "outputs": [],
   "source": [
    "def estimate_area(p):\n",
    "    mean_estimates = []\n",
    "    samples = []\n",
    "    n = 30\n",
    "    for i in range(n):\n",
    "        for j in range(N):\n",
    "            sample = apply_weights(x[j], y[j], p)\n",
    "            samples.append(sample)\n",
    "        mean_estimates.append(np.mean(samples))\n",
    "        samples = []\n",
    "    return mean_estimates"
   ]
  },
  {
   "cell_type": "code",
   "execution_count": 84,
   "metadata": {
    "collapsed": false
   },
   "outputs": [
    {
     "name": "stdout",
     "output_type": "stream",
     "text": [
      "0.677666696937\n",
      "4.93038065763e-32\n"
     ]
    }
   ],
   "source": [
    "mean_estimates = estimate_area(0.5)\n",
    "mean_estimate = np.mean(mean_estimates)\n",
    "estimate_variance = np.var(mean_estimates)\n",
    "\n",
    "print(mean_estimate)\n",
    "print(estimate_variance)"
   ]
  },
  {
   "cell_type": "markdown",
   "metadata": {},
   "source": [
    "Area estimate is around 2/3 and variance is really small, though I am not sure about the reason. Just for fun, I want to try this area estimation experiment with p = {0.5, 0.6, 0.7, 0.8, 0.9, 1, 2}. Though it takes some time because, well, it is Python :)"
   ]
  },
  {
   "cell_type": "code",
   "execution_count": null,
   "metadata": {
    "collapsed": false
   },
   "outputs": [
    {
     "name": "stdout",
     "output_type": "stream",
     "text": [
      "For p = 0.5 , mean estimate = 0.677666696937 and variance = 4.93038065763e-32\n",
      "For p = 0.6 , mean estimate = 0.992781476518 and variance = 1.10933564797e-31\n",
      "For p = 0.7 , mean estimate = 1.25141675526 and variance = 4.93038065763e-32\n",
      "For p ="
     ]
    }
   ],
   "source": [
    "ps = [0.5, 0.6, 0.7, 0.8, 0.9, 1, 2]\n",
    "\n",
    "for p in ps:\n",
    "    area_estimate = estimate_area(p)\n",
    "    mean_estimate = np.mean(area_estimate)\n",
    "    estimate_variance = np.var(area_estimate)\n",
    "    print(\"For p =\", str(p), \", mean estimate =\", mean_estimate, \"and variance =\", estimate_variance)"
   ]
  },
  {
   "cell_type": "markdown",
   "metadata": {},
   "source": [
    "For a square with side length $\\sqrt{2}$ the area estimate is 2.06, which is okay. For a unit circle the area estimate is 3.38, which is still okay but a bit far from $\\pi$."
   ]
  },
  {
   "cell_type": "markdown",
   "metadata": {},
   "source": [
    "# Markov Chain\n",
    "\n",
    "#### Transition Matrix"
   ]
  },
  {
   "cell_type": "code",
   "execution_count": null,
   "metadata": {
    "collapsed": true
   },
   "outputs": [],
   "source": [
    "A = np.array([[0.25, 0.25, 0.25, 0.25, 0.25, 0.25],\n",
    "                [0, 0.25, 0, 0, 0.25, 0],\n",
    "                [0, 0, 0, 0.50, 0, 0],\n",
    "                [0.25, 0.25, 0.50, 0, 0.25, 0.25],\n",
    "                [0.25, 0.25, 0.25, 0.25, 0.25, 0.25],\n",
    "                [0.25, 0, 0, 0, 0, 0.25]])"
   ]
  },
  {
   "cell_type": "markdown",
   "metadata": {
    "collapsed": true
   },
   "source": [
    "#### Stationary Distribution\n",
    "\n",
    "The stationary distribution of a Markov Chain with transition matrix P is some vector v, such that vP = v. In other words, over the long run, no matter what the starting state was, the proportion of time the chain spends in state *j* is approximately $v_j$ for all *j*."
   ]
  },
  {
   "cell_type": "code",
   "execution_count": null,
   "metadata": {
    "collapsed": false
   },
   "outputs": [],
   "source": [
    "es, vs = np.linalg.eig(A)\n",
    "i = np.argmax(np.isclose(es, 1.0))\n",
    "v = vs[:, i]\n",
    "v = np.real(v / sum(v))\n",
    "print(v)"
   ]
  },
  {
   "cell_type": "markdown",
   "metadata": {},
   "source": [
    "We can see that this stationary distribution is not uniform. A Markov Chain will spend more time in states 1 and 5."
   ]
  },
  {
   "cell_type": "markdown",
   "metadata": {},
   "source": [
    "#### Detailed Balance Condition"
   ]
  },
  {
   "cell_type": "markdown",
   "metadata": {},
   "source": [
    "For detailed balance condition, I was looking for some explanations and I came across a really cool <a href=\"http://qr.ae/Rcfk8p\">example</a>, so I wanted to share it. The code is from the PS."
   ]
  },
  {
   "cell_type": "code",
   "execution_count": null,
   "metadata": {
    "collapsed": false
   },
   "outputs": [],
   "source": [
    "x = np.real(np.dot(A, np.diag(v)))\n",
    "print(x)"
   ]
  },
  {
   "cell_type": "code",
   "execution_count": null,
   "metadata": {
    "collapsed": false
   },
   "outputs": [],
   "source": [
    "print(np.isclose(x, x.T).all())"
   ]
  },
  {
   "cell_type": "markdown",
   "metadata": {},
   "source": [
    "This transition matrix does not satisfy the detailed balance condition because for example, when the state is 3, it goes to 1 with p=0.25 probability but reverse path does not exist."
   ]
  },
  {
   "cell_type": "markdown",
   "metadata": {},
   "source": [
    "#### Finding Tmix"
   ]
  },
  {
   "cell_type": "code",
   "execution_count": null,
   "metadata": {
    "collapsed": false
   },
   "outputs": [],
   "source": [
    "epsilon = 1e-8\n",
    "stationary_vector = v\n",
    "t_mix = 0\n",
    "current_state = np.array([1, 0, 0, 0, 0, 0])\n",
    "\n",
    "def variation_distance(x, y):\n",
    "    return 0.5 * np.sum(np.abs(x-y))\n",
    "\n",
    "distance = variation_distance(v, current_state)\n",
    "\n",
    "while distance > epsilon:\n",
    "    current_state = np.dot(A, current_state)\n",
    "    distance = variation_distance(v, current_state)\n",
    "    t_mix = t_mix + 1\n",
    "    \n",
    "print(\"T_mix is: \" + str(t_mix))"
   ]
  },
  {
   "cell_type": "markdown",
   "metadata": {},
   "source": [
    "#### Visualization of Intermediary Powers of Transition Matrix"
   ]
  },
  {
   "cell_type": "code",
   "execution_count": null,
   "metadata": {
    "collapsed": false
   },
   "outputs": [],
   "source": [
    "import seaborn as sns\n",
    "fig, ax = plt.subplots(nrows=1, ncols=5, figsize=(16, 4))\n",
    "for i, n in enumerate([1, 4, 7, 12, 24]):\n",
    "    sns.heatmap(np.linalg.matrix_power(A, n), vmin = 0, vmax = 1, ax = ax[i])\n",
    "    ax[i].set_title(\"$n = %d$\" % n)\n",
    "plt.show()"
   ]
  },
  {
   "cell_type": "markdown",
   "metadata": {},
   "source": [
    "Verification of mixing time:"
   ]
  },
  {
   "cell_type": "code",
   "execution_count": null,
   "metadata": {
    "collapsed": false
   },
   "outputs": [],
   "source": [
    "n = 30\n",
    "states = np.zeros([6, n])\n",
    "states[:, 0] = np.array([1,0,0,0,0,0])\n",
    "for i in range(1,n):\n",
    "    states[:,i] = np.dot(A, states[:, i-1])\n",
    "    \n",
    "sns.heatmap(states,vmin=0,vmax=1);\n",
    "plt.title(\"Marginal Distributon Over Iterations\");"
   ]
  },
  {
   "cell_type": "markdown",
   "metadata": {},
   "source": [
    "#### Independent Samples"
   ]
  },
  {
   "cell_type": "markdown",
   "metadata": {},
   "source": [
    "Firstly, let's define the simulation method for a single chain."
   ]
  },
  {
   "cell_type": "code",
   "execution_count": 43,
   "metadata": {
    "collapsed": true
   },
   "outputs": [],
   "source": [
    "def simulate(P, N):\n",
    "    chain = np.zeros(N).astype(int)\n",
    "    chain[0] = 0\n",
    "    for i in range(1,N):\n",
    "        pr = P[:, chain[i-1]]\n",
    "        chain[i] = np.random.choice(range(6), p = pr)\n",
    "\n",
    "    return chain"
   ]
  },
  {
   "cell_type": "markdown",
   "metadata": {},
   "source": [
    "Then we can run multiple chains and obtain independent samples."
   ]
  },
  {
   "cell_type": "code",
   "execution_count": 49,
   "metadata": {
    "collapsed": false
   },
   "outputs": [
    {
     "name": "stdout",
     "output_type": "stream",
     "text": [
      "Distribution at t=T_mix + 10: [ 0.261  0.084  0.095  0.221  0.245  0.094]\n"
     ]
    },
    {
     "data": {
      "image/png": "[encoded data removed]",
      "text/plain": [
       "<matplotlib.figure.Figure at 0xa391550>"
      ]
     },
     "metadata": {},
     "output_type": "display_data"
    }
   ],
   "source": [
    "nchains = 1000\n",
    "chain_length = t_mix + 10\n",
    "samples = np.zeros([nchains, chain_length]).astype(int)\n",
    "for i in range(0, nchains):\n",
    "    ch = simulate(A, chain_length)\n",
    "    samples[i,:] = ch\n",
    "    \n",
    "column_histograms = np.apply_along_axis(lambda x: np.histogram(x, bins = [0,1,2,3,4,5,6], density = True)[0], 0, samples)\n",
    "sns.heatmap(column_histograms, yticklabels=range(1,7))\n",
    "print('Distribution at t=T_mix + 10:',column_histograms[:,-1])"
   ]
  },
  {
   "cell_type": "markdown",
   "metadata": {},
   "source": [
    " #### Single Chain\n",
    " \n",
    " We can show chain after $T_{mix}$ steps and compare it to stationary distribution."
   ]
  },
  {
   "cell_type": "code",
   "execution_count": 57,
   "metadata": {
    "collapsed": false
   },
   "outputs": [
    {
     "data": {
      "image/png": "[encoded data removed]",
      "text/plain": [
       "<matplotlib.figure.Figure at 0xb578160>"
      ]
     },
     "metadata": {},
     "output_type": "display_data"
    }
   ],
   "source": [
    "chain = simulate(A, t_mix+N)\n",
    "nburnin = t_mix\n",
    "sns.distplot(chain[nburnin:], kde = False, bins = [0,1,2,3,4,5,6])\n",
    "plt.show()"
   ]
  },
  {
   "cell_type": "code",
   "execution_count": 71,
   "metadata": {
    "collapsed": false
   },
   "outputs": [
    {
     "name": "stdout",
     "output_type": "stream",
     "text": [
      "Stationary distribution: [ 0.25        0.08333333  0.11111111  0.22222222  0.25        0.08333333]\n",
      "Result: [ 0.251   0.0915  0.1105  0.2195  0.241   0.0865]\n"
     ]
    },
    {
     "data": {
      "image/png": "[encoded data removed]",
      "text/plain": [
       "<matplotlib.figure.Figure at 0xba3e208>"
      ]
     },
     "metadata": {},
     "output_type": "display_data"
    }
   ],
   "source": [
    "stationary_vector = np.real(stationary_vector)\n",
    "result = np.bincount(chain[nburnin:].astype(int))\n",
    "result = result / np.sum(result)\n",
    "print(\"Stationary distribution:\", stationary_vector)\n",
    "print(\"Result:\", result)\n",
    "\n",
    "plt.step(np.array([1,2,3,4,5,6]), result, 'g', label = 'Stationary')\n",
    "plt.step(np.array([1,2,3,4,5,6]), stationary_vector, 'b', label = 'Result')\n",
    "plt.legend()\n",
    "plt.show()"
   ]
  }
 ],
 "metadata": {
  "kernelspec": {
   "display_name": "Python 3",
   "language": "python",
   "name": "python3"
  },
  "language_info": {
   "codemirror_mode": {
    "name": "ipython",
    "version": 3
   },
   "file_extension": ".py",
   "mimetype": "text/x-python",
   "name": "python",
   "nbconvert_exporter": "python",
   "pygments_lexer": "ipython3",
   "version": "3.5.1"
  }
 },
 "nbformat": 4,
 "nbformat_minor": 0
}
