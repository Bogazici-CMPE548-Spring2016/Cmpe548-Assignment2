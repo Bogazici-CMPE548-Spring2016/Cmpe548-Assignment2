{
 "cells": [
  {
   "cell_type": "markdown",
   "metadata": {},
   "source": [
    "# HW2"
   ]
  },
  {
   "cell_type": "code",
   "execution_count": 2,
   "metadata": {
    "collapsed": false
   },
   "outputs": [],
   "source": [
    "%matplotlib inline\n",
    "import numpy as np\n",
    "import matplotlib.pyplot as plt\n",
    "import pylab as im_plt"
   ]
  },
  {
   "cell_type": "markdown",
   "metadata": {},
   "source": [
    "## Question 2 "
   ]
  },
  {
   "cell_type": "markdown",
   "metadata": {},
   "source": [
    "### (a) Transition Matrix"
   ]
  },
  {
   "cell_type": "code",
   "execution_count": 4,
   "metadata": {
    "collapsed": false
   },
   "outputs": [],
   "source": [
    "A = np.array([[1/4, 1/4, 1/4, 1/4, 1/4, 1/4],\n",
    "              [  0, 1/4,   0,   0, 1/4,   0],\n",
    "              [  0,   0,   0, 1/2,   0,   0],\n",
    "              [1/4, 1/4, 1/2,   0, 1/4, 1/4],\n",
    "              [1/4, 1/4, 1/4, 1/4, 1/4, 1/4],\n",
    "              [1/4,   0,   0,   0,   0, 1/4]]);"
   ]
  },
  {
   "cell_type": "markdown",
   "metadata": {},
   "source": [
    "### (b) Stationary Distribution "
   ]
  },
  {
   "cell_type": "code",
   "execution_count": 5,
   "metadata": {
    "collapsed": false
   },
   "outputs": [
    {
     "name": "stdout",
     "output_type": "stream",
     "text": [
      "[ 0.25        0.08333333  0.11111111  0.22222222  0.25        0.08333333]\n"
     ]
    }
   ],
   "source": [
    "es, vs = np.linalg.eig(A)\n",
    "i = np.argmax(np.isclose(es, 1.0))\n",
    "v = vs[:, i]\n",
    "v = v / sum(v)\n",
    "print(v)"
   ]
  },
  {
   "cell_type": "markdown",
   "metadata": {},
   "source": [
    "The stationary distribution is $\\pi = [0.25 , 0.083 , 0.111 , 0.222 , 0.25 , 0.083]$. "
   ]
  },
  {
   "cell_type": "markdown",
   "metadata": {},
   "source": [
    "### (c) Detailed Balance "
   ]
  },
  {
   "cell_type": "code",
   "execution_count": 7,
   "metadata": {
    "collapsed": false
   },
   "outputs": [
    {
     "name": "stdout",
     "output_type": "stream",
     "text": [
      "[[ 0.0625      0.02083333  0.02777778  0.05555556  0.0625      0.02083333]\n",
      " [ 0.          0.02083333  0.          0.          0.0625      0.        ]\n",
      " [ 0.          0.          0.          0.11111111  0.          0.        ]\n",
      " [ 0.0625      0.02083333  0.05555556  0.          0.0625      0.02083333]\n",
      " [ 0.0625      0.02083333  0.02777778  0.05555556  0.0625      0.02083333]\n",
      " [ 0.0625      0.          0.          0.          0.          0.02083333]]\n"
     ]
    }
   ],
   "source": [
    "x = np.dot(A, np.diag(v))\n",
    "print(x)"
   ]
  },
  {
   "cell_type": "code",
   "execution_count": 8,
   "metadata": {
    "collapsed": false
   },
   "outputs": [
    {
     "data": {
      "text/plain": [
       "False"
      ]
     },
     "execution_count": 8,
     "metadata": {},
     "output_type": "execute_result"
    }
   ],
   "source": [
    "# x.T is the same as x.transpose()\n",
    "np.isclose(x, x.T).all()"
   ]
  },
  {
   "cell_type": "markdown",
   "metadata": {},
   "source": [
    "The process does not satisfy the detailed balance equation. "
   ]
  },
  {
   "cell_type": "markdown",
   "metadata": {},
   "source": [
    "### (d) Finding $T_{mix}$ "
   ]
  },
  {
   "cell_type": "code",
   "execution_count": 9,
   "metadata": {
    "collapsed": false
   },
   "outputs": [
    {
     "name": "stdout",
     "output_type": "stream",
     "text": [
      "24\n"
     ]
    }
   ],
   "source": [
    "def calcVar(b,v):       \n",
    "    cur_total_var = sum(np.abs(b-v))       \n",
    "    cur_total_var /= 2  \n",
    "    return cur_total_var;   \n",
    "\n",
    "epsilon = 1e-8\n",
    "MAX = 100\n",
    "T_mix = 0\n",
    "\n",
    "b = np.dot(A,[1, 0, 0, 0, 0, 0])\n",
    "cur_total_var = calcVar(b,v)      \n",
    "if(cur_total_var < epsilon):\n",
    "    T_mix = 1   \n",
    "\n",
    "if(T_mix == 0):\n",
    "    for t in range(2,MAX):\n",
    "    \n",
    "        b = np.dot(A,b)\n",
    "        #take the total variation distance \n",
    "        #until it is below the threshold\n",
    "        cur_total_var = calcVar(b,v)    \n",
    "        if(cur_total_var < epsilon):\n",
    "            T_mix = t\n",
    "            break\n",
    "\n",
    "print(T_mix)"
   ]
  },
  {
   "cell_type": "markdown",
   "metadata": {},
   "source": [
    "$T_{mix}= 24$"
   ]
  },
  {
   "cell_type": "markdown",
   "metadata": {
    "collapsed": true
   },
   "source": [
    "### (e) Visualize intermediary powers of A "
   ]
  },
  {
   "cell_type": "code",
   "execution_count": 49,
   "metadata": {
    "collapsed": false
   },
   "outputs": [
    {
     "data": {
      "image/png": "[encoded data removed]",
      "text/plain": [
       "<matplotlib.figure.Figure at 0x1e232dae978>"
      ]
     },
     "metadata": {},
     "output_type": "display_data"
    }
   ],
   "source": [
    "fig, ax = plt.subplots(nrows=1, ncols=6, figsize=(20,5))\n",
    "fig.suptitle('Intermediary powers of A', fontsize=20)\n",
    "\n",
    "for i, n in enumerate([1, 2, 4, 6, 24, 50]):\n",
    "    cur_im = ax[i].imshow(np.linalg.matrix_power(A, n), cmap='hot', interpolation='none')    \n",
    "    ax[i].set_title(\"$t = %d$\" % n)\n",
    "plt.colorbar(cur_im)\n",
    "plt.show()"
   ]
  },
  {
   "cell_type": "markdown",
   "metadata": {},
   "source": [
    "### (f) Multiple chain runs"
   ]
  },
  {
   "cell_type": "code",
   "execution_count": 12,
   "metadata": {
    "collapsed": true
   },
   "outputs": [],
   "source": [
    "def simulate(P, N):\n",
    "    chain = np.zeros(N).astype(int)\n",
    "    chain[0] = 0\n",
    "    for i in range(1,N):\n",
    "        pr = P[:, chain[i-1]]\n",
    "        chain[i] = np.random.choice(range(6), p = pr)\n",
    "\n",
    "    return(chain)"
   ]
  },
  {
   "cell_type": "code",
   "execution_count": 52,
   "metadata": {
    "collapsed": false
   },
   "outputs": [],
   "source": [
    "nchains = 1000\n",
    "chain_length = T_mix\n",
    "samples = np.zeros([nchains, chain_length]).astype(int)\n",
    "for i in range(0, nchains):\n",
    "    ch = simulate(A, chain_length)\n",
    "    samples[i,:] = ch\n",
    "    \n",
    "#print(samples)    "
   ]
  },
  {
   "cell_type": "code",
   "execution_count": 41,
   "metadata": {
    "collapsed": false
   },
   "outputs": [],
   "source": [
    "# Generate histograms\n",
    "smpls = np.zeros((6,T_mix),dtype=np.float)\n",
    "for t in range(0,T_mix):\n",
    "    smpls[:,t], bins = np.histogram(samples[:,t], bins=[0, 1, 2, 3, 4, 5, 6])\n",
    "    smpls[:,t] = smpls[:,t]/nchains\n",
    "#print(smpls)"
   ]
  },
  {
   "cell_type": "code",
   "execution_count": 50,
   "metadata": {
    "collapsed": false
   },
   "outputs": [
    {
     "data": {
      "image/png": "[encoded data removed]",
      "text/plain": [
       "<matplotlib.figure.Figure at 0x1e232649eb8>"
      ]
     },
     "metadata": {},
     "output_type": "display_data"
    }
   ],
   "source": [
    "fig, ax = plt.subplots(figsize=(20,5))\n",
    "im = ax.imshow(smpls, cmap='hot', interpolation='none')\n",
    "fig.colorbar(im)\n",
    "plt.show()"
   ]
  },
  {
   "cell_type": "markdown",
   "metadata": {},
   "source": [
    "Following plot explicitly shows the histogram of the last states of each chain. As we reach the mixing time $T_{mix}$, these samples are i.i.d from the stationary distribution of the chain."
   ]
  },
  {
   "cell_type": "code",
   "execution_count": 51,
   "metadata": {
    "collapsed": false
   },
   "outputs": [
    {
     "data": {
      "image/png": "[encoded data removed]",
      "text/plain": [
       "<matplotlib.figure.Figure at 0x1e231a914e0>"
      ]
     },
     "metadata": {},
     "output_type": "display_data"
    }
   ],
   "source": [
    "sampls, bins = np.histogram(samples[:, chain_length-1], bins=[0, 1, 2, 3, 4, 5, 6])\n",
    "plt.hist(samples[:, chain_length-1], bins=[0, 1, 2, 3, 4, 5, 6])\n",
    "plt.title('Histogram')\n",
    "plt.show()"
   ]
  },
  {
   "cell_type": "markdown",
   "metadata": {},
   "source": [
    "### (g) Single chain run "
   ]
  },
  {
   "cell_type": "code",
   "execution_count": 22,
   "metadata": {
    "collapsed": false
   },
   "outputs": [
    {
     "name": "stdout",
     "output_type": "stream",
     "text": [
      "[0 4 3 ..., 0 4 4]\n"
     ]
    }
   ],
   "source": [
    "chain = simulate(A, int(1e3)+T_mix)\n",
    "print(chain)"
   ]
  },
  {
   "cell_type": "code",
   "execution_count": 23,
   "metadata": {
    "collapsed": false
   },
   "outputs": [
    {
     "data": {
      "image/png": "[encoded data removed]",
      "text/plain": [
       "<matplotlib.figure.Figure at 0x26e87e05908>"
      ]
     },
     "metadata": {},
     "output_type": "display_data"
    }
   ],
   "source": [
    "samples, bins = np.histogram(chain[T_mix:], bins=[0, 1, 2, 3, 4, 5, 6])\n",
    "#print(chain[T_mix:])\n",
    "#print(samples)\n",
    "plt.hist(chain[T_mix:], bins=[0, 1, 2, 3, 4, 5, 6])\n",
    "plt.title('Histogram')\n",
    "plt.show()"
   ]
  },
  {
   "cell_type": "markdown",
   "metadata": {},
   "source": [
    "The histogram results:"
   ]
  },
  {
   "cell_type": "code",
   "execution_count": 15,
   "metadata": {
    "collapsed": false
   },
   "outputs": [
    {
     "name": "stdout",
     "output_type": "stream",
     "text": [
      "[ 0.236  0.086  0.112  0.2    0.279  0.087]\n"
     ]
    }
   ],
   "source": [
    "print(samples/sum(samples))"
   ]
  },
  {
   "cell_type": "markdown",
   "metadata": {},
   "source": [
    "Stationary distribution $\\pi$:"
   ]
  },
  {
   "cell_type": "code",
   "execution_count": 16,
   "metadata": {
    "collapsed": false
   },
   "outputs": [
    {
     "name": "stdout",
     "output_type": "stream",
     "text": [
      "[ 0.25        0.08333333  0.11111111  0.22222222  0.25        0.08333333]\n"
     ]
    }
   ],
   "source": [
    "print(v)"
   ]
  },
  {
   "cell_type": "markdown",
   "metadata": {},
   "source": [
    "Although the samples are dependent, their histogram agrees with the stationary distribution obtained numerically from the first eigenvector."
   ]
  }
 ],
 "metadata": {
  "kernelspec": {
   "display_name": "Python 3",
   "language": "python",
   "name": "python3"
  },
  "language_info": {
   "codemirror_mode": {
    "name": "ipython",
    "version": 3
   },
   "file_extension": ".py",
   "mimetype": "text/x-python",
   "name": "python",
   "nbconvert_exporter": "python",
   "pygments_lexer": "ipython3",
   "version": "3.5.1"
  }
 },
 "nbformat": 4,
 "nbformat_minor": 0
}
