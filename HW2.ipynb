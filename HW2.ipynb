{
 "cells": [
  {
   "cell_type": "markdown",
   "metadata": {},
   "source": [
    "# Part 1: Importance Sampling"
   ]
  },
  {
   "cell_type": "markdown",
   "metadata": {},
   "source": [
    "In this exercise, we will try to evaluate the expectation $E[ I(X_i \\in B_{1/2}^{+}) ]$ where $I(.)$ denotes the indicator function, $B_{p}^{+}$ the portion of the unit $p$-norm ball that lies in the nonnegative orthant in $\\mathbb{R}^2$ and $X_i \\sim Unif(B_{\\infty}^{+})$. Since we know the pdf of $X_i$, we only need a clever proposal that will put heavier weight inside the 0.5-norm ball. For this purpose, we choose to sample from two independent exponential distributions of the same rate parameter $\\lambda$ s.t. $X_i \\sim q(\\mathbf{x}) = q_1(x_1)q_2(x_2)$.\n",
    "\n",
    "Hence we have \n",
    "$$\n",
    "p(\\mathbf{x}) = Unif(B_{\\infty}^{+}) \\\\\n",
    "q(\\mathbf{x}) = \\lambda^2 \\exp(-\\lambda (x_1 + x_2))\n",
    "$$\n",
    "\n",
    "Since the measure of the set $B_{\\infty}^{+}$ is 1, the nominal pdf $p(.)$ is simply 1 for all values in its support. Then the sampler becomes:\n",
    "\n",
    "$$\n",
    "E[I(\\mathbf{x} \\in B_{1/2}^{+})] \\approx \\dfrac{1}{N} \\sum_{i=1}^{N} \\dfrac{I(\\mathbf{x}^{(i)} \\in B_{1/2}^{+})} \n",
    "                                                           {\\lambda^2 \\exp(-\\lambda (x_1 + x_2))}\n",
    "$$\n",
    "\n",
    "Normally, to calculate the area, we would have to multiply by the area of the support of $p$. However this is unnecessary as we know it to be 1. We finally have to multiply by 4, to account for all 4 quadrants.\n",
    "\n",
    "Intuitively, instead of sampling uniformly from the unit square and rejecting samples that lie outside the half-norm ball, we put more weight towards the center, and get more samples around the axes. This is really equivalent to rejection sampling on steroids.\n",
    "\n",
    "For estimating the variance of the estimator (!), we rely on the following formula:\n",
    "\n",
    "$Var[\\hat{\\mu_q}] = \\dfrac{1}{N} \\sum_i \\left( \n",
    "    \\dfrac{I(\\mathbf{x} \\in B_{1/2})}{\\lambda^2 \\exp(-\\lambda (x_1 + x_2))} - \\hat{\\mu_q}\n",
    "    \\right)^2\n",
    "    $"
   ]
  },
  {
   "cell_type": "code",
   "execution_count": null,
   "metadata": {
    "collapsed": true
   },
   "outputs": [],
   "source": [
    "%matplotlib inline\n",
    "import numpy as np\n",
    "import scipy as sp\n",
    "from matplotlib import pyplot as pl \n",
    "import seaborn as sns"
   ]
  },
  {
   "cell_type": "markdown",
   "metadata": {},
   "source": [
    "To sample a 2-vector of independent exponentials jointly parameterized by rate parameter $\\lambda$, we use the inversion trick."
   ]
  },
  {
   "cell_type": "code",
   "execution_count": 85,
   "metadata": {
    "collapsed": false
   },
   "outputs": [],
   "source": [
    "def get_bivar_exp_sample(lbda=.1, n=1000):\n",
    "    u = np.random.rand(2,n)\n",
    "    return -np.log(u) / lbda"
   ]
  },
  {
   "cell_type": "code",
   "execution_count": 592,
   "metadata": {
    "collapsed": false
   },
   "outputs": [],
   "source": [
    "def get_halfnorm_ball_area(lbda, n=1000):\n",
    "    x = get_bivar_exp_sample(lbda, n)\n",
    "    ind = np.linalg.norm(x, .5, axis=0) <= 1\n",
    "    \n",
    "    W = 1 / (np.exp(-lbda * np.sum(x, axis=0)) * (lbda**2))\n",
    "    Wsq = 1 / (np.exp(-2 * lbda * np.sum(x, axis=0)) * (lbda**4))\n",
    "    mean = np.sum(W[ind])*4 / n\n",
    "    var = np.square(4*ind.astype(float)*W - mean).sum() / n\n",
    "    \n",
    "    return mean,var "
   ]
  },
  {
   "cell_type": "code",
   "execution_count": 602,
   "metadata": {
    "collapsed": false
   },
   "outputs": [
    {
     "name": "stdout",
     "output_type": "stream",
     "text": [
      "The Expectation of Area:  0.649405221484\n",
      "Estimator Variance:  0.582773906375\n"
     ]
    }
   ],
   "source": [
    "mean, var = get_halfnorm_ball_area(4.)\n",
    "print \"The Expectation of Area: \", mean\n",
    "print \"Estimator Variance: \", var"
   ]
  },
  {
   "cell_type": "markdown",
   "metadata": {},
   "source": [
    "Luckily, we have an analytical formula for the area of the p-norm ball that we can use to check our calculation. It is:\n",
    "\n",
    "$m(B_{p}) = \\dfrac{\\Gamma(1 + \\frac{1}{p})^n}{\\Gamma(1 + \\frac{n}{p})} 2^n$"
   ]
  },
  {
   "cell_type": "code",
   "execution_count": 476,
   "metadata": {
    "collapsed": false
   },
   "outputs": [
    {
     "data": {
      "text/plain": [
       "0.66666666666666663"
      ]
     },
     "execution_count": 476,
     "metadata": {},
     "output_type": "execute_result"
    }
   ],
   "source": [
    "def analytical_unit_ball_volume(p, n):\n",
    "    return 2**n * (sp.special.gamma(1. + (1./p))**n) / sp.special.gamma(1. + (n/p))\n",
    "\n",
    "# analytical_unit_ball_volume(2, 2) # pi!\n",
    "analytical_unit_ball_volume(.5,2) # close enough!"
   ]
  },
  {
   "cell_type": "markdown",
   "metadata": {},
   "source": [
    "We experiment to find, empirically, that the best $\\lambda$ is around 4."
   ]
  },
  {
   "cell_type": "code",
   "execution_count": 606,
   "metadata": {
    "collapsed": true
   },
   "outputs": [],
   "source": [
    "ls = np.linspace(0.2, 10, 80)\n",
    "\n",
    "means = []\n",
    "vararr = []\n",
    "for i in ls:\n",
    "    mean, var = get_halfnorm_ball_area(i)\n",
    "    means.append(mean)\n",
    "    vararr.append(var)"
   ]
  },
  {
   "cell_type": "code",
   "execution_count": 607,
   "metadata": {
    "collapsed": false
   },
   "outputs": [
    {
     "name": "stdout",
     "output_type": "stream",
     "text": [
      "Minimizing lambda value:  3.79746835443\n",
      "Minimum Variance:  0.464386832062\n"
     ]
    },
    {
     "data": {
      "image/png": "[encoded data removed]",
      "text/plain": [
       "<matplotlib.figure.Figure at 0x10af60cd0>"
      ]
     },
     "metadata": {},
     "output_type": "display_data"
    }
   ],
   "source": [
    "pl.semilogy()\n",
    "pl.plot(ls, vararr)\n",
    "\n",
    "print \"Minimizing lambda value: \", ls[np.argmin(vararr)]\n",
    "print \"Minimum Variance: \", np.min(vararr)"
   ]
  },
  {
   "cell_type": "markdown",
   "metadata": {},
   "source": [
    "# Part 2: The Die"
   ]
  },
  {
   "cell_type": "markdown",
   "metadata": {},
   "source": [
    "We first describe the algebraic relationship in state transitions of the die. Let every state of the die be $n_i$. Then the transition probability for one roll is $p(f_t|n_t) = Uni(A \\backslash \\{n_t, 7-n_t\\})$. We define $A = \\{1,2,3,4,5,6\\}$. The result is then transformed according to a map $g$:\n",
    "\n",
    "$$\n",
    "n_{t+1} = g(n_t, f_t) = \n",
    "\\begin{cases} \n",
    "      n_t & f_t(\\mod 4) = 0 \\\\\n",
    "      7 -f_t & f_t(\\mod 4) = 1 \\\\\n",
    "      7 -n_t & f_t(\\mod 4) = 2 \\\\\n",
    "      f_t & f_t(\\mod 4) = 3 \\\\\n",
    "   \\end{cases}\n",
    "$$\n"
   ]
  },
  {
   "cell_type": "code",
   "execution_count": 576,
   "metadata": {
    "collapsed": false
   },
   "outputs": [
    {
     "name": "stdout",
     "output_type": "stream",
     "text": [
      "[[ 0.25  0.    0.    0.    0.    0.25]\n",
      " [ 0.25  0.25  0.25  0.25  0.25  0.25]\n",
      " [ 0.25  0.25  0.    0.5   0.25  0.25]\n",
      " [ 0.    0.    0.5   0.    0.    0.  ]\n",
      " [ 0.    0.25  0.    0.    0.25  0.  ]\n",
      " [ 0.25  0.25  0.25  0.25  0.25  0.25]]\n"
     ]
    }
   ],
   "source": [
    "def g(n, f):\n",
    "    return [n, 7-f, 7-n, f][f % 4]\n",
    "\n",
    "A = np.zeros((6,6))\n",
    "for i in range(1,7):\n",
    "    D = set(range(1,7)).difference((i, 7-i))\n",
    "    for x in [g(i, x) for x in D]:\n",
    "        A[x-1, i-1] += .25 #column-stochastic matrix\n",
    "print A"
   ]
  },
  {
   "cell_type": "code",
   "execution_count": 581,
   "metadata": {
    "collapsed": false,
    "scrolled": true
   },
   "outputs": [
    {
     "data": {
      "text/plain": [
       "<matplotlib.axes._subplots.AxesSubplot at 0x10b3f0210>"
      ]
     },
     "execution_count": 581,
     "metadata": {},
     "output_type": "execute_result"
    },
    {
     "data": {
      "image/png": "[encoded data removed]",
      "text/plain": [
       "<matplotlib.figure.Figure at 0x10b6dc2d0>"
      ]
     },
     "metadata": {},
     "output_type": "display_data"
    }
   ],
   "source": [
    "pl.figure(figsize=(3,3))\n",
    "sns.heatmap(A, annot=True, fmt=\".2f\", xticklabels=range(1,7), yticklabels=range(1,7), cbar=False)"
   ]
  },
  {
   "cell_type": "code",
   "execution_count": 578,
   "metadata": {
    "collapsed": false
   },
   "outputs": [
    {
     "name": "stdout",
     "output_type": "stream",
     "text": [
      "[ 0.08333333  0.25        0.22222222  0.11111111  0.08333333  0.25      ]\n"
     ]
    }
   ],
   "source": [
    "val, v = sp.linalg.eig(A)\n",
    "v = v[:,np.isclose(val, 1.0)].ravel()\n",
    "stat =v/ np.sum(v) # the stationary distribution\n",
    "print stat"
   ]
  },
  {
   "cell_type": "markdown",
   "metadata": {},
   "source": [
    "The detailed balance condition, we check as follows:"
   ]
  },
  {
   "cell_type": "code",
   "execution_count": 579,
   "metadata": {
    "collapsed": false
   },
   "outputs": [
    {
     "data": {
      "text/plain": [
       "False"
      ]
     },
     "execution_count": 579,
     "metadata": {},
     "output_type": "execute_result"
    }
   ],
   "source": [
    "np.allclose(A * stat, (A.T * stat).T)"
   ]
  },
  {
   "cell_type": "markdown",
   "metadata": {},
   "source": [
    "Below we carry out the experiments for items (d) and (e) of the question."
   ]
  },
  {
   "cell_type": "code",
   "execution_count": 13,
   "metadata": {
    "collapsed": false
   },
   "outputs": [
    {
     "name": "stdout",
     "output_type": "stream",
     "text": [
      "[ 1.  0.  0.  0.  0.  0.]\n"
     ]
    },
    {
     "data": {
      "image/png": "[encoded data removed]",
      "text/plain": [
       "<matplotlib.figure.Figure at 0x108cbf390>"
      ]
     },
     "metadata": {},
     "output_type": "display_data"
    },
    {
     "data": {
      "text/plain": [
       "<matplotlib.axes._subplots.AxesSubplot at 0x1086330d0>"
      ]
     },
     "execution_count": 13,
     "metadata": {},
     "output_type": "execute_result"
    },
    {
     "data": {
      "image/png": "[encoded data removed]",
      "text/plain": [
       "<matplotlib.figure.Figure at 0x108bd1110>"
      ]
     },
     "metadata": {},
     "output_type": "display_data"
    }
   ],
   "source": [
    "#pi = np.random.multinomial(1, [1/6.]*6, size=1).ravel()\n",
    "def ket(i, n):\n",
    "    a = np.zeros(n)\n",
    "    a[i] = 1\n",
    "    return a\n",
    "\n",
    "pi = ket(0,6)\n",
    "\n",
    "print pi\n",
    "def run_until_mix(pi, A, tol=1e-8):\n",
    "    err = [np.linalg.norm(pi - stat)]\n",
    "    mix = np.matrix(pi).T\n",
    "\n",
    "    while err[-1] > tol:\n",
    "        pi = A.dot(pi)\n",
    "        mix = np.c_[mix, np.matrix(pi).T]\n",
    "        err.append(np.linalg.norm(pi - stat))\n",
    "        \n",
    "    return pi, err, mix\n",
    "\n",
    "pi,err,mix = run_until_mix(pi, A)\n",
    "\n",
    "pl.yscale(\"log\")\n",
    "pl.title(\"log Euclidean Error\" + \"| $T_{mix} = %d$\" % (len(err)-1))\n",
    "pl.xlabel(\"Iterations\")\n",
    "pl.plot(err)\n",
    "pl.show()\n",
    "\n",
    "#pl.imshow(mix, interpolation=\"none\")\n",
    "f = pl.figure(figsize=(15,4))\n",
    "sns.heatmap(mix, yticklabels=range(1,7))"
   ]
  },
  {
   "cell_type": "markdown",
   "metadata": {},
   "source": [
    "For the rest of the question. We re-implement the chain without the bells and whistles. We also add the functionality to draw a sample. "
   ]
  },
  {
   "cell_type": "code",
   "execution_count": 17,
   "metadata": {
    "collapsed": false
   },
   "outputs": [],
   "source": [
    "def sample_run(st, A, N=24):\n",
    "    arr = []\n",
    "    for i in range(N):\n",
    "        arr.append(st)\n",
    "        st = np.random.choice(range(6), p=A.dot(ket(st,6))) # advance the chain one step\n",
    "    return st, arr"
   ]
  },
  {
   "cell_type": "code",
   "execution_count": 24,
   "metadata": {
    "collapsed": false
   },
   "outputs": [],
   "source": [
    "# draw 1000 independent samples and plot\n",
    "samples = []\n",
    "arrs = []\n",
    "for i in range(1000):\n",
    "    run = sample_run(1, A)\n",
    "    samples.append(run[0])\n",
    "    arrs.append(run[1])\n",
    "    \n",
    "unique, counts = np.unique(np.array(samples) + 1, return_counts=True)\n"
   ]
  },
  {
   "cell_type": "code",
   "execution_count": 25,
   "metadata": {
    "collapsed": false
   },
   "outputs": [
    {
     "name": "stdout",
     "output_type": "stream",
     "text": [
      "[1 2 3 4 5 6] [ 85 260 207 115  80 253]\n"
     ]
    }
   ],
   "source": [
    "print unique, counts"
   ]
  },
  {
   "cell_type": "code",
   "execution_count": 38,
   "metadata": {
    "collapsed": false
   },
   "outputs": [
    {
     "data": {
      "text/plain": [
       "<matplotlib.axes._subplots.AxesSubplot at 0x109a14090>"
      ]
     },
     "execution_count": 38,
     "metadata": {},
     "output_type": "execute_result"
    },
    {
     "data": {
      "image/png": "[encoded data removed]",
      "text/plain": [
       "<matplotlib.figure.Figure at 0x109babe50>"
      ]
     },
     "metadata": {},
     "output_type": "display_data"
    }
   ],
   "source": [
    "sns.barplot(unique, counts)"
   ]
  }
 ],
 "metadata": {
  "kernelspec": {
   "display_name": "Python 2",
   "language": "python",
   "name": "python2"
  },
  "language_info": {
   "codemirror_mode": {
    "name": "ipython",
    "version": 2
   },
   "file_extension": ".py",
   "mimetype": "text/x-python",
   "name": "python",
   "nbconvert_exporter": "python",
   "pygments_lexer": "ipython2",
   "version": "2.7.10"
  }
 },
 "nbformat": 4,
 "nbformat_minor": 0
}
