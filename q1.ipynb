{
 "cells": [
  {
   "cell_type": "code",
   "execution_count": 17,
   "metadata": {
    "collapsed": false
   },
   "outputs": [],
   "source": [
    "import numpy as np\n",
    "from numpy import *\n",
    "import math\n",
    "import matplotlib.pyplot as plt\n",
    "\n",
    "# this function is from stackoverflow\n",
    "def norm_pdf_multivariate(x, mu, sigma):\n",
    "    size = len(x)\n",
    "    if size == len(mu) and (size, size) == sigma.shape:\n",
    "        det = linalg.det(sigma)\n",
    "        if det == 0:\n",
    "            raise NameError(\"The covariance matrix can't be singular\")\n",
    "\n",
    "        norm_const = 1.0/ ( math.pow((2*pi),float(size)/2) * math.pow(det,1.0/2) )\n",
    "        x_mu = matrix(x - mu)\n",
    "        inv = sigma.I        \n",
    "        result = math.pow(math.e, -0.5 * (x_mu * inv * x_mu.T))\n",
    "        return norm_const * result\n",
    "    else:\n",
    "        raise NameError(\"The dimensions of the input don't match\")\n",
    "\n",
    "def p_norm(x,y,p):\n",
    "\treturn np.power(np.power(np.abs(x),p) + np.power(np.abs(y),p), 1.0/p)\n",
    "\n",
    "def weightFunction(x, y):\n",
    "\tif p_norm(x,y,0.5)<=1:\n",
    "\t\treturn 1.0 / norm_pdf_multivariate(np.array([x, y]), mu, cov)\n",
    "\telse:\n",
    "\t\treturn 0\n",
    "\n",
    "def estimateArea():\n",
    "\tx, y = np.random.multivariate_normal(mu, cov, N).T\n",
    "\n",
    "\tW = []\n",
    "\tfor i in range(N):\n",
    "\t\tW.append(weightFunction(x[i],y[i]))\n",
    "\tZ = np.mean(W)\n",
    "\treturn Z"
   ]
  },
  {
   "cell_type": "code",
   "execution_count": 18,
   "metadata": {
    "collapsed": false
   },
   "outputs": [
    {
     "name": "stdout",
     "output_type": "stream",
     "text": [
      "My proposal distribution is a multivariate gaussian\n",
      "with mean =  [0 0]\n",
      " and covariance = \n",
      "[[ 0.1  0. ]\n",
      " [ 0.   0.1]]\n",
      "\n",
      "    Mean of my estimate:  0.668279735786\n",
      "Variance of my estimate:  0.00074694196184\n"
     ]
    }
   ],
   "source": [
    "N = 1000\n",
    "mu = np.array([0, 0])\n",
    "cov = np.matrix([[0.1, 0], [0, 0.1]])  # diagonal covariance\n",
    "\n",
    "Zs = []\n",
    "for i in range(10):\n",
    "\tz = estimateArea()\n",
    "\tZs.append(z)\n",
    "\n",
    "print(\"My proposal distribution is a multivariate gaussian\")\n",
    "print(\"with mean = \", mu)\n",
    "print(\" and covariance = \")\n",
    "print(cov)\n",
    "print(\"\")\n",
    "print(\"    Mean of my estimate: \", np.mean(Zs))\n",
    "print(\"Variance of my estimate: \", np.var(Zs))"
   ]
  },
  {
   "cell_type": "code",
   "execution_count": null,
   "metadata": {
    "collapsed": true
   },
   "outputs": [],
   "source": []
  }
 ],
 "metadata": {
  "kernelspec": {
   "display_name": "Python 3",
   "language": "python",
   "name": "python3"
  },
  "language_info": {
   "codemirror_mode": {
    "name": "ipython",
    "version": 3
   },
   "file_extension": ".py",
   "mimetype": "text/x-python",
   "name": "python",
   "nbconvert_exporter": "python",
   "pygments_lexer": "ipython3",
   "version": "3.5.1"
  }
 },
 "nbformat": 4,
 "nbformat_minor": 0
}
