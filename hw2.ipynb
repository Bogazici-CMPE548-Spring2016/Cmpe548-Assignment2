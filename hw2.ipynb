{
 "cells": [
  {
   "cell_type": "code",
   "execution_count": 2,
   "metadata": {},
   "outputs": [],
   "source": [
    "import numpy as np\n",
    "from scipy import linalg as LA\n",
    "import matplotlib.pyplot as plt\n",
    "%matplotlib inline"
   ]
  },
  {
   "cell_type": "heading",
   "metadata": {},
   "level": 1,
   "source": [
    "Part-I"
   ]
  },
  {
   "cell_type": "code",
   "execution_count": null,
   "metadata": {},
   "outputs": [],
   "source": [
    ""
   ]
  },
  {
   "cell_type": "heading",
   "metadata": {},
   "level": 1,
   "source": [
    "Part-II"
   ]
  },
  {
   "cell_type": "code",
   "execution_count": 3,
   "metadata": {},
   "outputs": [],
   "source": [
    "#I couldn't find the pattern, if any, and wrote the transitions explicitly\n",
    "transition = np.array([[1, 0, 0, 0, 0, 1], [1, 1, 1, 1, 1, 1], [1, 1, 0, 2, 1, 1],\n",
    "                       [0, 0, 2, 0, 0, 0], [0, 1, 0, 0, 1, 0], [1, 1, 1, 1, 1, 1]])\n",
    "normalizer = np.sum(transition, axis=0)\n",
    "transition = np.true_divide(transition, normalizer)\n",
    "\n",
    "#for a transition kernel A, suppose x is an invariant distribution, i.e. Ax = x.\n",
    "#Then 1 is an eigenvalue, and x the corresponding (family of) eigenvector(s). \n",
    "#With its elements summing up to 1, this eigenvector is an invariant distribution\n",
    "Lambda, X_l, X = LA.eig(transition, left = True)\n",
    "stationary = np.true_divide(X[:, 0], np.sum(X[:, 0]))"
   ]
  },
  {
   "cell_type": "markdown",
   "metadata": {},
   "source": [
    "$\\[1,1, ... 1]$ is always a left eigenvector corresponding to $\\lambda = 1$, \n",
    "since a column of the transition matrix sums up to 1.\n",
    "\n",
    "1 is the largest eigenvalue of the transition matrix. $A$ can be written as the sum of rank-1 matrices obtained by the outer products of left and right eigenvectors, scaled by the corresponding eigenvalues. As we take powers, the effect of eigenvectors corresponding to $\\mid\\lambda_i\\mid<1$ diminish, and $A^k$ gets closer to the rank-1 matrix with all columns equal to the eigenvector corresponding to the eigenvalue 1 (since the corresponding left eigenvector is all 1s), which makes this invariant distribution stationary. \n",
    "\n",
    "Convergence is then determined by how fast the second largest eigenvalue approaches to 0 as we take its powers.\n",
    "\n"
   ]
  },
  {
   "cell_type": "code",
   "execution_count": 4,
   "metadata": {},
   "outputs": [
    {
     "name": "stdout",
     "output_type": "stream",
     "text": [
      "[ 0.08333333  0.25        0.22222222  0.11111111  0.08333333  0.25      ]\n[ 0.08333333  0.25        0.22222222  0.11111111  0.08333333  0.25      ]\n0.5\n[ 0.40824829  0.40824829  0.40824829  0.40824829  0.40824829  0.40824829]\n"
     ]
    }
   ],
   "source": [
    "#the eigenvector\n",
    "print(stationary)\n",
    "#verification\n",
    "print(np.linalg.matrix_power(transition, 50)[:, 3])\n",
    "#The second largest eigenvalue\n",
    "print np.abs(Lambda[1])\n",
    "#The left eigenvector corresponding to lambda = 1, [c, c, ..., c]\n",
    "print X_l[:, 0]"
   ]
  },
  {
   "cell_type": "code",
   "execution_count": 5,
   "metadata": {},
   "outputs": [],
   "source": [
    ""
   ]
  },
  {
   "cell_type": "code",
   "execution_count": 5,
   "metadata": {},
   "outputs": [
    {
     "name": "stdout",
     "output_type": "stream",
     "text": [
      "25\n"
     ]
    }
   ],
   "source": [
    "x0 = np.array([1, 0, 0, 0, 0, 0])\n",
    "def tvn(X_right, X_left, Lambda, p):\n",
    "    return np.linalg.norm(np.dot(np.dot(X_right[:, 1:] * np.abs(np.power(Lambda[1:], p)), \n",
    "                                        X_left[:, 1:].T) , x0), 1)\n",
    "\n",
    "#Total variation norm\n",
    "epsilon = 1e-8\n",
    "t_mix = next(p for p in range(1, 1000) if tvn(X, X_l, Lambda, p) <= epsilon)\n",
    "print t_mix"
   ]
  },
  {
   "cell_type": "code",
   "execution_count": 6,
   "metadata": {},
   "outputs": [
    {
     "data": {
      "image/png": "[encoded data removed]"
     },
     "output_type": "display_data",
     "text": [
      "<matplotlib.figure.Figure at 0x106893390>"
     ],
     "metadata": {}
    }
   ],
   "source": [
    "pows = [1, 3, 5, 10, 25]\n",
    "for (i, p) in enumerate(pows, start=1):\n",
    "    pl = plt.subplot(1, 5, i)\n",
    "    plt.imshow(np.linalg.matrix_power(transition, p), cmap='gray_r')\n",
    "    pl.axes.xaxis.set_ticklabels([])\n",
    "    pl.axes.yaxis.set_ticklabels([])"
   ]
  },
  {
   "cell_type": "code",
   "execution_count": 7,
   "metadata": {},
   "outputs": [
    {
     "name": "stdout",
     "output_type": "stream",
     "text": [
      "[ 0.08333333  0.25        0.22222222  0.11111111  0.08333333  0.25      ]\n[ 0.075  0.252  0.228  0.114  0.087  0.244]"
     ]
    },
    {
     "name": "stdout",
     "output_type": "stream",
     "text": [
      "\n"
     ]
    },
    {
     "data": {
      "text/plain": [
       "[]"
      ]
     },
     "execution_count": 7,
     "output_type": "execute_result",
     "metadata": {}
    },
    {
     "data": {
      "image/png": "[encoded data removed]"
     },
     "output_type": "display_data",
     "text": [
      "<matplotlib.figure.Figure at 0x107304a90>"
     ],
     "metadata": {}
    }
   ],
   "source": [
    "def next_x(cdf, x_t):\n",
    "    return [np.digitize(np.random.sample(1), cdf[:, x])[0] for x in x_t]\n",
    "\n",
    "T = t_mix\n",
    "cdf = np.dot(np.tril(np.ones(6)), transition)\n",
    "print stationary\n",
    "samples = []\n",
    "f = [0 for i in range(1000)]   \n",
    "samples.append(f)\n",
    "\n",
    "for t in range(1, T):\n",
    "   samples.append(next_x(cdf, samples[t-1]))\n",
    "\n",
    "#not showing t = 1 for visual convenience\n",
    "s = np.apply_along_axis(\n",
    "    lambda x: np.histogram(x, bins = [0,1,2,3,4,5,6], density=True)[0],\n",
    "    0, np.array(samples).T[:, 1:])\n",
    "\n",
    "print(s[:, T-2])\n",
    "\n",
    "pl = plt.imshow(s, cmap = 'gray_r')\n",
    "pl.axes.yaxis.set_ticklabels([])"
   ]
  },
  {
   "cell_type": "code",
   "execution_count": 8,
   "metadata": {},
   "outputs": [
    {
     "name": "stdout",
     "output_type": "stream",
     "text": [
      "[ 0.08333333  0.25        0.22222222  0.11111111  0.08333333  0.25      ]\n[ 0.0857  0.2516  0.2182  0.1096  0.0821  0.2528]\n"
     ]
    },
    {
     "data": {
      "image/png": "[encoded data removed]"
     },
     "output_type": "display_data",
     "text": [
      "<matplotlib.figure.Figure at 0x10729ad50>"
     ],
     "metadata": {}
    }
   ],
   "source": [
    "T = 10000\n",
    "cdf = np.dot(np.tril(np.ones(6)), transition)\n",
    "samples = [0]\n",
    "\n",
    "for t in range(1, T):\n",
    "   samples.append(next_x(cdf, [samples[t-1]])[0])\n",
    "s = np.histogram(np.array(samples), bins = [0,1,2,3,4,5,6], density = True)[0]\n",
    "\n",
    "print stationary\n",
    "print s\n",
    "pl = plt.hist(np.array(samples), bins = np.arange(0, 7))"
   ]
  },
  {
   "cell_type": "code",
   "execution_count": null,
   "metadata": {},
   "outputs": [],
   "source": [
    ""
   ]
  }
 ],
 "metadata": {},
 "nbformat": 4,
 "nbformat_minor": 0
}