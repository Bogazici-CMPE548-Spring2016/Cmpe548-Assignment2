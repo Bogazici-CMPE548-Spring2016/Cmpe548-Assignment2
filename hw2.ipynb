{
 "cells": [
  {
   "cell_type": "code",
   "execution_count": 96,
   "metadata": {},
   "outputs": [],
   "source": [
    "import math\n",
    "import numpy as np\n",
    "import matplotlib.pyplot as plt\n",
    "%matplotlib inline"
   ]
  },
  {
   "cell_type": "heading",
   "metadata": {},
   "level": 1,
   "source": [
    "Part-II"
   ]
  },
  {
   "cell_type": "code",
   "execution_count": 97,
   "metadata": {},
   "outputs": [],
   "source": [
    "#I couldn't find the pattern, if any, and wrote the transitions explicitly\n",
    "transition = np.array([[1, 0, 0, 0, 0, 1],[1, 1, 1, 1, 1, 1],[1, 1, 0, 2, 1, 1],[0, 0, 2, 0, 0, 0],\n",
    "          [0, 1, 0, 0, 1, 0],[1, 1, 1, 1, 1, 1]])\n",
    "normalizer = np.sum(transition, axis=0)\n",
    "transition = np.true_divide(transition, normalizer)\n",
    "\n",
    "#for a transition kernel A, suppose x is an invariant distribution, i.e. Ax = x.\n",
    "#Then 1 is an eigenvalue, and x the corresponding\n",
    "#(family of) eigenvector(s). With elements summing up to 1, \n",
    "#this eigenvector is an invariant distribution\n",
    "Lambda, X = np.linalg.eig(transition)\n",
    "stationary = np.true_divide(X[:, 0], np.sum(X[:, 0]))\n"
   ]
  },
  {
   "cell_type": "markdown",
   "metadata": {},
   "source": [
    "$\\[1,1, ... 1]$ is always a left eigenvector corresponding to $\\lambda = 1$, \n",
    "since a column of the transition matrix sums up to 1.\n",
    "\n",
    "1 is the largest eigenvalue of the transition matrix. $A$ can be written as the sum of rank-1 matrices obtained by the outer products of left and right eigenvectors, scaled by the corresponding eigenvalues. As we take powers, the effect of eigenvectors corresponding to $\\mid\\lambda_i\\mid<1$ diminish, and $A^k$ gets closer to the rank-1 matrix with all columns equal to the eigenvector corresponding to the eigenvalue 1 (since the corresponding left eigenvector is all 1s), which makes this invariant distribution stationary. \n",
    "\n",
    "Convergence is then determined by how fast the largest smaller (than 1) eigenvalue approaches to 0 as we take its powers.\n",
    "\n"
   ]
  },
  {
   "cell_type": "code",
   "execution_count": 98,
   "metadata": {},
   "outputs": [
    {
     "name": "stdout",
     "output_type": "stream",
     "text": [
      "[ 0.08333333  0.25        0.22222222  0.11111111  0.08333333  0.25      ]\n[ 0.08333333  0.25        0.22222222  0.11111111  0.08333333  0.25      ]\n-0.5\n"
     ]
    }
   ],
   "source": [
    "#the eigenvector\n",
    "print(stationary)\n",
    "#verification\n",
    "print(np.linalg.matrix_power(transition, 50)[:, 3])\n",
    "#The second largest eigenvalue\n",
    "print Lambda[1]"
   ]
  },
  {
   "cell_type": "code",
   "execution_count": null,
   "metadata": {},
   "outputs": [],
   "source": [
    "plt.imshow(matrix, cmap=plt.get_cmap('gray'))"
   ]
  },
  {
   "cell_type": "code",
   "execution_count": null,
   "metadata": {},
   "outputs": [],
   "source": [
    ""
   ]
  }
 ],
 "metadata": {},
 "nbformat": 4,
 "nbformat_minor": 0
}