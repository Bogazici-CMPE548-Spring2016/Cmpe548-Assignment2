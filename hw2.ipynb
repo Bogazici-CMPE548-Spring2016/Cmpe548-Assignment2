{
 "cells": [
  {
   "cell_type": "code",
   "execution_count": 230,
   "metadata": {},
   "outputs": [],
   "source": [
    "import numpy as np\n",
    "from scipy import linalg as LA\n",
    "import matplotlib.pyplot as plt\n",
    "%matplotlib inline"
   ]
  },
  {
   "cell_type": "heading",
   "metadata": {},
   "level": 1,
   "source": [
    "Part-II"
   ]
  },
  {
   "cell_type": "code",
   "execution_count": 231,
   "metadata": {},
   "outputs": [],
   "source": [
    "#I couldn't find the pattern, if any, and wrote the transitions explicitly\n",
    "transition = np.array([[1, 0, 0, 0, 0, 1], [1, 1, 1, 1, 1, 1], [1, 1, 0, 2, 1, 1],\n",
    "                       [0, 0, 2, 0, 0, 0], [0, 1, 0, 0, 1, 0], [1, 1, 1, 1, 1, 1]])\n",
    "normalizer = np.sum(transition, axis=0)\n",
    "transition = np.true_divide(transition, normalizer)\n",
    "\n",
    "#for a transition kernel A, suppose x is an invariant distribution, i.e. Ax = x.\n",
    "#Then 1 is an eigenvalue, and x the corresponding (family of) eigenvector(s). \n",
    "#With its elements summing up to 1, this eigenvector is an invariant distribution\n",
    "Lambda, X_l, X = LA.eig(transition, left = True)\n",
    "stationary = np.true_divide(X[:, 0], np.sum(X[:, 0]))"
   ]
  },
  {
   "cell_type": "markdown",
   "metadata": {},
   "source": [
    "$\\[1,1, ... 1]$ is always a left eigenvector corresponding to $\\lambda = 1$, \n",
    "since a column of the transition matrix sums up to 1.\n",
    "\n",
    "1 is the largest eigenvalue of the transition matrix. $A$ can be written as the sum of rank-1 matrices obtained by the outer products of left and right eigenvectors, scaled by the corresponding eigenvalues. As we take powers, the effect of eigenvectors corresponding to $\\mid\\lambda_i\\mid<1$ diminish, and $A^k$ gets closer to the rank-1 matrix with all columns equal to the eigenvector corresponding to the eigenvalue 1 (since the corresponding left eigenvector is all 1s), which makes this invariant distribution stationary. \n",
    "\n",
    "Convergence is then determined by how fast the second largest eigenvalue approaches to 0 as we take its powers.\n",
    "\n"
   ]
  },
  {
   "cell_type": "code",
   "execution_count": 184,
   "metadata": {},
   "outputs": [],
   "source": [
    "#the eigenvector\n",
    "print(stationary)\n",
    "#verification\n",
    "print(np.linalg.matrix_power(transition, 50)[:, 3])\n",
    "#The second largest eigenvalue\n",
    "print np.abs(Lambda[1])\n",
    "#The left eigenvector corresponding to lambda = 1, [c, c, ..., c]\n",
    "print X_l[:, 0]"
   ]
  },
  {
   "cell_type": "code",
   "execution_count": 233,
   "metadata": {},
   "outputs": [],
   "source": [
    ""
   ]
  },
  {
   "cell_type": "code",
   "execution_count": 233,
   "metadata": {},
   "outputs": [
    {
     "name": "stdout",
     "output_type": "stream",
     "text": [
      "25\n"
     ]
    }
   ],
   "source": [
    "x0 = np.array([1, 0, 0, 0, 0, 0])\n",
    "def tvn(X_right, X_left, Lambda, p):\n",
    "    return np.linalg.norm(np.dot(np.dot(X_right[:, 1:] * np.abs(np.power(Lambda[1:], p)), \n",
    "                                        X_left[:, 1:].T) , x0), 1)\n",
    "\n",
    "#Total variation norm\n",
    "epsilon = 1e-8\n",
    "t_mix = next(p for p in range(1, 1000) if tvn(X, X_l, Lambda, p) <= epsilon)\n",
    "print t_mix"
   ]
  },
  {
   "cell_type": "code",
   "execution_count": 254,
   "metadata": {},
   "outputs": [
    {
     "data": {
      "image/png": "[encoded data removed]"
     },
     "output_type": "display_data",
     "text": [
      "<matplotlib.figure.Figure at 0x10a1aa2d0>"
     ],
     "metadata": {}
    }
   ],
   "source": [
    "pows = [1, 3, 5, 10, 25]\n",
    "for (i, p) in enumerate(pows, start=1):\n",
    "    pl = plt.subplot(1, 5, i)\n",
    "    plt.imshow(np.linalg.matrix_power(transition, p), cmap='gray_r')\n",
    "    pl.axes.xaxis.set_ticklabels([])\n",
    "    pl.axes.yaxis.set_ticklabels([])"
   ]
  },
  {
   "cell_type": "code",
   "execution_count": 270,
   "metadata": {},
   "outputs": [
    {
     "name": "stdout",
     "output_type": "stream",
     "text": [
      "[ 0.08333333  0.25        0.22222222  0.11111111  0.08333333  0.25      ]\n[ 0.072  0.256  0.231  0.111  0.089  0.241]"
     ]
    },
    {
     "name": "stdout",
     "output_type": "stream",
     "text": [
      "\n"
     ]
    },
    {
     "data": {
      "text/plain": [
       "[]"
      ]
     },
     "execution_count": 270,
     "output_type": "execute_result",
     "metadata": {}
    },
    {
     "data": {
      "image/png": "[encoded data removed]"
     },
     "output_type": "display_data",
     "text": [
      "<matplotlib.figure.Figure at 0x10b9fa450>"
     ],
     "metadata": {}
    }
   ],
   "source": [
    "def next_x(cdf, x_t):\n",
    "    return [np.digitize(np.random.sample(1), cdf[:, x])[0] for x in x_t]\n",
    "\n",
    "T = t_mix\n",
    "cdf = np.dot(np.tril(np.ones(6)), transition)\n",
    "print stationary\n",
    "samples = []\n",
    "f = [0 for i in range(1000)]   \n",
    "samples.append(f)\n",
    "\n",
    "for t in range(1, T):\n",
    "   samples.append(next_x(cdf, samples[t-1]))\n",
    "\n",
    "s = np.apply_along_axis(\n",
    "    lambda x: np.histogram(x, bins = [0,1,2,3,4,5,6], density=True)[0],\n",
    "    0, np.array(samples).T[:, 1:])\n",
    "print(s[:, T-2])\n",
    "\n",
    "pl = plt.imshow(s, cmap = 'gray_r')\n",
    "pl.axes.yaxis.set_ticklabels([])"
   ]
  },
  {
   "cell_type": "code",
   "execution_count": 279,
   "metadata": {},
   "outputs": [
    {
     "name": "stdout",
     "output_type": "stream",
     "text": [
      "[ 0.08333333  0.25        0.22222222  0.11111111  0.08333333  0.25      ]\n[ 0.0811  0.2429  0.2228  0.1101  0.0863  0.2568]"
     ]
    },
    {
     "name": "stdout",
     "output_type": "stream",
     "text": [
      "\n"
     ]
    },
    {
     "ename": "TypeError",
     "evalue": "bar() takes at least 2 arguments (1 given)",
     "output_type": "error",
     "traceback": [
      "\u001b[0;31m---------------------------------------------------------------------------\u001b[0m",
      "\u001b[0;31mTypeError\u001b[0m                                 Traceback (most recent call last)",
      "\u001b[0;32m<ipython-input-279-356f74b6ec8a>\u001b[0m in \u001b[0;36m<module>\u001b[0;34m()\u001b[0m\n\u001b[1;32m      8\u001b[0m \u001b[0ms\u001b[0m \u001b[0;34m=\u001b[0m \u001b[0mnp\u001b[0m\u001b[0;34m.\u001b[0m\u001b[0mhistogram\u001b[0m\u001b[0;34m(\u001b[0m\u001b[0mnp\u001b[0m\u001b[0;34m.\u001b[0m\u001b[0marray\u001b[0m\u001b[0;34m(\u001b[0m\u001b[0msamples\u001b[0m\u001b[0;34m)\u001b[0m\u001b[0;34m,\u001b[0m \u001b[0mbins\u001b[0m \u001b[0;34m=\u001b[0m \u001b[0;34m[\u001b[0m\u001b[0;36m0\u001b[0m\u001b[0;34m,\u001b[0m\u001b[0;36m1\u001b[0m\u001b[0;34m,\u001b[0m\u001b[0;36m2\u001b[0m\u001b[0;34m,\u001b[0m\u001b[0;36m3\u001b[0m\u001b[0;34m,\u001b[0m\u001b[0;36m4\u001b[0m\u001b[0;34m,\u001b[0m\u001b[0;36m5\u001b[0m\u001b[0;34m,\u001b[0m\u001b[0;36m6\u001b[0m\u001b[0;34m]\u001b[0m\u001b[0;34m,\u001b[0m \u001b[0mdensity\u001b[0m \u001b[0;34m=\u001b[0m \u001b[0mTrue\u001b[0m\u001b[0;34m)\u001b[0m\u001b[0;34m[\u001b[0m\u001b[0;36m0\u001b[0m\u001b[0;34m]\u001b[0m\u001b[0;34m\u001b[0m\u001b[0m\n\u001b[1;32m      9\u001b[0m \u001b[0;32mprint\u001b[0m \u001b[0ms\u001b[0m\u001b[0;34m\u001b[0m\u001b[0m\n\u001b[0;32m---> 10\u001b[0;31m \u001b[0mplt\u001b[0m\u001b[0;34m.\u001b[0m\u001b[0mbar\u001b[0m\u001b[0;34m(\u001b[0m\u001b[0mnp\u001b[0m\u001b[0;34m.\u001b[0m\u001b[0marray\u001b[0m\u001b[0;34m(\u001b[0m\u001b[0msamples\u001b[0m\u001b[0;34m)\u001b[0m\u001b[0;34m,\u001b[0m \u001b[0mbins\u001b[0m \u001b[0;34m=\u001b[0m \u001b[0mnp\u001b[0m\u001b[0;34m.\u001b[0m\u001b[0marange\u001b[0m\u001b[0;34m(\u001b[0m\u001b[0;36m0\u001b[0m\u001b[0;34m,\u001b[0m \u001b[0;36m7\u001b[0m\u001b[0;34m)\u001b[0m\u001b[0;34m)\u001b[0m\u001b[0;34m\u001b[0m\u001b[0m\n\u001b[0m\u001b[1;32m     11\u001b[0m \u001b[0;31m#pl = plt.imshow(s, cmap = 'gray_r')\u001b[0m\u001b[0;34m\u001b[0m\u001b[0;34m\u001b[0m\u001b[0m\n",
      "\u001b[0;31mTypeError\u001b[0m: bar() takes at least 2 arguments (1 given)"
     ]
    }
   ],
   "source": [
    "T = 10000\n",
    "cdf = np.dot(np.tril(np.ones(6)), transition)\n",
    "print stationary\n",
    "samples = [0]\n",
    "\n",
    "for t in range(1, T):\n",
    "   samples.append(next_x(cdf, [samples[t-1]])[0])\n",
    "s = np.histogram(np.array(samples), bins = [0,1,2,3,4,5,6], density = True)[0]\n",
    "print s\n",
    "plt.bar(np.array(samples), bins = np.arange(0, 7))\n",
    "#pl = plt.imshow(s, cmap = 'gray_r')"
   ]
  },
  {
   "cell_type": "code",
   "execution_count": null,
   "metadata": {},
   "outputs": [],
   "source": [
    ""
   ]
  }
 ],
 "metadata": {},
 "nbformat": 4,
 "nbformat_minor": 0
}