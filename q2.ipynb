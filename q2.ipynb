{
 "cells": [
  {
   "cell_type": "code",
   "execution_count": 95,
   "metadata": {
    "collapsed": false
   },
   "outputs": [
    {
     "name": "stdout",
     "output_type": "stream",
     "text": [
      "(a)\n",
      "Transition matrix A:\n",
      "[[ 0.25  0.25  0.25  0.25  0.25  0.25]\n",
      " [ 0.    0.25  0.    0.    0.25  0.  ]\n",
      " [ 0.    0.    0.    0.5   0.    0.  ]\n",
      " [ 0.25  0.25  0.5   0.    0.25  0.25]\n",
      " [ 0.25  0.25  0.25  0.25  0.25  0.25]\n",
      " [ 0.25  0.    0.    0.    0.    0.25]]\n"
     ]
    }
   ],
   "source": [
    "import numpy as np\n",
    "import matplotlib.pyplot as plt\n",
    "import matplotlib.cm as cm\n",
    "import time\n",
    "%matplotlib inline\n",
    "\n",
    "A = np.matrix([\t[0.25, \t0, \t\t0, \t\t0.25, \t0.25, \t0.25],\n",
    "\t\t\t   \t[0.25, \t0.25,\t0,\t\t0.25,\t0.25,\t0\t],\n",
    "\t\t\t   \t[0.25,\t0,\t\t0,\t\t0.5,\t0.25,\t0\t],\n",
    "\t\t\t   \t[0.25,\t0,\t\t0.5,\t0,\t\t0.25,\t0\t],\n",
    "\t\t\t   \t[0.25,\t0.25,\t0,\t\t0.25,\t0.25,\t0\t],\n",
    "\t\t\t   \t[0.25,\t0,\t\t0,\t\t0.25,\t0.25,\t0.25]])\n",
    "\n",
    "A = np.transpose(A)#Transition matrixi tersten olusturdum\n",
    "\n",
    "print(\"(a)\")\n",
    "print(\"Transition matrix A:\")\n",
    "print(A)"
   ]
  },
  {
   "cell_type": "code",
   "execution_count": 96,
   "metadata": {
    "collapsed": false
   },
   "outputs": [
    {
     "name": "stdout",
     "output_type": "stream",
     "text": [
      "(b)\n",
      "Stationary distribution of A: \n",
      "[[ 0.25      ]\n",
      " [ 0.08333333]\n",
      " [ 0.11111111]\n",
      " [ 0.22222222]\n",
      " [ 0.25      ]\n",
      " [ 0.08333333]]\n",
      "\n",
      "This stationary distribution is NOT a uniform distribution\n"
     ]
    }
   ],
   "source": [
    "L, B = np.linalg.eig(A)\n",
    "\n",
    "idx = L.argsort()[::-1]   \n",
    "L = L[idx]\n",
    "B = B[:,idx]\n",
    "\n",
    "B_inv = np.linalg.inv(B)\n",
    "S = B * np.linalg.matrix_power(np.diag(L),100) * B_inv\n",
    "\n",
    "P = S[:,0]\n",
    "\n",
    "print(\"(b)\")\n",
    "print(\"Stationary distribution of A: \")\n",
    "print(np.real(P))\n",
    "\n",
    "epsilon = 1e-8\n",
    "isUniform = True\n",
    "for i in range(5):\n",
    "\tif np.abs(P[i]-P[i+1]) > epsilon:\n",
    "\t\tisUniform = False\n",
    "print(\"\")\n",
    "if not isUniform:\n",
    "\tprint(\"This stationary distribution is NOT a uniform distribution\")\n",
    "else:\n",
    "\tprint(\"This stationary distribution is a uniform distribution\")"
   ]
  },
  {
   "cell_type": "code",
   "execution_count": 97,
   "metadata": {
    "collapsed": false
   },
   "outputs": [
    {
     "name": "stdout",
     "output_type": "stream",
     "text": [
      "(c)\n",
      "This process does NOT satisfy the detailed balance condition\n"
     ]
    }
   ],
   "source": [
    "isBalanced = True\n",
    "for i in range(6):\n",
    "\tfor j in range(6):\n",
    "\t\tLtR = A[i,j] * P[j]\n",
    "\t\tRtL = A[j,i] * P[i]\n",
    "\t\tif np.abs(LtR-RtL) > epsilon:\n",
    "\t\t\tisBalanced = False\n",
    "\n",
    "print(\"(c)\")\n",
    "if not isBalanced:\n",
    "\tprint(\"This process does NOT satisfy the detailed balance condition\")\n",
    "else:\n",
    "\tprint(\"This process satisfies the detailed balance condition\")"
   ]
  },
  {
   "cell_type": "code",
   "execution_count": 138,
   "metadata": {
    "collapsed": false
   },
   "outputs": [
    {
     "name": "stdout",
     "output_type": "stream",
     "text": [
      "(d)\n",
      "Tmix =  26\n",
      "\n",
      "(e)   A,       A^2,      A^5,     A^10,     A^100\n"
     ]
    },
    {
     "data": {
      "image/png": "[encoded data removed]",
      "text/plain": [
       "<matplotlib.figure.Figure at 0x7f4d4a4c6cf8>"
      ]
     },
     "metadata": {},
     "output_type": "display_data"
    },
    {
     "data": {
      "image/png": "[encoded data removed]",
      "text/plain": [
       "<matplotlib.figure.Figure at 0x7f4d4a67d5c0>"
      ]
     },
     "metadata": {},
     "output_type": "display_data"
    },
    {
     "name": "stdout",
     "output_type": "stream",
     "text": [
      "From the figure above, we can see that around T=10 the distribution starts to stabilize.\n",
      "With epsilon 1e-8 Tmix came out to be 26\n"
     ]
    }
   ],
   "source": [
    "fig, (ax1, ax2, ax3, ax4, ax5) = plt.subplots(1,5)\n",
    "\n",
    "#Pi0 = np.matrix([[1.0/6],[1.0/6],[1.0/6],[1.0/6],[1.0/6],[1.0/6]])\n",
    "Pi0 = np.matrix([[0],[0],[0.5],[0],[0.5],[0]]);\n",
    "diff = 1\n",
    "t = 0\n",
    "Tmix = 0\n",
    "TmixFound = 0\n",
    "Sequence = []\n",
    "Sequence.append(Pi0)\n",
    "while t < 100:\n",
    "    t += 1\n",
    "    A_t = np.linalg.matrix_power(A,t)\n",
    "    Pi = A_t * Pi0\n",
    "    if t<50:\n",
    "        Sequence.append(Pi)\n",
    "    diff = np.linalg.norm(P - Pi, 2)\n",
    "    if diff <= epsilon and not(TmixFound):\n",
    "        Tmix = t\n",
    "        TmixFound = 1\n",
    "    if t==1:\n",
    "        ax1.set_title('A')\n",
    "        ax1.imshow(A_t, interpolation='nearest', cmap = cm.Greys_r)\n",
    "        ax1.grid(True)\n",
    "    elif t==2:\n",
    "        ax2.set_title('A^2')\n",
    "        ax2.imshow(A_t, interpolation='nearest', cmap = cm.Greys_r)\n",
    "        ax2.grid(True)\n",
    "    elif t==5:\n",
    "        ax3.set_title('A^5')\n",
    "        ax3.imshow(A_t, interpolation='nearest', cmap = cm.Greys_r)\n",
    "        ax3.grid(True)\n",
    "    elif t==10:\n",
    "        ax4.set_title('A^10')\n",
    "        ax4.imshow(A_t, interpolation='nearest', cmap = cm.Greys_r)\n",
    "        ax4.grid(True)\n",
    "    elif t==100:\n",
    "        ax5.set_title('A^100')\n",
    "        ax5.imshow(A_t, interpolation='nearest', cmap = cm.Greys_r)\n",
    "        ax5.grid(True)\n",
    "    \n",
    "print(\"(d)\")\n",
    "print(\"Tmix = \",Tmix)\n",
    "print(\"\")\n",
    "print(\"(e)   A,       A^2,      A^5,     A^10,     A^100\")\n",
    "plt.tight_layout()\n",
    "plt.subplots_adjust(top=0.85)\n",
    "plt.show()\n",
    "\n",
    "plt.figure(num=None, figsize=(20, 10), dpi=50, facecolor='w', edgecolor='k')\n",
    "plt.plot()\n",
    "plt.imshow(np.squeeze(np.asarray(np.transpose(Sequence))), interpolation='nearest', cmap = cm.Greys_r)\n",
    "plt.grid(True)\n",
    "plt.show()\n",
    "print(\"From the figure above, we can see that around T=10 the distribution starts to stabilize.\")\n",
    "print(\"With epsilon 1e-8 Tmix came out to be\", Tmix)"
   ]
  },
  {
   "cell_type": "code",
   "execution_count": 102,
   "metadata": {
    "collapsed": false
   },
   "outputs": [
    {
     "name": "stdout",
     "output_type": "stream",
     "text": [
      "(f)\n"
     ]
    },
    {
     "data": {
      "image/png": "[encoded data removed]",
      "text/plain": [
       "<matplotlib.figure.Figure at 0x7f4d4aa094e0>"
      ]
     },
     "metadata": {},
     "output_type": "display_data"
    }
   ],
   "source": [
    "###  f\n",
    "N = 1000\n",
    "Trajectories = []\n",
    "\n",
    "for i in range(N):\n",
    "\tXs = []\n",
    "\tX = np.random.randint(6)\n",
    "\tXs.append(X)\n",
    "\tfor t in range(Tmix):\n",
    "\t\tArr = np.random.multinomial(1, np.squeeze(np.asarray(A[:,X])))\n",
    "\t\tX = (Arr==1).argmax()\n",
    "\t\tXs.append(X)\n",
    "\tTrajectories.append(Xs)\n",
    "\n",
    "Histogram = np.zeros((6,Tmix + 1))\n",
    "for i in range(N):\n",
    "\tfor t in range(Tmix + 1):\n",
    "\t\tHistogram[Trajectories[i][t]][t] += 1. / N\n",
    "\n",
    "print(\"(f)\")\n",
    "plt.imshow(Histogram, interpolation='nearest', cmap = cm.Greys_r)\n",
    "plt.grid(True)\n",
    "plt.show()"
   ]
  },
  {
   "cell_type": "code",
   "execution_count": 100,
   "metadata": {
    "collapsed": false
   },
   "outputs": [
    {
     "name": "stdout",
     "output_type": "stream",
     "text": [
      "(g)\n",
      "\n",
      "Histogram of 1000     Stationary \n",
      "Dependent Samples     Distribution\n"
     ]
    },
    {
     "data": {
      "image/png": "[encoded data removed]",
      "text/plain": [
       "<matplotlib.figure.Figure at 0x7f4d4a7ebf60>"
      ]
     },
     "metadata": {},
     "output_type": "display_data"
    }
   ],
   "source": [
    "###   g\n",
    "SingleTraj = []\n",
    "X = np.random.randint(6)\n",
    "for t in range(Tmix + N):\n",
    "\tArr = np.random.multinomial(1, np.squeeze(np.asarray(A[:,X])))\n",
    "\tX = (Arr==1).argmax()\n",
    "\tif t > Tmix:\n",
    "\t\tSingleTraj.append(X)\n",
    "\n",
    "SingleHist = np.zeros((6,1))\n",
    "for t in range(N-1):\n",
    "\tSingleHist[SingleTraj[t]] += 1. / N\n",
    "    \n",
    "fig, (ax1, ax2) = plt.subplots(1,2)\n",
    "\n",
    "print(\"(g)\")\n",
    "print()\n",
    "print(\"Histogram of 1000     Stationary \")\n",
    "print(\"Dependent Samples     Distribution\")\n",
    "ax1.imshow(SingleHist, interpolation='nearest', cmap = cm.Greys_r)\n",
    "ax2.imshow(np.real(P), interpolation='nearest', cmap = cm.Greys_r)\n",
    "ax1.xaxis.set_visible(False)\n",
    "ax2.xaxis.set_visible(False)\n",
    "plt.grid(True)\n",
    "plt.show()"
   ]
  },
  {
   "cell_type": "code",
   "execution_count": null,
   "metadata": {
    "collapsed": true
   },
   "outputs": [],
   "source": []
  }
 ],
 "metadata": {
  "kernelspec": {
   "display_name": "Python 3",
   "language": "python",
   "name": "python3"
  },
  "language_info": {
   "codemirror_mode": {
    "name": "ipython",
    "version": 3
   },
   "file_extension": ".py",
   "mimetype": "text/x-python",
   "name": "python",
   "nbconvert_exporter": "python",
   "pygments_lexer": "ipython3",
   "version": "3.5.1"
  }
 },
 "nbformat": 4,
 "nbformat_minor": 0
}
