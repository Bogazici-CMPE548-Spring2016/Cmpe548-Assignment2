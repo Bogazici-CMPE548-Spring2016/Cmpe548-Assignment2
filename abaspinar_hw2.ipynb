{
 "cells": [
  {
   "cell_type": "code",
   "execution_count": 23,
   "metadata": {
    "collapsed": false
   },
   "outputs": [
    {
     "name": "stdout",
     "output_type": "stream",
     "text": [
      "Question 1\n",
      "Area:  0.666583331691\n",
      "Variance:  0.840405663533\n",
      "Question 2\n",
      "a) [[ 0.25  0.    0.    0.    0.    0.25]\n",
      " [ 0.25  0.25  0.25  0.25  0.25  0.25]\n",
      " [ 0.25  0.25  0.    0.5   0.25  0.25]\n",
      " [ 0.    0.    0.5   0.    0.    0.  ]\n",
      " [ 0.    0.25  0.    0.    0.25  0.  ]\n",
      " [ 0.25  0.25  0.25  0.25  0.25  0.25]]\n",
      "b) [ 0.08333333  0.25        0.22222222  0.11111111  0.08333333  0.25      ]\n",
      "Transpose of the transition matrix is taken to calculate eigen vectors rather than left eigenvectors. As stationary distribution shows, it is not uniform distribution.\n",
      "c) False\n",
      "d) Tmix:  24\n",
      "e)\n"
     ]
    },
    {
     "data": {
      "image/png": "[encoded data removed]",
      "text/plain": [
       "<matplotlib.figure.Figure at 0x10deb1450>"
      ]
     },
     "metadata": {},
     "output_type": "display_data"
    }
   ],
   "source": [
    "%matplotlib inline\n",
    "import numpy as np\n",
    "from scipy.linalg import eig\n",
    "import matplotlib.pyplot as plt\n",
    "\n",
    "#Question 1\n",
    "print 'Question 1'\n",
    "def getfx(x,p):\n",
    "    return np.power(1-np.power(abs(x),p),1.0/p)\n",
    "\n",
    "N = 1000\n",
    "totalSum = 0\n",
    "i = 0\n",
    "samples = []\n",
    "while i < N:\n",
    "    x = np.random.exponential(scale=0.5, size=None)\n",
    "    if x >= 0 and x <= 1:\n",
    "        fx = getfx(x,0.5)\n",
    "        px = 1 #uniform distribution\n",
    "        gx = 2*np.exp(-2*x) # sample from exponential distribution\n",
    "        totalSum += (fx*px)/gx\n",
    "        samples.append(4*fx) # for the 4 side\n",
    "    i += 1\n",
    "\n",
    "print 'Area: ',(4*totalSum)/N\n",
    "print 'Variance: ',np.var(samples)\n",
    "\n",
    "\n",
    "#Question 2\n",
    "print 'Question 2'\n",
    "#a\n",
    "t = np.array([[0.25, 0.25, 0.25, 0, 0, 0.25],\n",
    "              [  0, 0.25,   0.25,   0, 0.25,   0.25],\n",
    "              [  0,   0.25,   0, 0.5,   0,   0.25],\n",
    "              [0, 0.25, 0.5,   0, 0, 0.25],\n",
    "              [0, 0.25, 0.25, 0, 0.25, 0.25],\n",
    "              [0.25,   0.25,   0.25,   0,   0, 0.25]])\n",
    "T = t.T\n",
    "print 'a)',T\n",
    "\n",
    "#b\n",
    "S,U = eig(T)\n",
    "stationary = np.array(U[:,np.where(np.abs(S-1.) < 1e-8)[0][0]].flat)\n",
    "stationary = (stationary / np.sum(stationary))\n",
    "\n",
    "print 'b)',stationary\n",
    "\n",
    "print 'Transpose of the transition matrix is taken to calculate eigen vectors rather than left eigenvectors. As stationary distribution shows, it is not uniform distribution.'\n",
    "\n",
    "#c\n",
    "print 'c)',np.allclose(np.dot(T,np.diag(stationary)),np.dot(T,np.diag(stationary)).T)\n",
    "\n",
    "#d\n",
    "eps = 1e-8\n",
    "pi_0 = np.array([1,0,0,0,0,0])\n",
    "pi_t = np.dot(T,pi_0)\n",
    "Tmix = 1\n",
    "while np.sum(np.abs(stationary-pi_t))/2 >= eps:\n",
    "    pi_t = np.dot(T,pi_t)\n",
    "    Tmix += 1\n",
    "print 'd)','Tmix: ',Tmix\n",
    "\n",
    "#e\n",
    "powers = [1,2,3,5,6,15,24,30]\n",
    "fig, ax = plt.subplots(nrows=1, ncols=8, figsize=(20,4))\n",
    "i = 0\n",
    "for power in powers:\n",
    "    ax[i].imshow(np.linalg.matrix_power(T, power), cmap='hot', interpolation='none')\n",
    "    ax[i].set_title(\"$T^{%d}$\" % power)\n",
    "    i += 1\n",
    "print 'e)'\n",
    "plt.show()"
   ]
  },
  {
   "cell_type": "code",
   "execution_count": null,
   "metadata": {
    "collapsed": true
   },
   "outputs": [],
   "source": []
  }
 ],
 "metadata": {
  "kernelspec": {
   "display_name": "Python 2",
   "language": "python",
   "name": "python2"
  },
  "language_info": {
   "codemirror_mode": {
    "name": "ipython",
    "version": 2
   },
   "file_extension": ".py",
   "mimetype": "text/x-python",
   "name": "python",
   "nbconvert_exporter": "python",
   "pygments_lexer": "ipython2",
   "version": "2.7.11"
  }
 },
 "nbformat": 4,
 "nbformat_minor": 0
}
