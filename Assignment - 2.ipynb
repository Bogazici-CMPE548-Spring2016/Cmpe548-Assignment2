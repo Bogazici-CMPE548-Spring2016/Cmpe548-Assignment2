{
 "cells": [
  {
   "cell_type": "markdown",
   "metadata": {},
   "source": [
    "Assignment - 2 Cagatay Sahin"
   ]
  },
  {
   "cell_type": "code",
   "execution_count": 14,
   "metadata": {
    "collapsed": false
   },
   "outputs": [],
   "source": [
    "%matplotlib inline\n",
    "import numpy as np\n",
    "import matplotlib.pyplot as plt\n",
    "import seaborn as sns"
   ]
  },
  {
   "cell_type": "markdown",
   "metadata": {},
   "source": [
    "## PART 2"
   ]
  },
  {
   "cell_type": "markdown",
   "metadata": {},
   "source": [
    "### (a) Transition Matrix"
   ]
  },
  {
   "cell_type": "code",
   "execution_count": 15,
   "metadata": {
    "collapsed": false
   },
   "outputs": [
    {
     "name": "stdout",
     "output_type": "stream",
     "text": [
      "[[ 0.25  0.    0.    0.    0.    0.25]\n",
      " [ 0.25  0.25  0.25  0.25  0.25  0.25]\n",
      " [ 0.25  0.25  0.    0.5   0.25  0.25]\n",
      " [ 0.    0.    0.5   0.    0.    0.  ]\n",
      " [ 0.    0.25  0.    0.    0.25  0.  ]\n",
      " [ 0.25  0.25  0.25  0.25  0.25  0.25]]\n"
     ]
    }
   ],
   "source": [
    "#Cell (j,i) denotes P(top face transition from i to j)\n",
    "A = np.array(\n",
    "[[ 0.25, 0   ,  0   ,  0   , 0   ,  0.25],\n",
    " [ 0.25, 0.25,  0.25,  0.25, 0.25,  0.25],\n",
    " [ 0.25, 0.25,  0   ,  0.5 , 0.25,  0.25],\n",
    " [ 0   , 0   ,  0.5 ,  0   , 0   ,  0   ],\n",
    " [ 0   , 0.25,  0   ,  0   , 0.25,  0   ],\n",
    " [ 0.25, 0.25,  0.25,  0.25, 0.25,  0.25]])\n",
    "\n",
    "print A"
   ]
  },
  {
   "cell_type": "markdown",
   "metadata": {
    "collapsed": true
   },
   "source": [
    "### (b) Stationary Distribution of A"
   ]
  },
  {
   "cell_type": "code",
   "execution_count": 16,
   "metadata": {
    "collapsed": false
   },
   "outputs": [
    {
     "name": "stdout",
     "output_type": "stream",
     "text": [
      "Stationary distribution:  [ 0.08333333+0.j  0.25000000+0.j  0.22222222+0.j  0.11111111+0.j\n",
      "  0.08333333+0.j  0.25000000+0.j]\n"
     ]
    }
   ],
   "source": [
    "eig_val, eig_vec = np.linalg.eig(A)\n",
    "i = np.argmax(np.isclose(eig_val, 1.0))\n",
    "stat_dist = eig_vec[:, i] \n",
    "stat_dist /= sum(stat_dist) \n",
    "print 'Stationary distribution: ', stat_dist "
   ]
  },
  {
   "cell_type": "markdown",
   "metadata": {},
   "source": [
    "This distribution is not uniform."
   ]
  },
  {
   "cell_type": "markdown",
   "metadata": {},
   "source": [
    "### (c) Detailed Balance Condition"
   ]
  },
  {
   "cell_type": "code",
   "execution_count": 17,
   "metadata": {
    "collapsed": false
   },
   "outputs": [
    {
     "name": "stdout",
     "output_type": "stream",
     "text": [
      "Satisfy detailed balance?:  False\n"
     ]
    }
   ],
   "source": [
    "prod = np.multiply(A, stat_dist)\n",
    "print 'Satisfy detailed balance?: ', np.allclose(prod, prod.T)"
   ]
  },
  {
   "cell_type": "markdown",
   "metadata": {},
   "source": [
    "### (d) T_mix"
   ]
  },
  {
   "cell_type": "code",
   "execution_count": 18,
   "metadata": {
    "collapsed": false
   },
   "outputs": [
    {
     "name": "stdout",
     "output_type": "stream",
     "text": [
      "T_mix :  24\n"
     ]
    }
   ],
   "source": [
    "epsilon = 1e-8\n",
    "pi = [1,0,0,0,0,0]\n",
    "T_mix = 1\n",
    "prod = np.dot(A,pi)\n",
    "while np.linalg.norm(prod - stat_dist, ord = 1)*0.5 > epsilon:\n",
    "    prod = np.dot(A,prod)\n",
    "    T_mix = T_mix + 1\n",
    "print 'T_mix : ', T_mix    "
   ]
  },
  {
   "cell_type": "markdown",
   "metadata": {},
   "source": [
    "### (e) Intermediary Powers of A"
   ]
  },
  {
   "cell_type": "code",
   "execution_count": 35,
   "metadata": {
    "collapsed": false
   },
   "outputs": [
    {
     "data": {
      "image/png": "[encoded data removed]",
      "text/plain": [
       "<matplotlib.figure.Figure at 0x8734cc0>"
      ]
     },
     "metadata": {},
     "output_type": "display_data"
    }
   ],
   "source": [
    "fig, ax = plt.subplots(1, 6, figsize=(20,5))\n",
    "for i, t in enumerate([1, 3, 7, 10, 24, 50]):\n",
    "    ax[i].imshow(np.linalg.matrix_power(A, t), interpolation = \"none\", cmap = \"Blues\")\n",
    "    ax[i].set_title(\"$t = %d$\" % t)\n",
    "fig.show()"
   ]
  },
  {
   "cell_type": "markdown",
   "metadata": {},
   "source": [
    "### (f) Multiple chain runs"
   ]
  },
  {
   "cell_type": "code",
   "execution_count": 67,
   "metadata": {
    "collapsed": false
   },
   "outputs": [
    {
     "data": {
      "image/png": "[encoded data removed]",
      "text/plain": [
       "<matplotlib.figure.Figure at 0xc7f45c0>"
      ]
     },
     "metadata": {},
     "output_type": "display_data"
    }
   ],
   "source": [
    "#This method returns single chain\n",
    "def get_chain(A, chain_len):\n",
    "    chain = np.zeros(chain_len).astype(int)\n",
    "    for i in range(1,chain_len):\n",
    "        prob = A[:, chain[i-1]]\n",
    "        chain[i] = np.random.choice(range(6), p = prob)\n",
    "    return chain\n",
    "\n",
    "#Length of chain\n",
    "atleast_T_mix = 30\n",
    "#Number of chains\n",
    "N = 1000\n",
    "\n",
    "chains = np.zeros([N, atleast_T_mix]).astype(int)\n",
    "\n",
    "for i in range(0, N):\n",
    "    chain = get_chain(A, atleast_T_mix)\n",
    "    chains[i,:] = chain\n",
    "\n",
    "#Generate histogram\n",
    "histogram = np.zeros((6,atleast_T_mix),dtype=np.float)\n",
    "for i in range(0,atleast_T_mix):\n",
    "    histogram[:,i], bins = np.histogram(chains[:,i], bins = range(0,7))\n",
    "    histogram[:,i] = histogram[:,i]\n",
    "\n",
    "fig, ax = plt.subplots(figsize=(20, 5))\n",
    "im = ax.imshow(histogram, cmap='Blues', interpolation='none')\n",
    "fig.colorbar(im)\n",
    "plt.show()"
   ]
  },
  {
   "cell_type": "code",
   "execution_count": 106,
   "metadata": {
    "collapsed": false
   },
   "outputs": [
    {
     "data": {
      "image/png": "[encoded data removed]",
      "text/plain": [
       "<matplotlib.figure.Figure at 0xc7dc0b8>"
      ]
     },
     "metadata": {},
     "output_type": "display_data"
    }
   ],
   "source": [
    "chain = get_chain(A, 1000 + atleast_T_mix)\n",
    "samples, bins = np.histogram(chain[atleast_T_mix:], bins = range(0,7), density = True)\n",
    " \n",
    "plt.hist( chain[atleast_T_mix:], bins = range(0,7))\n",
    "plt.title('Histogram')\n",
    "plt.xticks((np.arange(0,6) + 0.5), range(1,7))\n",
    "plt.show()"
   ]
  },
  {
   "cell_type": "code",
   "execution_count": 92,
   "metadata": {
    "collapsed": false
   },
   "outputs": [
    {
     "name": "stdout",
     "output_type": "stream",
     "text": [
      "First Eigenvector:  [ 0.08333333+0.j  0.25000000+0.j  0.22222222+0.j  0.11111111+0.j\n",
      "  0.08333333+0.j  0.25000000+0.j]\n"
     ]
    }
   ],
   "source": [
    "print \"First Eigenvector: \", stat_dist;"
   ]
  },
  {
   "cell_type": "code",
   "execution_count": 108,
   "metadata": {
    "collapsed": false
   },
   "outputs": [
    {
     "name": "stdout",
     "output_type": "stream",
     "text": [
      "Samples:  [ 0.083  0.237  0.234  0.11   0.088  0.248]\n"
     ]
    }
   ],
   "source": [
    "print \"Samples: \" , samples / sum(samples)"
   ]
  },
  {
   "cell_type": "markdown",
   "metadata": {},
   "source": [
    "Samples are clearly consistent with the first eigenvector."
   ]
  }
 ],
 "metadata": {
  "kernelspec": {
   "display_name": "Python 2",
   "language": "python",
   "name": "python2"
  },
  "language_info": {
   "codemirror_mode": {
    "name": "ipython",
    "version": 2
   },
   "file_extension": ".py",
   "mimetype": "text/x-python",
   "name": "python",
   "nbconvert_exporter": "python",
   "pygments_lexer": "ipython2",
   "version": "2.7.11"
  }
 },
 "nbformat": 4,
 "nbformat_minor": 0
}
