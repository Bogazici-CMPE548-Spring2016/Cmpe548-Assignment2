{
 "cells": [
  {
   "cell_type": "markdown",
   "metadata": {},
   "source": [
    "## CMPE 548 - Assignment 2"
   ]
  },
  {
   "cell_type": "code",
   "execution_count": 1,
   "metadata": {
    "collapsed": false
   },
   "outputs": [],
   "source": [
    "%matplotlib inline\n",
    "import matplotlib as mpl\n",
    "import matplotlib.pyplot as plt\n",
    "import seaborn as sns\n",
    "from mpl_toolkits.mplot3d import Axes3D\n",
    "\n",
    "import numpy as np\n",
    "from numpy import linalg as LA\n",
    "from scipy.stats import multivariate_normal"
   ]
  },
  {
   "cell_type": "code",
   "execution_count": 2,
   "metadata": {
    "collapsed": true
   },
   "outputs": [],
   "source": [
    "def norm(x,p): # p-norm of vector x\n",
    "    xx = np.power(np.absolute(x),p)\n",
    "    return np.power(np.sum(xx,axis=1),1.0/p)"
   ]
  },
  {
   "cell_type": "markdown",
   "metadata": {},
   "source": [
    "### 1. Importance Sampling"
   ]
  },
  {
   "cell_type": "markdown",
   "metadata": {},
   "source": [
    "#### First Method"
   ]
  },
  {
   "cell_type": "markdown",
   "metadata": {},
   "source": [
    "Let $p(x) = \\dfrac{\\mathbf{1}_{\\|x\\|_p\\leq 1}}{Z} $ be the uniform distribution on unit $p$-norm ball with area $Z$.\n",
    "\n",
    "$$\n",
    "1 = \\int p(x) \\, dx = \\int \\dfrac{\\mathbf{1}_{\\|x\\|_p\\leq 1}}{Z} \\, dx \n",
    "= \\int \\dfrac{\\mathbf{1}_{\\|x\\|_p\\leq 1}}{Z} \\dfrac{q(x)}{q(x)} \\, dx\n",
    "= \\dfrac{1}{Z} \\left< \\dfrac{\\mathbf{1}_{\\|x\\|_p\\leq 1}}{q(x)} \\right>_{q(x)}\n",
    "$$"
   ]
  },
  {
   "cell_type": "markdown",
   "metadata": {},
   "source": [
    "Let define $w(x) = \\dfrac{\\mathbf{1}_{\\|x\\|_p\\leq 1}}{q(x)} $. Therefore,\n",
    "\n",
    "$$\n",
    "Z = \\left< w(x) \\right>_{q(x)}\n",
    "$$"
   ]
  },
  {
   "cell_type": "markdown",
   "metadata": {},
   "source": [
    "And the variance $w(x)$ is calculated by\n",
    "\n",
    "$$\n",
    "\\sigma^2_{w(x)} = \\left< w^2(x) \\right>_{q(x)} - \\left< w(x) \\right>_{q(x)}^2 = \\left< w^2(x) \\right>_{q(x)} - Z^2\n",
    "$$"
   ]
  },
  {
   "cell_type": "markdown",
   "metadata": {},
   "source": [
    "If we draw N samples $x_1,x_2,\\cdots, x_N$ from $q(x)$ and use $\\hat{Z} = \\dfrac{\\sum^N_{i=1} w(x_i)}{N}$ as an estimator of $Z$, then the variance of this estimator is $\\dfrac{\\sigma^2_{wx}}{N}$. And the $\\sigma^2_{wx}$ can be estimated by\n",
    "\n",
    "$$\n",
    "s^2 = \\dfrac{\\sum^N_{i=1} (\\hat{Z}-w(x_i))^2}{N-1}\n",
    "$$"
   ]
  },
  {
   "cell_type": "markdown",
   "metadata": {},
   "source": [
    "Choose $q(x) = \\dfrac{1}{2} \\mathcal{N}(x;0,\\text{diag}(\\sigma^2_1,\\sigma^2_2)) + \\dfrac{1}{2} \\mathcal{N}(x;0,\\text{diag}(\\sigma^2_2,\\sigma^2_1))$."
   ]
  },
  {
   "cell_type": "code",
   "execution_count": 3,
   "metadata": {
    "collapsed": false
   },
   "outputs": [],
   "source": [
    "sigma1,sigma2 = (1.0/3)**2,(1.0/8)**2\n",
    "cov1 = np.diag([sigma1,sigma2])\n",
    "cov2 = np.diag([sigma2,sigma1])"
   ]
  },
  {
   "cell_type": "code",
   "execution_count": 4,
   "metadata": {
    "collapsed": false
   },
   "outputs": [],
   "source": [
    "q = lambda x: 0.5 * multivariate_normal.pdf(x,[0,0],cov1) + 0.5 * multivariate_normal.pdf(x,[0,0],cov2)\n",
    "w = lambda x: (norm(x,0.5)<= 1)/q(x)"
   ]
  },
  {
   "cell_type": "code",
   "execution_count": 5,
   "metadata": {
    "collapsed": false
   },
   "outputs": [],
   "source": [
    "def generateSampleFromMixture(N=1):\n",
    "    global cov1,cov2\n",
    "    sample = np.zeros([N,2])\n",
    "    for i in range(N):\n",
    "        u = np.random.rand();\n",
    "        if u<0.5:\n",
    "            sample[i,:] = np.random.multivariate_normal([0,0],cov1)\n",
    "        else:\n",
    "            sample[i,:] = np.random.multivariate_normal([0,0],cov1)\n",
    "    return sample;"
   ]
  },
  {
   "cell_type": "code",
   "execution_count": 6,
   "metadata": {
    "collapsed": false
   },
   "outputs": [
    {
     "name": "stdout",
     "output_type": "stream",
     "text": [
      "Estimation of Area =  0.651955848379\n",
      "Variance of Estimator =  0.000629015360091\n",
      "Standard Deviation of Estimator =  0.0250801786296\n"
     ]
    }
   ],
   "source": [
    "N = 1000;\n",
    "x = generateSampleFromMixture(N)\n",
    "W = w(x)\n",
    "Z = np.mean(W)\n",
    "Var = np.var(W)/N\n",
    "print \"Estimation of Area = \",Z\n",
    "print \"Variance of Estimator = \", Var\n",
    "print \"Standard Deviation of Estimator = \", np.sqrt(Var)"
   ]
  },
  {
   "cell_type": "markdown",
   "metadata": {},
   "source": [
    "#### Second Method"
   ]
  },
  {
   "cell_type": "markdown",
   "metadata": {},
   "source": [
    "Another approach would be as follows, let $p(r,\\theta)$ be a uniform distribution in the euclidean unit norm ball and have the following form\n",
    "\n",
    "\\begin{equation}\n",
    "\\begin{split}\n",
    "p(r,\\theta) &= p(r)p(\\theta) \\\\\n",
    "p(\\theta) &= \\mathcal{U}(\\theta;0,2\\pi) \\\\\n",
    "p(r) &= 2r \\\\\n",
    "\\end{split}\n",
    "\\end{equation}\n",
    "\n",
    "and x = $\\begin{bmatrix} r\\cos{\\theta} \\\\ r\\sin{\\theta} \\end{bmatrix}$ be the sample generated from $p(r,\\theta)$. Then the area of unit $p$-norm ball $Z = \\pi P(\\|x\\|_p \\leq 1)$.\n",
    "\n",
    "\\begin{equation}\n",
    "\\begin{split}\n",
    "P(\\|x\\|_p \\leq 1) &= P(r(\\cos^p{\\theta} + \\sin^p{\\theta})^{1/p} \\leq 1) \\\\\n",
    "&= P \\left(r \\leq \\dfrac{1}{(|\\cos{\\theta}|^p + |\\sin{\\theta}|^p)^{1/p}}\\right)\n",
    "\\end{split}\n",
    "\\end{equation}\n",
    "\n",
    "Define $r_p(\\theta) = \\dfrac{1}{(|\\cos{\\theta}|^p + |\\sin{\\theta}|^p)^{1/p}}$. So,\n",
    "\n",
    "\\begin{equation}\n",
    "\\begin{split}\n",
    "P(\\|x\\|_p \\leq 1) &= P(r \\leq r_p(\\theta)) \\\\\n",
    "&= \\int_\\theta \\int_r \\mathbf{1}_{r \\leq r_p(\\theta)} p(r,\\theta)\\, dr \\, d\\theta \\\\\n",
    "&= \\int_\\theta \\int_r \\mathbf{1}_{r \\leq r_p(\\theta)} 2r \\, p(\\theta)\\, dr \\, d\\theta \\\\\n",
    "&= \\int_\\theta \\int^{r_p(\\theta)}_0 2r \\, p(\\theta)\\, dr \\, d\\theta \\\\\n",
    "&= \\int_\\theta r^2_p(\\theta) \\, p(\\theta)\\, d\\theta \\\\\n",
    "\\end{split}\n",
    "\\end{equation}\n",
    "\n",
    "\\begin{equation}\n",
    "\\begin{split}\n",
    "Z = &= \\pi P(\\|x\\|_p \\leq 1) \\\\\n",
    "&= \\pi \\int_\\theta r^2_p(\\theta) \\, p(\\theta)\\, d\\theta \\\\\n",
    "&= \\int_\\theta \\pi r^2_p(\\theta) \\, p(\\theta)\\, d\\theta \\\\\n",
    "&= \\left< \\pi r^2_p(\\theta) \\right>_{p(\\theta)}\n",
    "\\end{split}\n",
    "\\end{equation}"
   ]
  },
  {
   "cell_type": "code",
   "execution_count": 7,
   "metadata": {
    "collapsed": true
   },
   "outputs": [],
   "source": [
    "N=1000;\n",
    "r_p = lambda theta,p : 1.0/ (np.abs(np.cos(theta))**p +np.abs(np.sin(theta))**p)**(1.0/p)"
   ]
  },
  {
   "cell_type": "code",
   "execution_count": 8,
   "metadata": {
    "collapsed": false
   },
   "outputs": [
    {
     "name": "stdout",
     "output_type": "stream",
     "text": [
      "Estimation of Area =  0.669119048487\n",
      "Variance of Estimator =  0.000159046723026\n",
      "Standard Deviation of Estimator =  0.0126113727653\n"
     ]
    }
   ],
   "source": [
    "theta = np.random.rand(N) * 2 * np.pi\n",
    "sample = np.pi * (r_p(theta,0.5)**2)\n",
    "Z = np.mean(sample)\n",
    "Var = np.var(sample)/N\n",
    "print \"Estimation of Area = \",Z\n",
    "print \"Variance of Estimator = \", Var\n",
    "print \"Standard Deviation of Estimator = \", np.sqrt(Var)"
   ]
  },
  {
   "cell_type": "markdown",
   "metadata": {},
   "source": [
    "### 2. Markov Chain"
   ]
  },
  {
   "cell_type": "markdown",
   "metadata": {},
   "source": [
    "#### (a) Transition Matrix"
   ]
  },
  {
   "cell_type": "markdown",
   "metadata": {},
   "source": [
    "In a 6-sided die, opposite faces add up to 7. Therefore, if $n_{t-1}$ is on the top, and $f_t$ is chosen, then $n_t \\in \\{n_{t-1},7-n_{t-1}, f_{t}, 7 - f_{t}\\}$. At first rotation, opposite of $f_t$ comes to the top. At second, opposite of $n_{t-1}$ comes to the top. At third, $f_t$ comes to the top. And at fourth rotation, $n_{t-1}$ comes to the top. \n",
    "\n",
    "Let $F_t = \\begin{bmatrix} n_{t-1} & 7 - f_{t} & 7-n_{t-1} & f_{t} \\end{bmatrix}$. Then, $n_t = F_t(\\ f_t \\mod 4 )$. We can construct transtion matrix, by adding $1/4$ to $A_{n_t,n_{t-1}}$ for each different $(n_{t-1},f_t)$ tuple. So,\n",
    "\n",
    "$$\n",
    "A = \\begin{bmatrix}\n",
    "1/4 & 0   & 0   & 0   & 0   & 1/4 \\\\\n",
    "1/4 & 1/4 & 1/4 & 1/4 & 1/4 & 1/4 \\\\\n",
    "1/4 & 1/4 & 0   & 1/2 & 1/4 & 1/4 \\\\\n",
    "0   & 0   & 1/2 & 0   & 0   & 0   \\\\\n",
    "0   & 1/4 & 0   & 0   & 1/4 & 0   \\\\\n",
    "1/4 & 1/4 & 1/4 & 1/4 & 1/4 & 1/4 \\\\\n",
    "\\end{bmatrix}\n",
    "$$"
   ]
  },
  {
   "cell_type": "code",
   "execution_count": 9,
   "metadata": {
    "collapsed": true
   },
   "outputs": [],
   "source": [
    "A = np.array([[ 0.25, 0,    0,    0,    0,    0.25],\n",
    "              [ 0.25, 0.25, 0.25, 0.25, 0.25, 0.25],\n",
    "              [ 0.25, 0.25, 0,    0.5,  0.25, 0.25],\n",
    "              [  0,   0,    0.5,  0,    0,    0   ],\n",
    "              [  0,   0.25, 0,    0,    0.25, 0   ],\n",
    "              [ 0.25, 0.25, 0.25, 0.25, 0.25, 0.25]]);"
   ]
  },
  {
   "cell_type": "markdown",
   "metadata": {},
   "source": [
    "#### (b) Stationary Distribution via Eigenvalues"
   ]
  },
  {
   "cell_type": "markdown",
   "metadata": {},
   "source": [
    "The chain is aperiodic, because it has loops and is irreducible, because every state is accessible for every initial state. Therefore, the chain is ergodic and has a stationary distribution. Stationary distribution of $A$ is its eigenvector corresponding $\\lambda = 1$."
   ]
  },
  {
   "cell_type": "code",
   "execution_count": 10,
   "metadata": {
    "collapsed": false
   },
   "outputs": [
    {
     "name": "stdout",
     "output_type": "stream",
     "text": [
      "Stationary Distribution:\n",
      "[ 0.08333333  0.25        0.22222222  0.11111111  0.08333333  0.25      ]\n"
     ]
    }
   ],
   "source": [
    "es, vs = np.linalg.eig(A)\n",
    "i = np.argmax(np.isclose(es, 1.0))\n",
    "pi = vs[:, i]\n",
    "pi = pi / sum(pi)\n",
    "print \"Stationary Distribution:\\n\", pi"
   ]
  },
  {
   "cell_type": "markdown",
   "metadata": {},
   "source": [
    "Stationary distribution is not uniform."
   ]
  },
  {
   "cell_type": "markdown",
   "metadata": {},
   "source": [
    "#### (c) Detailed Balance\n",
    "\n",
    "Define $B$ matrix so that, $B_{ij} = A_{ij}\\pi_j$. Detailed balance condition $A_{ij}\\pi_j = A_{ji}\\pi_i$ is satisfied iff $B_{ij} = B_{ji}$ which means $B$ is symmetric."
   ]
  },
  {
   "cell_type": "code",
   "execution_count": 11,
   "metadata": {
    "collapsed": false
   },
   "outputs": [
    {
     "name": "stdout",
     "output_type": "stream",
     "text": [
      "B =\n",
      "[[ 0.02083333  0.          0.          0.          0.          0.0625    ]\n",
      " [ 0.02083333  0.0625      0.05555556  0.02777778  0.02083333  0.0625    ]\n",
      " [ 0.02083333  0.0625      0.          0.05555556  0.02083333  0.0625    ]\n",
      " [ 0.          0.          0.11111111  0.          0.          0.        ]\n",
      " [ 0.          0.0625      0.          0.          0.02083333  0.        ]\n",
      " [ 0.02083333  0.0625      0.05555556  0.02777778  0.02083333  0.0625    ]]\n",
      "Detailed balance condition:  False\n"
     ]
    }
   ],
   "source": [
    "B = np.einsum(\"ij,j->ij\",A,pi)\n",
    "print \"B =\\n\", B\n",
    "print \"Detailed balance condition: \",np.allclose(B,B.T)"
   ]
  },
  {
   "cell_type": "markdown",
   "metadata": {},
   "source": [
    "Detailed balance condition is not satisfied."
   ]
  },
  {
   "cell_type": "markdown",
   "metadata": {},
   "source": [
    "#### (d) Mixture Time"
   ]
  },
  {
   "cell_type": "code",
   "execution_count": 12,
   "metadata": {
    "collapsed": true
   },
   "outputs": [],
   "source": [
    "def var_norm(x,y):\n",
    "    return 0.5 * np.sum(np.abs(x-y))"
   ]
  },
  {
   "cell_type": "code",
   "execution_count": 13,
   "metadata": {
    "collapsed": false
   },
   "outputs": [],
   "source": [
    "epsilon = 1e-8\n",
    "pi_initial = np.array([1,0,0,0,0,0],dtype=np.float)\n",
    "pi_current = np.array([1,0,0,0,0,0],dtype=np.float)\n",
    "d = var_norm(pi,pi_current)\n",
    "Tmix = 0"
   ]
  },
  {
   "cell_type": "code",
   "execution_count": 14,
   "metadata": {
    "collapsed": false
   },
   "outputs": [
    {
     "name": "stdout",
     "output_type": "stream",
     "text": [
      "Mixture Time =  24\n"
     ]
    }
   ],
   "source": [
    "while(d > epsilon):\n",
    "    pi_current = A.dot(pi_current)\n",
    "    d = var_norm(pi,pi_current)\n",
    "    Tmix += 1\n",
    "\n",
    "print \"Mixture Time = \", Tmix "
   ]
  },
  {
   "cell_type": "markdown",
   "metadata": {
    "collapsed": true
   },
   "source": [
    "#### (e) Visualize powers of Transition Matrix"
   ]
  },
  {
   "cell_type": "code",
   "execution_count": 15,
   "metadata": {
    "collapsed": false
   },
   "outputs": [
    {
     "data": {
      "image/png": "[encoded data removed]",
      "text/plain": [
       "<matplotlib.figure.Figure at 0x427bba8>"
      ]
     },
     "metadata": {},
     "output_type": "display_data"
    }
   ],
   "source": [
    "fig, ax = plt.subplots(nrows=1, ncols=4, figsize=(16, 4))\n",
    "for i, n in enumerate([1, 4, 10, Tmix]):\n",
    "    sns.heatmap(np.linalg.matrix_power(A, n), vmin = 0, vmax = 1, ax = ax[i])\n",
    "    ax[i].set_title(\"$n = %d$\" % n)"
   ]
  },
  {
   "cell_type": "code",
   "execution_count": 16,
   "metadata": {
    "collapsed": true
   },
   "outputs": [],
   "source": [
    "n = 50\n",
    "PI = np.zeros([6,n])\n",
    "PI[:,0] = pi_initial\n",
    "for i in range(1,n):\n",
    "    PI[:,i] = A.dot(PI[:,i-1])"
   ]
  },
  {
   "cell_type": "code",
   "execution_count": 17,
   "metadata": {
    "collapsed": false
   },
   "outputs": [
    {
     "data": {
      "image/png": "[encoded data removed]",
      "text/plain": [
       "<matplotlib.figure.Figure at 0x9eefac8>"
      ]
     },
     "metadata": {},
     "output_type": "display_data"
    }
   ],
   "source": [
    "plt.figure(figsize=(16,4))\n",
    "sns.heatmap(PI,vmin=0,vmax=1);\n",
    "plt.title(\"Marginal Distributon Over Iterations\");"
   ]
  },
  {
   "cell_type": "markdown",
   "metadata": {},
   "source": [
    "#### (f) Independent Samples From Chain"
   ]
  },
  {
   "cell_type": "code",
   "execution_count": 18,
   "metadata": {
    "collapsed": true
   },
   "outputs": [],
   "source": [
    "def simulateChain(P, N):\n",
    "    chain = np.zeros(N,dtype=int)\n",
    "    for i in range(1,N):\n",
    "        chain[i] = np.random.choice(range(6), p = P[:, chain[i-1]])\n",
    "    return chain"
   ]
  },
  {
   "cell_type": "code",
   "execution_count": 19,
   "metadata": {
    "collapsed": false
   },
   "outputs": [],
   "source": [
    "N = 1000\n",
    "samples = np.zeros([N, Tmix],dtype=int)\n",
    "for i in range(N):\n",
    "    samples[i,:] = simulateChain(A, Tmix)"
   ]
  },
  {
   "cell_type": "code",
   "execution_count": 20,
   "metadata": {
    "collapsed": false
   },
   "outputs": [
    {
     "data": {
      "image/png": "[encoded data removed]",
      "text/plain": [
       "<matplotlib.figure.Figure at 0xb9015f8>"
      ]
     },
     "metadata": {},
     "output_type": "display_data"
    }
   ],
   "source": [
    "column_histograms = np.apply_along_axis(lambda x: np.histogram(x, bins=[0,1,2,3,4,5,6], density = True)[0], 0, samples)\n",
    "plt.figure(figsize=(16, 4))\n",
    "sns.heatmap(column_histograms)\n",
    "plt.title(\"Densities Before Mixing Time\");"
   ]
  },
  {
   "cell_type": "code",
   "execution_count": 21,
   "metadata": {
    "collapsed": false
   },
   "outputs": [
    {
     "data": {
      "image/png": "[encoded data removed]",
      "text/plain": [
       "<matplotlib.figure.Figure at 0xbb34cc0>"
      ]
     },
     "metadata": {},
     "output_type": "display_data"
    }
   ],
   "source": [
    "X = samples[:,Tmix-1] # independent samples recorded at Tmix\n",
    "sns.distplot(X, norm_hist=True, kde = False, bins = [0,1,2,3,4,5,6], label=\"Simulation\");\n",
    "plt.step(np.hstack((0,pi)),\"g\", label=\"Stationary\");\n",
    "plt.legend();\n",
    "plt.title(\"Independent Samples Histogram\");"
   ]
  },
  {
   "cell_type": "markdown",
   "metadata": {},
   "source": [
    "#### (g) Run a single chain"
   ]
  },
  {
   "cell_type": "code",
   "execution_count": 22,
   "metadata": {
    "collapsed": false
   },
   "outputs": [],
   "source": [
    "single_chain = simulateChain(A,N+Tmix)[Tmix:]"
   ]
  },
  {
   "cell_type": "code",
   "execution_count": 23,
   "metadata": {
    "collapsed": false
   },
   "outputs": [
    {
     "data": {
      "image/png": "[encoded data removed]",
      "text/plain": [
       "<matplotlib.figure.Figure at 0x427be80>"
      ]
     },
     "metadata": {},
     "output_type": "display_data"
    }
   ],
   "source": [
    "sns.distplot(single_chain, norm_hist=True, kde = False, bins = [0,1,2,3,4,5,6], label=\"Simulation\");\n",
    "plt.step(np.hstack((0,pi)),\"g\", label=\"Stationary\");\n",
    "plt.legend();\n",
    "plt.title(\"Single Chain Histogram\");"
   ]
  }
 ],
 "metadata": {
  "kernelspec": {
   "display_name": "Python 2",
   "language": "python",
   "name": "python2"
  },
  "language_info": {
   "codemirror_mode": {
    "name": "ipython",
    "version": 2
   },
   "file_extension": ".py",
   "mimetype": "text/x-python",
   "name": "python",
   "nbconvert_exporter": "python",
   "pygments_lexer": "ipython2",
   "version": "2.7.11"
  }
 },
 "nbformat": 4,
 "nbformat_minor": 0
}
